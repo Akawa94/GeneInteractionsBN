{
 "cells": [
  {
   "cell_type": "code",
   "execution_count": 2,
   "metadata": {},
   "outputs": [],
   "source": [
    "import pandas as pd\n",
    "import numpy as np\n",
    "import csv\n",
    "import gc\n",
    "import os\n",
    "import copy\n",
    "#from sklearn.model_selection import train_test_split\n",
    "from random import randint"
   ]
  },
  {
   "cell_type": "code",
   "execution_count": 2,
   "metadata": {
    "collapsed": true
   },
   "outputs": [],
   "source": [
    "directory='../GeneInteractionsBN_Datasets/Balanced_Batches'\n",
    "if not os.path.exists(directory):\n",
    "    os.makedirs(directory)"
   ]
  },
  {
   "cell_type": "code",
   "execution_count": 35,
   "metadata": {
    "scrolled": true
   },
   "outputs": [
    {
     "name": "stdout",
     "output_type": "stream",
     "text": [
      "Jnk.csv\n",
      "CTNNB1.csv\n",
      "LEF1.csv\n",
      "Ikk2.csv\n",
      "Erk.csv\n",
      "MYC.csv\n",
      "IRF4.csv\n"
     ]
    }
   ],
   "source": [
    "# Building the main train dataset\n",
    "directory = '../GeneInteractionsBN_Datasets/DataGeneCausality/Tt/'\n",
    "Main_train_datasets={}\n",
    "for dataset_filename in os.listdir(directory):\n",
    "    print(dataset_filename)\n",
    "    read_df = pd.read_csv(filepath_or_buffer=os.path.join(directory,dataset_filename),sep=';')\n",
    "    # appending the information\n",
    "    Main_train_datasets[dataset_filename]=read_df.query('(0.01 >= Pvalue ) | ( 0.5 <= Pvalue )')"
   ]
  },
  {
   "cell_type": "code",
   "execution_count": 42,
   "metadata": {},
   "outputs": [],
   "source": [
    "df_header = Main_train_datasets['Jnk.csv'].keys()"
   ]
  },
  {
   "cell_type": "code",
   "execution_count": null,
   "metadata": {
    "scrolled": true
   },
   "outputs": [
    {
     "name": "stdout",
     "output_type": "stream",
     "text": [
      "Censored batches for: Jnk.csv\n",
      "Making n 0 batch\n",
      "Making n 1 batch\n",
      "Making n 2 batch\n",
      "Making n 3 batch\n",
      "Making n 4 batch\n",
      "Making n 5 batch\n",
      "Making n 6 batch\n",
      "Making n 7 batch\n",
      "Making n 8 batch\n",
      "Making n 9 batch\n",
      "Making n 10 batch\n",
      "Making n 11 batch\n",
      "Making n 12 batch\n",
      "Making n 13 batch\n",
      "Making n 14 batch\n",
      "Making n 15 batch\n",
      "Making n 16 batch\n",
      "Making n 17 batch\n",
      "Making n 18 batch\n",
      "Making n 19 batch\n",
      "Making n 20 batch\n",
      "Making n 21 batch\n",
      "Making n 22 batch\n",
      "Making n 23 batch\n",
      "Making n 24 batch\n",
      "Making n 25 batch\n",
      "Making n 26 batch\n",
      "Making n 27 batch\n",
      "Making n 28 batch\n",
      "Making n 29 batch\n",
      "Making n 30 batch\n",
      "Making n 31 batch\n",
      "Making n 32 batch\n",
      "Making n 33 batch\n",
      "Making n 34 batch\n",
      "Making n 35 batch\n",
      "Making n 36 batch\n",
      "Making n 37 batch\n",
      "Making n 38 batch\n",
      "Making n 39 batch\n",
      "Making n 40 batch\n",
      "Making n 41 batch\n",
      "Making n 42 batch\n",
      "Making n 43 batch\n",
      "Making n 44 batch\n",
      "Making n 45 batch\n",
      "Making n 46 batch\n",
      "Making n 47 batch\n",
      "Making n 48 batch\n",
      "Making n 49 batch\n",
      "Making n 50 batch\n",
      "Making n 51 batch\n",
      "Making n 52 batch\n",
      "Making n 53 batch\n",
      "Making n 54 batch\n",
      "Making n 55 batch\n",
      "Making n 56 batch\n",
      "Making n 57 batch\n",
      "Making n 58 batch\n",
      "Making n 59 batch\n",
      "Making n 60 batch\n",
      "Making n 61 batch\n",
      "Making n 62 batch\n",
      "Making n 63 batch\n",
      "Making n 64 batch\n",
      "Making n 65 batch\n",
      "Making n 66 batch\n",
      "Making n 67 batch\n",
      "Making n 68 batch\n",
      "Making n 69 batch\n",
      "Making n 70 batch\n",
      "Making n 71 batch\n",
      "Making n 72 batch\n",
      "Making n 73 batch\n",
      "Making n 74 batch\n",
      "Making n 75 batch\n",
      "Making n 76 batch\n",
      "Making n 77 batch\n",
      "Making n 78 batch\n",
      "Making n 79 batch\n",
      "Making n 80 batch\n",
      "Making n 81 batch\n",
      "Making n 82 batch\n",
      "Making n 83 batch\n",
      "Making n 84 batch\n",
      "Making n 85 batch\n",
      "Making n 86 batch\n",
      "Making n 87 batch\n",
      "Making n 88 batch\n",
      "Making n 89 batch\n",
      "Making n 90 batch\n",
      "Making n 91 batch\n",
      "Making n 92 batch\n",
      "Making n 93 batch\n",
      "Making n 94 batch\n",
      "Making n 95 batch\n",
      "Making n 96 batch\n",
      "Making n 97 batch\n",
      "Making n 98 batch\n",
      "Making n 99 batch\n",
      "Censored batches for: CTNNB1.csv\n",
      "Making n 0 batch\n",
      "Making n 1 batch\n",
      "Making n 2 batch\n",
      "Making n 3 batch\n",
      "Making n 4 batch\n",
      "Making n 5 batch\n",
      "Making n 6 batch\n",
      "Making n 7 batch\n",
      "Making n 8 batch\n",
      "Making n 9 batch\n",
      "Making n 10 batch\n",
      "Making n 11 batch\n",
      "Making n 12 batch\n",
      "Making n 13 batch\n",
      "Making n 14 batch\n",
      "Making n 15 batch\n",
      "Making n 16 batch\n",
      "Making n 17 batch\n",
      "Making n 18 batch\n",
      "Making n 19 batch\n",
      "Making n 20 batch\n",
      "Making n 21 batch\n",
      "Making n 22 batch\n",
      "Making n 23 batch\n",
      "Making n 24 batch\n",
      "Making n 25 batch\n",
      "Making n 26 batch\n",
      "Making n 27 batch\n",
      "Making n 28 batch\n",
      "Making n 29 batch\n",
      "Making n 30 batch\n",
      "Making n 31 batch\n",
      "Making n 32 batch\n",
      "Making n 33 batch\n",
      "Making n 34 batch\n",
      "Making n 35 batch\n",
      "Making n 36 batch\n",
      "Making n 37 batch\n",
      "Making n 38 batch\n",
      "Making n 39 batch\n",
      "Making n 40 batch\n",
      "Making n 41 batch\n",
      "Making n 42 batch\n",
      "Making n 43 batch\n",
      "Making n 44 batch\n",
      "Making n 45 batch\n",
      "Making n 46 batch\n",
      "Making n 47 batch\n",
      "Making n 48 batch\n",
      "Making n 49 batch\n",
      "Making n 50 batch\n",
      "Making n 51 batch\n",
      "Making n 52 batch\n",
      "Making n 53 batch\n",
      "Making n 54 batch\n",
      "Making n 55 batch\n"
     ]
    }
   ],
   "source": [
    "# Dat Size and proportions\n",
    "#files = pd.DataFrame(np.random.randn(10, 5), columns=['a', 'b', 'c', 'd', 'e'])\n",
    "\n",
    "directory = '../GeneInteractionsBN_Datasets/DataGeneCausality/Tt/'\n",
    "n_batches = 100\n",
    "for main_filename in os.listdir(directory):\n",
    "    censored_listdir = copy.deepcopy(os.listdir(directory))\n",
    "    #print(censored_listdir)\n",
    "    censored_listdir.pop(censored_listdir.index(main_filename)) # Censoring one for testing\n",
    "    print(\"Censored batches for: \"+main_filename)\n",
    "    save_folder = '../GeneInteractionsBN_Datasets/Balanced_Batches/'+'censored_'+main_filename.split('.')[0]+'/'\n",
    "    if not os.path.exists(save_folder):\n",
    "        os.makedirs(save_folder)\n",
    "    censored_train_dataset=pd.DataFrame([],columns=df_header)\n",
    "    for filename in censored_listdir:\n",
    "        censored_train_dataset=pd.concat([censored_train_dataset,Main_train_datasets[filename]],ignore_index=True)\n",
    "    \n",
    "    for i in range(0,n_batches):\n",
    "        print(\"Making n \"+str(i)+' batch')\n",
    "        Batch_df=pd.DataFrame([],columns=df_header)\n",
    "        Batch_df=pd.concat([Batch_df,censored_train_dataset.query('Pvalue <= 0.01').sample(n=3000)],ignore_index=True)\n",
    "        Batch_df=pd.concat([Batch_df,censored_train_dataset.query('Pvalue >= 0.5').sample(n=3000)],ignore_index=True)\n",
    "        Batch_df.to_csv(path_or_buf=save_folder+'batch_'+str(i)+'.csv',index=False)\n",
    "    \n",
    "    "
   ]
  },
  {
   "cell_type": "code",
   "execution_count": 5,
   "metadata": {},
   "outputs": [
    {
     "ename": "NameError",
     "evalue": "name 'data_list' is not defined",
     "output_type": "error",
     "traceback": [
      "\u001b[1;31m---------------------------------------------------------------------------\u001b[0m",
      "\u001b[1;31mNameError\u001b[0m                                 Traceback (most recent call last)",
      "\u001b[1;32m<ipython-input-5-a0670f9ddf38>\u001b[0m in \u001b[0;36m<module>\u001b[1;34m()\u001b[0m\n\u001b[0;32m      1\u001b[0m \u001b[0mmarked\u001b[0m \u001b[1;33m=\u001b[0m \u001b[1;36m0\u001b[0m\u001b[1;33m\u001b[0m\u001b[0m\n\u001b[1;32m----> 2\u001b[1;33m \u001b[1;32mfor\u001b[0m \u001b[0mkey\u001b[0m \u001b[1;32min\u001b[0m \u001b[0mdata_list\u001b[0m\u001b[1;33m:\u001b[0m\u001b[1;33m\u001b[0m\u001b[0m\n\u001b[0m\u001b[0;32m      3\u001b[0m     \u001b[1;32mfor\u001b[0m \u001b[0mi\u001b[0m \u001b[1;32min\u001b[0m \u001b[0mdata_list\u001b[0m\u001b[1;33m[\u001b[0m\u001b[0mkey\u001b[0m\u001b[1;33m]\u001b[0m\u001b[1;33m[\u001b[0m\u001b[1;36m1\u001b[0m\u001b[1;33m]\u001b[0m\u001b[1;33m:\u001b[0m\u001b[1;33m\u001b[0m\u001b[0m\n\u001b[0;32m      4\u001b[0m         \u001b[1;32mif\u001b[0m \u001b[0mi\u001b[0m\u001b[1;33m[\u001b[0m\u001b[1;36m2\u001b[0m\u001b[1;33m]\u001b[0m\u001b[1;33m==\u001b[0m\u001b[1;36m1\u001b[0m\u001b[1;33m:\u001b[0m\u001b[1;33m\u001b[0m\u001b[0m\n\u001b[0;32m      5\u001b[0m             \u001b[0mmarked\u001b[0m\u001b[1;33m=\u001b[0m\u001b[0mmarked\u001b[0m\u001b[1;33m+\u001b[0m\u001b[1;36m1\u001b[0m\u001b[1;33m\u001b[0m\u001b[0m\n",
      "\u001b[1;31mNameError\u001b[0m: name 'data_list' is not defined"
     ]
    }
   ],
   "source": [
    "marked = 0\n",
    "for key in data_list:\n",
    "    for i in data_list[key][1]:\n",
    "        if i[2]==1:\n",
    "            marked=marked+1\n",
    "print(marked)"
   ]
  },
  {
   "cell_type": "code",
   "execution_count": 57,
   "metadata": {},
   "outputs": [
    {
     "data": {
      "text/plain": [
       "128"
      ]
     },
     "execution_count": 57,
     "metadata": {},
     "output_type": "execute_result"
    }
   ],
   "source": [
    "n_loops"
   ]
  },
  {
   "cell_type": "code",
   "execution_count": null,
   "metadata": {
    "collapsed": true
   },
   "outputs": [],
   "source": []
  }
 ],
 "metadata": {
  "kernelspec": {
   "display_name": "Python 3",
   "language": "python",
   "name": "python3"
  },
  "language_info": {
   "codemirror_mode": {
    "name": "ipython",
    "version": 3
   },
   "file_extension": ".py",
   "mimetype": "text/x-python",
   "name": "python",
   "nbconvert_exporter": "python",
   "pygments_lexer": "ipython3",
   "version": "3.6.3"
  }
 },
 "nbformat": 4,
 "nbformat_minor": 2
}
