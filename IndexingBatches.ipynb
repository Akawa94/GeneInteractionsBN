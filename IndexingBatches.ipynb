{
 "cells": [
  {
   "cell_type": "code",
   "execution_count": 1,
   "metadata": {},
   "outputs": [],
   "source": [
    "import pandas as pd\n",
    "import numpy as np\n",
    "import csv\n",
    "import gc\n",
    "import os\n",
    "from sklearn.model_selection import train_test_split"
   ]
  },
  {
   "cell_type": "code",
   "execution_count": 2,
   "metadata": {},
   "outputs": [],
   "source": [
    "directory='./Batches'\n",
    "if not os.path.exists(directory):\n",
    "    os.makedirs(directory)"
   ]
  },
  {
   "cell_type": "code",
   "execution_count": null,
   "metadata": {},
   "outputs": [],
   "source": [
    "files = DataFrame(np.random.randn(10, 5), columns=['a', 'b', 'c', 'd', 'e'])\n",
    "directory = './DataGeneCausality/Labeled/'\n",
    "for filename in os.listdir(directory):\n",
    "    if filename.endswith(\".csv\"): \n",
    "        csv = pd.read_csv(filepath_or_buffer=os.path.join(directory, filename), sep=';',header='None')\n",
    "        del csv\n",
    "        gc.collect()\n",
    "        continue\n",
    "    else:\n",
    "        continue"
   ]
  },
  {
   "cell_type": "code",
   "execution_count": null,
   "metadata": {},
   "outputs": [],
   "source": [
    "directory = './DataGeneCausality/Labeled/'\n",
    "for filename in os.listdir(directory):\n",
    "    if filename.endswith(\".csv\"): \n",
    "        print(os.path.join(directory, filename))\n",
    "        csv = pd.read_csv(filepath_or_buffer=os.path.join(directory, filename), sep=';',header='None')\n",
    "        #csv['Target']=list(map(lambda x: 1 if x<=0.01 else (0 if x>=0.5 else np.nan),csv['Pvalue']))\n",
    "        positives = [i for i in csv if i['1']==1]\n",
    "        negatives = [i for i in csv if i['1']==1]\n",
    "        \n",
    "        csv['Target'].to_csv('./Batches/'+filename.split('.')[0]+'_.csv',index=True)\n",
    "        print(sum(1 for i in csv['Target'] if i==1))\n",
    "        print(sum(1 for i in csv['Target'] if i==0))\n",
    "        gc.collect()\n",
    "        continue\n",
    "    else:\n",
    "        continue"
   ]
  }
 ],
 "metadata": {
  "kernelspec": {
   "display_name": "Python 3",
   "language": "python",
   "name": "python3"
  },
  "language_info": {
   "codemirror_mode": {
    "name": "ipython",
    "version": 3
   },
   "file_extension": ".py",
   "mimetype": "text/x-python",
   "name": "python",
   "nbconvert_exporter": "python",
   "pygments_lexer": "ipython3",
   "version": "3.6.2"
  }
 },
 "nbformat": 4,
 "nbformat_minor": 2
}
