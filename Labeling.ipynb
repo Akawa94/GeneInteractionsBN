{
 "cells": [
  {
   "cell_type": "code",
   "execution_count": 1,
   "metadata": {
    "collapsed": true
   },
   "outputs": [],
   "source": [
    "import pandas as pd\n",
    "import numpy as np\n",
    "import csv\n",
    "import gc\n",
    "import os"
   ]
  },
  {
   "cell_type": "code",
   "execution_count": 2,
   "metadata": {
    "collapsed": true
   },
   "outputs": [],
   "source": [
    "directory='../GeneInteractionsBN Datasets/Labeled'\n",
    "if not os.path.exists(directory):\n",
    "    os.makedirs(directory)"
   ]
  },
  {
   "cell_type": "code",
   "execution_count": 6,
   "metadata": {},
   "outputs": [
    {
     "name": "stdout",
     "output_type": "stream",
     "text": [
      "../GeneInteractionsBN Datasets/DataGeneCausality/Raw/LEF1.csv\n",
      "132\n",
      "67938\n",
      "32076\n",
      "100146\n",
      "../GeneInteractionsBN Datasets/DataGeneCausality/Raw/MYC.csv\n",
      "5598\n",
      "58404\n",
      "36144\n",
      "100146\n",
      "../GeneInteractionsBN Datasets/DataGeneCausality/Raw/CTNNB1.csv\n",
      "60\n",
      "81978\n",
      "18108\n",
      "100146\n",
      "../GeneInteractionsBN Datasets/DataGeneCausality/Raw/Erk.csv\n",
      "264\n",
      "140466\n",
      "59562\n",
      "200292\n",
      "../GeneInteractionsBN Datasets/DataGeneCausality/Raw/IRF4.csv\n",
      "66\n",
      "96588\n",
      "3492\n",
      "100146\n",
      "../GeneInteractionsBN Datasets/DataGeneCausality/Raw/Ikk2.csv\n",
      "4548\n",
      "104436\n",
      "91308\n",
      "200292\n",
      "../GeneInteractionsBN Datasets/DataGeneCausality/Raw/Jnk.csv\n",
      "7110\n",
      "205992\n",
      "87336\n",
      "300438\n"
     ]
    }
   ],
   "source": [
    "directory = '../GeneInteractionsBN Datasets/DataGeneCausality/Raw/'\n",
    "for filename in os.listdir(directory):\n",
    "    if filename.endswith(\".csv\") or filename.endswith(\".py\"): \n",
    "        print(os.path.join(directory, filename))\n",
    "        csv = pd.read_csv(filepath_or_buffer=os.path.join(directory, filename), sep=';')\n",
    "        csv['Target']=list(map(lambda x: 1 if x<=0.01 else (0 if x>=0.5 else np.nan),csv['Pvalue']))\n",
    "        csv['Target'].to_csv('../GeneInteractionsBN Datasets/Labeled/'+filename.split('.')[0]+'_Target.csv',index=True)\n",
    "        print(sum(1 for i in csv['Target'] if i==1))\n",
    "        print(sum(1 for i in csv['Target'] if i==0))\n",
    "        print(sum(1 for i in csv['Target'] if i!=0 and i!=1))\n",
    "        print(len(csv['Target']))\n",
    "        del csv\n",
    "        gc.collect()\n",
    "        continue\n",
    "    else:\n",
    "        continue"
   ]
  },
  {
   "cell_type": "code",
   "execution_count": null,
   "metadata": {
    "collapsed": true
   },
   "outputs": [],
   "source": [
    "# For opening one of these target files\n",
    "output = pd.read_csv('CTNNB1_Target.csv',header=None)"
   ]
  },
  {
   "cell_type": "code",
   "execution_count": null,
   "metadata": {
    "collapsed": true
   },
   "outputs": [],
   "source": []
  }
 ],
 "metadata": {
  "kernelspec": {
   "display_name": "Python 3",
   "language": "python",
   "name": "python3"
  },
  "language_info": {
   "codemirror_mode": {
    "name": "ipython",
    "version": 3
   },
   "file_extension": ".py",
   "mimetype": "text/x-python",
   "name": "python",
   "nbconvert_exporter": "python",
   "pygments_lexer": "ipython3",
   "version": "3.6.1"
  }
 },
 "nbformat": 4,
 "nbformat_minor": 2
}
