{
 "cells": [
  {
   "cell_type": "code",
   "execution_count": 2,
   "metadata": {
    "collapsed": true
   },
   "outputs": [],
   "source": [
    "import pandas as pd\n",
    "import numpy as np\n",
    "import csv\n",
    "import gc\n",
    "import os"
   ]
  },
  {
   "cell_type": "code",
   "execution_count": 14,
   "metadata": {
    "collapsed": true
   },
   "outputs": [],
   "source": [
    "directory='../GeneInteractionsBN_Datasets/Labeled'\n",
    "if not os.path.exists(directory):\n",
    "    os.makedirs(directory)"
   ]
  },
  {
   "cell_type": "code",
   "execution_count": 26,
   "metadata": {},
   "outputs": [
    {
     "name": "stdout",
     "output_type": "stream",
     "text": [
      "../GeneInteractionsBN_Datasets/DataGeneCausality/Raw/LEF1.csv\n",
      "68070\n",
      "../GeneInteractionsBN_Datasets/DataGeneCausality/Raw/MYC.csv\n",
      "64002\n",
      "../GeneInteractionsBN_Datasets/DataGeneCausality/Raw/CTNNB1.csv\n",
      "82038\n",
      "../GeneInteractionsBN_Datasets/DataGeneCausality/Raw/Erk.csv\n",
      "140730\n",
      "../GeneInteractionsBN_Datasets/DataGeneCausality/Raw/IRF4.csv\n",
      "96654\n",
      "../GeneInteractionsBN_Datasets/DataGeneCausality/Raw/Ikk2.csv\n",
      "108984\n",
      "../GeneInteractionsBN_Datasets/DataGeneCausality/Raw/Jnk.csv\n",
      "213102\n",
      "773580\n"
     ]
    }
   ],
   "source": [
    "directory = '../GeneInteractionsBN_Datasets/DataGeneCausality/Raw/'\n",
    "total=0\n",
    "\n",
    "for filename in os.listdir(directory):\n",
    "    if filename.endswith(\".csv\") or filename.endswith(\".py\"): \n",
    "        pseudo_total=0\n",
    "        print(os.path.join(directory, filename))\n",
    "        csv = pd.read_csv(filepath_or_buffer=os.path.join(directory, filename), sep=';')\n",
    "        csv['Target']=list(map(lambda x: 1 if x<=0.01 else (0 if x>=0.5 else -1),csv['Pvalue']))\n",
    "        df=pd.DataFrame(data=csv['Target'].values,columns=['Target'])\n",
    "        #print(df.head())\n",
    "        df.to_csv('../GeneInteractionsBN_Datasets/Labeled/'+filename.split('.')[0]+'_Target.csv',index=True,index_label='Index')\n",
    "        #print(sum(1 for i in csv['Target'] if i==1))\n",
    "        #print(sum(1 for i in csv['Target'] if i==0))\n",
    "        pseudo_total=sum(1 for i in csv['Target'] if i==1)+sum(1 for i in csv['Target'] if i==0)\n",
    "        total=total+pseudo_total\n",
    "        print(pseudo_total)\n",
    "        del csv\n",
    "        gc.collect()\n",
    "        continue\n",
    "    else:\n",
    "        continue\n",
    "print(total)"
   ]
  },
  {
   "cell_type": "code",
   "execution_count": null,
   "metadata": {
    "collapsed": true
   },
   "outputs": [],
   "source": []
  },
  {
   "cell_type": "code",
   "execution_count": null,
   "metadata": {
    "collapsed": true
   },
   "outputs": [],
   "source": []
  }
 ],
 "metadata": {
  "kernelspec": {
   "display_name": "Python 3",
   "language": "python",
   "name": "python3"
  },
  "language_info": {
   "codemirror_mode": {
    "name": "ipython",
    "version": 3
   },
   "file_extension": ".py",
   "mimetype": "text/x-python",
   "name": "python",
   "nbconvert_exporter": "python",
   "pygments_lexer": "ipython3",
   "version": "3.6.1"
  }
 },
 "nbformat": 4,
 "nbformat_minor": 2
}
