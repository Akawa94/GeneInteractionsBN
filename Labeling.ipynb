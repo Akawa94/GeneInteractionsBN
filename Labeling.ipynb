{
 "cells": [
  {
   "cell_type": "code",
   "execution_count": 4,
   "metadata": {
    "collapsed": true
   },
   "outputs": [],
   "source": [
    "import pandas as pd\n",
    "import numpy as np\n",
    "import csv\n",
    "import gc\n",
    "import os"
   ]
  },
  {
   "cell_type": "code",
   "execution_count": 5,
   "metadata": {
    "collapsed": true
   },
   "outputs": [],
   "source": [
    "directory='../GeneInteractionsBN_Datasets/Labeled'\n",
    "if not os.path.exists(directory):\n",
    "    os.makedirs(directory)"
   ]
  },
  {
   "cell_type": "code",
   "execution_count": 7,
   "metadata": {
    "collapsed": false
   },
   "outputs": [
    {
     "name": "stdout",
     "output_type": "stream",
     "text": [
      "../GeneInteractionsBN_Datasets/DataGeneCausality/Tt/Jnk.csv\n",
      "213102\n",
      "../GeneInteractionsBN_Datasets/DataGeneCausality/Tt/IRF4.csv\n",
      "96654\n",
      "../GeneInteractionsBN_Datasets/DataGeneCausality/Tt/LEF1.csv\n",
      "68070\n",
      "../GeneInteractionsBN_Datasets/DataGeneCausality/Tt/Ikk2.csv\n",
      "108984\n",
      "../GeneInteractionsBN_Datasets/DataGeneCausality/Tt/CTNNB1.csv\n",
      "82038\n",
      "../GeneInteractionsBN_Datasets/DataGeneCausality/Tt/Erk.csv\n",
      "140730\n",
      "../GeneInteractionsBN_Datasets/DataGeneCausality/Tt/MYC.csv\n",
      "64002\n",
      "773580\n"
     ]
    }
   ],
   "source": [
    "# Tt directory is for discretized rows\n",
    "# Shouldnt be any difference between these results and the ones gotten with Raw\n",
    "folder = 'Tt'\n",
    "directory = '../GeneInteractionsBN_Datasets/DataGeneCausality/'+folder+'/'\n",
    "total=0\n",
    "\n",
    "for filename in os.listdir(directory):\n",
    "    if filename.endswith(\".csv\") or filename.endswith(\".py\"): \n",
    "        pseudo_total=0\n",
    "        print(os.path.join(directory, filename))\n",
    "        csv = pd.read_csv(filepath_or_buffer=os.path.join(directory, filename), sep=';')\n",
    "        csv['Target']=list(map(lambda x: 1 if x<=0.01 else (0 if x>=0.5 else -1),csv['Pvalue']))\n",
    "        df=pd.DataFrame(data=csv['Target'].values,columns=['Target'])\n",
    "        #print(df.head())\n",
    "        df.to_csv('../GeneInteractionsBN_Datasets/Labeled/'+filename.split('.')[0]+'_Target.csv',index=True,index_label='Index')\n",
    "        #print(sum(1 for i in csv['Target'] if i==1))\n",
    "        #print(sum(1 for i in csv['Target'] if i==0))\n",
    "        pseudo_total=sum(1 for i in csv['Target'] if i==1)+sum(1 for i in csv['Target'] if i==0)\n",
    "        total=total+pseudo_total\n",
    "        print(pseudo_total)\n",
    "        del csv\n",
    "        gc.collect()\n",
    "        continue\n",
    "    else:\n",
    "        continue\n",
    "print(total)"
   ]
  },
  {
   "cell_type": "code",
   "execution_count": null,
   "metadata": {
    "collapsed": true
   },
   "outputs": [],
   "source": []
  },
  {
   "cell_type": "code",
   "execution_count": null,
   "metadata": {
    "collapsed": true
   },
   "outputs": [],
   "source": []
  }
 ],
 "metadata": {
  "kernelspec": {
   "display_name": "Python 2",
   "language": "python",
   "name": "python2"
  },
  "language_info": {
   "codemirror_mode": {
    "name": "ipython",
    "version": 2
   },
   "file_extension": ".py",
   "mimetype": "text/x-python",
   "name": "python",
   "nbconvert_exporter": "python",
   "pygments_lexer": "ipython2",
   "version": "2.7.5"
  }
 },
 "nbformat": 4,
 "nbformat_minor": 2
}
