{
 "cells": [
  {
   "cell_type": "code",
   "execution_count": 62,
   "metadata": {
    "collapsed": true
   },
   "outputs": [],
   "source": [
    "import pandas as pd\n",
    "import numpy as np\n",
    "import csv\n",
    "import gc\n",
    "import os\n",
    "from sklearn.model_selection import train_test_split\n",
    "from random import randint"
   ]
  },
  {
   "cell_type": "code",
   "execution_count": 63,
   "metadata": {
    "collapsed": true
   },
   "outputs": [],
   "source": [
    "directory='../GeneInteractionsBN_Datasets/Batches'\n",
    "if not os.path.exists(directory):\n",
    "    os.makedirs(directory)"
   ]
  },
  {
   "cell_type": "code",
   "execution_count": null,
   "metadata": {
    "scrolled": true
   },
   "outputs": [
    {
     "name": "stdout",
     "output_type": "stream",
     "text": [
      "../GeneInteractionsBN_Datasets/Labeled/LEF1_Target.csv\n",
      "68070\n",
      "68070\n",
      "../GeneInteractionsBN_Datasets/Labeled/CTNNB1_Target.csv\n",
      "82038\n",
      "150108\n",
      "../GeneInteractionsBN_Datasets/Labeled/Erk_Target.csv\n"
     ]
    }
   ],
   "source": [
    "# Dat Size and proportions\n",
    "#files = pd.DataFrame(np.random.randn(10, 5), columns=['a', 'b', 'c', 'd', 'e'])\n",
    "directory = '../GeneInteractionsBN_Datasets/Labeled/'\n",
    "data_list = {}\n",
    "total_size = 0\n",
    "for filename in os.listdir(directory):\n",
    "    if filename.endswith(\".csv\"): \n",
    "        print(os.path.join(directory, filename))\n",
    "        csv = pd.read_csv(filepath_or_buffer=os.path.join(directory, filename),sep=',')\n",
    "        key_name = filename.split('.')[0].split('_')[0]\n",
    "        data_list[key_name]=[0,[]]\n",
    "        #print(csv['Target'][0])\n",
    "        for i in range(0,len(csv)):\n",
    "            value = int(csv['Target'][i])\n",
    "            if (value==1 or value==0):\n",
    "                # data_list[key_name][1][0] for index\n",
    "                # data_list[key_name][1][2] for marker\n",
    "                data_list[key_name][1].append([i,value,0])\n",
    "                data_list[key_name][0]=data_list[key_name][0]+1\n",
    "        #print(key_name)\n",
    "        #print(data_list[key_name])\n",
    "        total_size = total_size + data_list[key_name][0]\n",
    "        print(data_list[key_name][0])\n",
    "        print(total_size)\n",
    "        del csv\n",
    "        gc.collect()\n",
    "        continue\n",
    "    else:\n",
    "        continue"
   ]
  },
  {
   "cell_type": "code",
   "execution_count": 65,
   "metadata": {},
   "outputs": [
    {
     "name": "stdout",
     "output_type": "stream",
     "text": [
      "0\n"
     ]
    }
   ],
   "source": [
    "marked = 0\n",
    "for key in data_list:\n",
    "    for i in data_list[key][1]:\n",
    "        if i[2]==1:\n",
    "            marked=marked+1\n",
    "print(marked)"
   ]
  },
  {
   "cell_type": "code",
   "execution_count": 66,
   "metadata": {},
   "outputs": [
    {
     "name": "stdout",
     "output_type": "stream",
     "text": [
      "../GeneInteractionsBN_Datasets/DataGeneCausality/Raw/LEF1.csv\n",
      "527\n",
      "../GeneInteractionsBN_Datasets/DataGeneCausality/Raw/MYC.csv\n",
      "496\n",
      "../GeneInteractionsBN_Datasets/DataGeneCausality/Raw/CTNNB1.csv\n",
      "636\n",
      "../GeneInteractionsBN_Datasets/DataGeneCausality/Raw/Erk.csv\n",
      "1091\n",
      "../GeneInteractionsBN_Datasets/DataGeneCausality/Raw/IRF4.csv\n",
      "749\n",
      "../GeneInteractionsBN_Datasets/DataGeneCausality/Raw/Ikk2.csv\n",
      "845\n",
      "../GeneInteractionsBN_Datasets/DataGeneCausality/Raw/Jnk.csv\n",
      "1652\n",
      "../GeneInteractionsBN_Datasets/DataGeneCausality/Raw/LEF1.csv\n",
      "527\n",
      "../GeneInteractionsBN_Datasets/DataGeneCausality/Raw/MYC.csv\n",
      "496\n",
      "../GeneInteractionsBN_Datasets/DataGeneCausality/Raw/CTNNB1.csv\n",
      "636\n",
      "../GeneInteractionsBN_Datasets/DataGeneCausality/Raw/Erk.csv\n",
      "1091\n",
      "../GeneInteractionsBN_Datasets/DataGeneCausality/Raw/IRF4.csv\n",
      "749\n",
      "../GeneInteractionsBN_Datasets/DataGeneCausality/Raw/Ikk2.csv\n",
      "845\n",
      "../GeneInteractionsBN_Datasets/DataGeneCausality/Raw/Jnk.csv\n",
      "1652\n",
      "../GeneInteractionsBN_Datasets/DataGeneCausality/Raw/LEF1.csv\n",
      "527\n",
      "../GeneInteractionsBN_Datasets/DataGeneCausality/Raw/MYC.csv\n",
      "496\n",
      "../GeneInteractionsBN_Datasets/DataGeneCausality/Raw/CTNNB1.csv\n",
      "636\n",
      "../GeneInteractionsBN_Datasets/DataGeneCausality/Raw/Erk.csv\n",
      "1091\n",
      "../GeneInteractionsBN_Datasets/DataGeneCausality/Raw/IRF4.csv\n",
      "749\n",
      "../GeneInteractionsBN_Datasets/DataGeneCausality/Raw/Ikk2.csv\n",
      "845\n",
      "../GeneInteractionsBN_Datasets/DataGeneCausality/Raw/Jnk.csv\n",
      "1652\n",
      "../GeneInteractionsBN_Datasets/DataGeneCausality/Raw/LEF1.csv\n",
      "527\n",
      "../GeneInteractionsBN_Datasets/DataGeneCausality/Raw/MYC.csv\n",
      "496\n",
      "../GeneInteractionsBN_Datasets/DataGeneCausality/Raw/CTNNB1.csv\n",
      "636\n",
      "../GeneInteractionsBN_Datasets/DataGeneCausality/Raw/Erk.csv\n",
      "1091\n",
      "../GeneInteractionsBN_Datasets/DataGeneCausality/Raw/IRF4.csv\n",
      "749\n",
      "../GeneInteractionsBN_Datasets/DataGeneCausality/Raw/Ikk2.csv\n",
      "845\n",
      "../GeneInteractionsBN_Datasets/DataGeneCausality/Raw/Jnk.csv\n",
      "1652\n",
      "../GeneInteractionsBN_Datasets/DataGeneCausality/Raw/LEF1.csv\n",
      "527\n",
      "../GeneInteractionsBN_Datasets/DataGeneCausality/Raw/MYC.csv\n",
      "496\n",
      "../GeneInteractionsBN_Datasets/DataGeneCausality/Raw/CTNNB1.csv\n",
      "636\n",
      "../GeneInteractionsBN_Datasets/DataGeneCausality/Raw/Erk.csv\n",
      "1091\n",
      "../GeneInteractionsBN_Datasets/DataGeneCausality/Raw/IRF4.csv\n",
      "749\n",
      "../GeneInteractionsBN_Datasets/DataGeneCausality/Raw/Ikk2.csv\n",
      "845\n",
      "../GeneInteractionsBN_Datasets/DataGeneCausality/Raw/Jnk.csv\n",
      "1652\n",
      "../GeneInteractionsBN_Datasets/DataGeneCausality/Raw/LEF1.csv\n",
      "527\n",
      "../GeneInteractionsBN_Datasets/DataGeneCausality/Raw/MYC.csv\n",
      "496\n",
      "../GeneInteractionsBN_Datasets/DataGeneCausality/Raw/CTNNB1.csv\n",
      "636\n",
      "../GeneInteractionsBN_Datasets/DataGeneCausality/Raw/Erk.csv\n",
      "1091\n",
      "../GeneInteractionsBN_Datasets/DataGeneCausality/Raw/IRF4.csv\n",
      "749\n",
      "../GeneInteractionsBN_Datasets/DataGeneCausality/Raw/Ikk2.csv\n",
      "845\n",
      "../GeneInteractionsBN_Datasets/DataGeneCausality/Raw/Jnk.csv\n",
      "1652\n",
      "../GeneInteractionsBN_Datasets/DataGeneCausality/Raw/LEF1.csv\n",
      "527\n",
      "../GeneInteractionsBN_Datasets/DataGeneCausality/Raw/MYC.csv\n",
      "496\n",
      "../GeneInteractionsBN_Datasets/DataGeneCausality/Raw/CTNNB1.csv\n",
      "636\n",
      "../GeneInteractionsBN_Datasets/DataGeneCausality/Raw/Erk.csv\n",
      "1091\n",
      "../GeneInteractionsBN_Datasets/DataGeneCausality/Raw/IRF4.csv\n",
      "749\n",
      "../GeneInteractionsBN_Datasets/DataGeneCausality/Raw/Ikk2.csv\n",
      "845\n",
      "../GeneInteractionsBN_Datasets/DataGeneCausality/Raw/Jnk.csv\n",
      "1652\n",
      "../GeneInteractionsBN_Datasets/DataGeneCausality/Raw/LEF1.csv\n",
      "527\n",
      "../GeneInteractionsBN_Datasets/DataGeneCausality/Raw/MYC.csv\n",
      "496\n",
      "../GeneInteractionsBN_Datasets/DataGeneCausality/Raw/CTNNB1.csv\n",
      "636\n",
      "../GeneInteractionsBN_Datasets/DataGeneCausality/Raw/Erk.csv\n",
      "1091\n",
      "../GeneInteractionsBN_Datasets/DataGeneCausality/Raw/IRF4.csv\n",
      "749\n",
      "../GeneInteractionsBN_Datasets/DataGeneCausality/Raw/Ikk2.csv\n",
      "845\n",
      "../GeneInteractionsBN_Datasets/DataGeneCausality/Raw/Jnk.csv\n",
      "1652\n",
      "../GeneInteractionsBN_Datasets/DataGeneCausality/Raw/LEF1.csv\n",
      "527\n",
      "../GeneInteractionsBN_Datasets/DataGeneCausality/Raw/MYC.csv\n",
      "496\n",
      "../GeneInteractionsBN_Datasets/DataGeneCausality/Raw/CTNNB1.csv\n"
     ]
    },
    {
     "ename": "KeyboardInterrupt",
     "evalue": "",
     "output_type": "error",
     "traceback": [
      "\u001b[0;31m---------------------------------------------------------------------------\u001b[0m",
      "\u001b[0;31mKeyboardInterrupt\u001b[0m                         Traceback (most recent call last)",
      "\u001b[0;32m<ipython-input-66-c1e2ed001db5>\u001b[0m in \u001b[0;36m<module>\u001b[0;34m()\u001b[0m\n\u001b[1;32m      8\u001b[0m         \u001b[0;32mif\u001b[0m \u001b[0mfilename\u001b[0m\u001b[0;34m.\u001b[0m\u001b[0mendswith\u001b[0m\u001b[0;34m(\u001b[0m\u001b[0;34m\".csv\"\u001b[0m\u001b[0;34m)\u001b[0m\u001b[0;34m:\u001b[0m\u001b[0;34m\u001b[0m\u001b[0m\n\u001b[1;32m      9\u001b[0m             \u001b[0mprint\u001b[0m\u001b[0;34m(\u001b[0m\u001b[0mos\u001b[0m\u001b[0;34m.\u001b[0m\u001b[0mpath\u001b[0m\u001b[0;34m.\u001b[0m\u001b[0mjoin\u001b[0m\u001b[0;34m(\u001b[0m\u001b[0mdirectory\u001b[0m\u001b[0;34m,\u001b[0m \u001b[0mfilename\u001b[0m\u001b[0;34m)\u001b[0m\u001b[0;34m)\u001b[0m\u001b[0;34m\u001b[0m\u001b[0m\n\u001b[0;32m---> 10\u001b[0;31m             \u001b[0mcsv\u001b[0m \u001b[0;34m=\u001b[0m \u001b[0mpd\u001b[0m\u001b[0;34m.\u001b[0m\u001b[0mread_csv\u001b[0m\u001b[0;34m(\u001b[0m\u001b[0mfilepath_or_buffer\u001b[0m\u001b[0;34m=\u001b[0m\u001b[0mos\u001b[0m\u001b[0;34m.\u001b[0m\u001b[0mpath\u001b[0m\u001b[0;34m.\u001b[0m\u001b[0mjoin\u001b[0m\u001b[0;34m(\u001b[0m\u001b[0mdirectory\u001b[0m\u001b[0;34m,\u001b[0m \u001b[0mfilename\u001b[0m\u001b[0;34m)\u001b[0m\u001b[0;34m,\u001b[0m\u001b[0msep\u001b[0m\u001b[0;34m=\u001b[0m\u001b[0;34m';'\u001b[0m\u001b[0;34m)\u001b[0m\u001b[0;34m\u001b[0m\u001b[0m\n\u001b[0m\u001b[1;32m     11\u001b[0m             \u001b[0mkey_name\u001b[0m \u001b[0;34m=\u001b[0m \u001b[0mfilename\u001b[0m\u001b[0;34m.\u001b[0m\u001b[0msplit\u001b[0m\u001b[0;34m(\u001b[0m\u001b[0;34m'.'\u001b[0m\u001b[0;34m)\u001b[0m\u001b[0;34m[\u001b[0m\u001b[0;36m0\u001b[0m\u001b[0;34m]\u001b[0m\u001b[0;34m\u001b[0m\u001b[0m\n\u001b[1;32m     12\u001b[0m             \u001b[0mcontribution_size\u001b[0m \u001b[0;34m=\u001b[0m \u001b[0mint\u001b[0m\u001b[0;34m(\u001b[0m\u001b[0mdata_list\u001b[0m\u001b[0;34m[\u001b[0m\u001b[0mkey_name\u001b[0m\u001b[0;34m]\u001b[0m\u001b[0;34m[\u001b[0m\u001b[0;36m0\u001b[0m\u001b[0;34m]\u001b[0m\u001b[0;34m*\u001b[0m\u001b[0mbatch_size\u001b[0m\u001b[0;34m/\u001b[0m\u001b[0mtotal_size\u001b[0m\u001b[0;34m)\u001b[0m\u001b[0;34m\u001b[0m\u001b[0m\n",
      "\u001b[0;32m/home/sergio/anaconda3/lib/python3.6/site-packages/pandas/io/parsers.py\u001b[0m in \u001b[0;36mparser_f\u001b[0;34m(filepath_or_buffer, sep, delimiter, header, names, index_col, usecols, squeeze, prefix, mangle_dupe_cols, dtype, engine, converters, true_values, false_values, skipinitialspace, skiprows, nrows, na_values, keep_default_na, na_filter, verbose, skip_blank_lines, parse_dates, infer_datetime_format, keep_date_col, date_parser, dayfirst, iterator, chunksize, compression, thousands, decimal, lineterminator, quotechar, quoting, escapechar, comment, encoding, dialect, tupleize_cols, error_bad_lines, warn_bad_lines, skipfooter, skip_footer, doublequote, delim_whitespace, as_recarray, compact_ints, use_unsigned, low_memory, buffer_lines, memory_map, float_precision)\u001b[0m\n\u001b[1;32m    653\u001b[0m                     skip_blank_lines=skip_blank_lines)\n\u001b[1;32m    654\u001b[0m \u001b[0;34m\u001b[0m\u001b[0m\n\u001b[0;32m--> 655\u001b[0;31m         \u001b[0;32mreturn\u001b[0m \u001b[0m_read\u001b[0m\u001b[0;34m(\u001b[0m\u001b[0mfilepath_or_buffer\u001b[0m\u001b[0;34m,\u001b[0m \u001b[0mkwds\u001b[0m\u001b[0;34m)\u001b[0m\u001b[0;34m\u001b[0m\u001b[0m\n\u001b[0m\u001b[1;32m    656\u001b[0m \u001b[0;34m\u001b[0m\u001b[0m\n\u001b[1;32m    657\u001b[0m     \u001b[0mparser_f\u001b[0m\u001b[0;34m.\u001b[0m\u001b[0m__name__\u001b[0m \u001b[0;34m=\u001b[0m \u001b[0mname\u001b[0m\u001b[0;34m\u001b[0m\u001b[0m\n",
      "\u001b[0;32m/home/sergio/anaconda3/lib/python3.6/site-packages/pandas/io/parsers.py\u001b[0m in \u001b[0;36m_read\u001b[0;34m(filepath_or_buffer, kwds)\u001b[0m\n\u001b[1;32m    409\u001b[0m \u001b[0;34m\u001b[0m\u001b[0m\n\u001b[1;32m    410\u001b[0m     \u001b[0;32mtry\u001b[0m\u001b[0;34m:\u001b[0m\u001b[0;34m\u001b[0m\u001b[0m\n\u001b[0;32m--> 411\u001b[0;31m         \u001b[0mdata\u001b[0m \u001b[0;34m=\u001b[0m \u001b[0mparser\u001b[0m\u001b[0;34m.\u001b[0m\u001b[0mread\u001b[0m\u001b[0;34m(\u001b[0m\u001b[0mnrows\u001b[0m\u001b[0;34m)\u001b[0m\u001b[0;34m\u001b[0m\u001b[0m\n\u001b[0m\u001b[1;32m    412\u001b[0m     \u001b[0;32mfinally\u001b[0m\u001b[0;34m:\u001b[0m\u001b[0;34m\u001b[0m\u001b[0m\n\u001b[1;32m    413\u001b[0m         \u001b[0mparser\u001b[0m\u001b[0;34m.\u001b[0m\u001b[0mclose\u001b[0m\u001b[0;34m(\u001b[0m\u001b[0;34m)\u001b[0m\u001b[0;34m\u001b[0m\u001b[0m\n",
      "\u001b[0;32m/home/sergio/anaconda3/lib/python3.6/site-packages/pandas/io/parsers.py\u001b[0m in \u001b[0;36mread\u001b[0;34m(self, nrows)\u001b[0m\n\u001b[1;32m    980\u001b[0m                 \u001b[0;32mraise\u001b[0m \u001b[0mValueError\u001b[0m\u001b[0;34m(\u001b[0m\u001b[0;34m'skipfooter not supported for iteration'\u001b[0m\u001b[0;34m)\u001b[0m\u001b[0;34m\u001b[0m\u001b[0m\n\u001b[1;32m    981\u001b[0m \u001b[0;34m\u001b[0m\u001b[0m\n\u001b[0;32m--> 982\u001b[0;31m         \u001b[0mret\u001b[0m \u001b[0;34m=\u001b[0m \u001b[0mself\u001b[0m\u001b[0;34m.\u001b[0m\u001b[0m_engine\u001b[0m\u001b[0;34m.\u001b[0m\u001b[0mread\u001b[0m\u001b[0;34m(\u001b[0m\u001b[0mnrows\u001b[0m\u001b[0;34m)\u001b[0m\u001b[0;34m\u001b[0m\u001b[0m\n\u001b[0m\u001b[1;32m    983\u001b[0m \u001b[0;34m\u001b[0m\u001b[0m\n\u001b[1;32m    984\u001b[0m         \u001b[0;32mif\u001b[0m \u001b[0mself\u001b[0m\u001b[0;34m.\u001b[0m\u001b[0moptions\u001b[0m\u001b[0;34m.\u001b[0m\u001b[0mget\u001b[0m\u001b[0;34m(\u001b[0m\u001b[0;34m'as_recarray'\u001b[0m\u001b[0;34m)\u001b[0m\u001b[0;34m:\u001b[0m\u001b[0;34m\u001b[0m\u001b[0m\n",
      "\u001b[0;32m/home/sergio/anaconda3/lib/python3.6/site-packages/pandas/io/parsers.py\u001b[0m in \u001b[0;36mread\u001b[0;34m(self, nrows)\u001b[0m\n\u001b[1;32m   1717\u001b[0m     \u001b[0;32mdef\u001b[0m \u001b[0mread\u001b[0m\u001b[0;34m(\u001b[0m\u001b[0mself\u001b[0m\u001b[0;34m,\u001b[0m \u001b[0mnrows\u001b[0m\u001b[0;34m=\u001b[0m\u001b[0;32mNone\u001b[0m\u001b[0;34m)\u001b[0m\u001b[0;34m:\u001b[0m\u001b[0;34m\u001b[0m\u001b[0m\n\u001b[1;32m   1718\u001b[0m         \u001b[0;32mtry\u001b[0m\u001b[0;34m:\u001b[0m\u001b[0;34m\u001b[0m\u001b[0m\n\u001b[0;32m-> 1719\u001b[0;31m             \u001b[0mdata\u001b[0m \u001b[0;34m=\u001b[0m \u001b[0mself\u001b[0m\u001b[0;34m.\u001b[0m\u001b[0m_reader\u001b[0m\u001b[0;34m.\u001b[0m\u001b[0mread\u001b[0m\u001b[0;34m(\u001b[0m\u001b[0mnrows\u001b[0m\u001b[0;34m)\u001b[0m\u001b[0;34m\u001b[0m\u001b[0m\n\u001b[0m\u001b[1;32m   1720\u001b[0m         \u001b[0;32mexcept\u001b[0m \u001b[0mStopIteration\u001b[0m\u001b[0;34m:\u001b[0m\u001b[0;34m\u001b[0m\u001b[0m\n\u001b[1;32m   1721\u001b[0m             \u001b[0;32mif\u001b[0m \u001b[0mself\u001b[0m\u001b[0;34m.\u001b[0m\u001b[0m_first_chunk\u001b[0m\u001b[0;34m:\u001b[0m\u001b[0;34m\u001b[0m\u001b[0m\n",
      "\u001b[0;32mpandas/_libs/parsers.pyx\u001b[0m in \u001b[0;36mpandas._libs.parsers.TextReader.read (pandas/_libs/parsers.c:10862)\u001b[0;34m()\u001b[0m\n",
      "\u001b[0;32mpandas/_libs/parsers.pyx\u001b[0m in \u001b[0;36mpandas._libs.parsers.TextReader._read_low_memory (pandas/_libs/parsers.c:11138)\u001b[0;34m()\u001b[0m\n",
      "\u001b[0;32mpandas/_libs/parsers.pyx\u001b[0m in \u001b[0;36mpandas._libs.parsers.TextReader._read_rows (pandas/_libs/parsers.c:12175)\u001b[0;34m()\u001b[0m\n",
      "\u001b[0;32mpandas/_libs/parsers.pyx\u001b[0m in \u001b[0;36mpandas._libs.parsers.TextReader._convert_column_data (pandas/_libs/parsers.c:14136)\u001b[0;34m()\u001b[0m\n",
      "\u001b[0;32mpandas/_libs/parsers.pyx\u001b[0m in \u001b[0;36mpandas._libs.parsers.TextReader._convert_tokens (pandas/_libs/parsers.c:14858)\u001b[0;34m()\u001b[0m\n",
      "\u001b[0;32mpandas/_libs/parsers.pyx\u001b[0m in \u001b[0;36mpandas._libs.parsers.TextReader._convert_with_dtype (pandas/_libs/parsers.c:15629)\u001b[0;34m()\u001b[0m\n",
      "\u001b[0;32m/home/sergio/anaconda3/lib/python3.6/site-packages/pandas/core/dtypes/common.py\u001b[0m in \u001b[0;36mis_integer_dtype\u001b[0;34m(arr_or_dtype)\u001b[0m\n\u001b[1;32m    735\u001b[0m \u001b[0;34m\u001b[0m\u001b[0m\n\u001b[1;32m    736\u001b[0m \u001b[0;34m\u001b[0m\u001b[0m\n\u001b[0;32m--> 737\u001b[0;31m \u001b[0;32mdef\u001b[0m \u001b[0mis_integer_dtype\u001b[0m\u001b[0;34m(\u001b[0m\u001b[0marr_or_dtype\u001b[0m\u001b[0;34m)\u001b[0m\u001b[0;34m:\u001b[0m\u001b[0;34m\u001b[0m\u001b[0m\n\u001b[0m\u001b[1;32m    738\u001b[0m     \"\"\"\n\u001b[1;32m    739\u001b[0m     \u001b[0mCheck\u001b[0m \u001b[0mwhether\u001b[0m \u001b[0mthe\u001b[0m \u001b[0mprovided\u001b[0m \u001b[0marray\u001b[0m \u001b[0;32mor\u001b[0m \u001b[0mdtype\u001b[0m \u001b[0;32mis\u001b[0m \u001b[0mof\u001b[0m \u001b[0man\u001b[0m \u001b[0minteger\u001b[0m \u001b[0mdtype\u001b[0m\u001b[0;34m.\u001b[0m\u001b[0;34m\u001b[0m\u001b[0m\n",
      "\u001b[0;31mKeyboardInterrupt\u001b[0m: "
     ]
    }
   ],
   "source": [
    "directory = '../GeneInteractionsBN_Datasets/DataGeneCausality/Raw/'\n",
    "\n",
    "batch_size = 6000\n",
    "n_loops = int(total_size/batch_size)\n",
    "for i in range(0,n_loops):\n",
    "    csv_output = []\n",
    "    for filename in os.listdir(directory):\n",
    "        if filename.endswith(\".csv\"):\n",
    "            print(os.path.join(directory, filename))\n",
    "            csv = pd.read_csv(filepath_or_buffer=os.path.join(directory, filename),sep=';')\n",
    "            key_name = filename.split('.')[0]\n",
    "            contribution_size = int(data_list[key_name][0]*batch_size/total_size)\n",
    "            print(contribution_size)\n",
    "            while contribution_size>0:\n",
    "                chosen_index = randint(0, data_list[key_name][0]-1)\n",
    "                # data_list[key_name][1][i][0] for index\n",
    "                # data_list[key_name][1][i][2] for marker\n",
    "                if data_list[key_name][1][chosen_index][2] == 0: # proceeds\n",
    "                    data_list[key_name][1][chosen_index][2] = 1 # sets marker\n",
    "                    contribution_size = contribution_size-1\n",
    "                    # inserting first the true index and then the values\n",
    "                    csv_output.append(np.insert(csv.iloc[data_list[key_name][1][chosen_index][0],:].values,0,data_list[key_name][1][chosen_index][0]))\n",
    "            del csv\n",
    "            gc.collect()\n",
    "            continue\n",
    "        else:\n",
    "            continue\n",
    "    df = pd.DataFrame(data=csv_output)\n",
    "    df.to_csv('../GeneInteractionsBN_Datasets/Batches/'+'batch_'+str(i)+'.csv')\n",
    "    del csv_output\n",
    "    del df\n"
   ]
  },
  {
   "cell_type": "code",
   "execution_count": 56,
   "metadata": {},
   "outputs": [
    {
     "name": "stdout",
     "output_type": "stream",
     "text": [
      "767488\n"
     ]
    }
   ],
   "source": [
    "marked = 0\n",
    "for key in data_list:\n",
    "    for i in data_list[key][1]:\n",
    "        if i[2]==1:\n",
    "            marked=marked+1\n",
    "print(marked)"
   ]
  },
  {
   "cell_type": "code",
   "execution_count": 57,
   "metadata": {},
   "outputs": [
    {
     "data": {
      "text/plain": [
       "128"
      ]
     },
     "execution_count": 57,
     "metadata": {},
     "output_type": "execute_result"
    }
   ],
   "source": [
    "n_loops"
   ]
  },
  {
   "cell_type": "code",
   "execution_count": null,
   "metadata": {
    "collapsed": true
   },
   "outputs": [],
   "source": []
  }
 ],
 "metadata": {
  "kernelspec": {
   "display_name": "Python 3",
   "language": "python",
   "name": "python3"
  },
  "language_info": {
   "codemirror_mode": {
    "name": "ipython",
    "version": 3
   },
   "file_extension": ".py",
   "mimetype": "text/x-python",
   "name": "python",
   "nbconvert_exporter": "python",
   "pygments_lexer": "ipython3",
   "version": "3.6.1"
  }
 },
 "nbformat": 4,
 "nbformat_minor": 2
}
