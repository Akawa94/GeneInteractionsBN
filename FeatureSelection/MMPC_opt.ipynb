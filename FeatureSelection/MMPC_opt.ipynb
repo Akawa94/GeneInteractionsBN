{
 "cells": [
  {
   "cell_type": "code",
   "execution_count": 42,
   "metadata": {},
   "outputs": [],
   "source": [
    "#import tensorflow as tf\n",
    "import numpy as np\n",
    "import pandas as pd\n",
    "import scipy as sp\n",
    "from scipy.stats import chi2\n",
    "from math import floor\n",
    "from sklearn.svm import LinearSVC\n",
    "import operator\n",
    "from functools import reduce\n",
    "from Utilities.G2Dependency import *\n",
    "from Utilities.ClassicMM import *\n",
    "from ipynb.fs.defs.GraphReader import GraphReader\n",
    "from random import shuffle"
   ]
  },
  {
   "cell_type": "code",
   "execution_count": 43,
   "metadata": {},
   "outputs": [],
   "source": [
    "class MMPC_opt():\n",
    "    def __init__(self, alpha):\n",
    "        \n",
    "        self._alpha = alpha\n",
    "        self._G2Dep = None\n",
    "        self._arrX= None\n",
    "        return\n",
    "        \n",
    "    def fit(self, X):\n",
    "        \"\"\"\n",
    "        Fit training dataset X, initializing all the G2Dep matrix\n",
    "        \"\"\"\n",
    "        x_heads = []\n",
    "        for i in range(0,len(X.keys())):\n",
    "            max_v=1\n",
    "            for row in X[X.keys()[i]]:\n",
    "                if (row>max_v-1):\n",
    "                    max_v+=row-(max_v-1)\n",
    "            x_heads.append(\"Node\"+str(i+1)+\"@\"+str(max_v))\n",
    "        X.columns = x_heads\n",
    "        \n",
    "        self._arrX = arrayX(X)\n",
    "        self._G2Dep = G2Dependency(self._alpha, len(self._arrX[0]['data']))\n",
    "        \n",
    "        \n",
    "        for i in range(0,len(self._arrX)):\n",
    "            for j in range(0,len(self._arrX)):\n",
    "                if (i != j):\n",
    "                    self._G2Dep.dependency(self._arrX[i], self._arrX[j], [], self._alpha)\n",
    "        print(\"Finished fitting of X in MMPC object\")\n",
    "        return\n",
    "\n",
    "        \n",
    "    def evaluate(self, index):\n",
    "        \n",
    "        start = time.clock()\n",
    "        CPC=[]\n",
    "        alpha = self._alpha\n",
    "        X = self._arrX\n",
    "        TargetNode = [x for x in self._arrX if x['name'].split('@')[0] == (\"Node\"+str(index+1))][0]\n",
    "        Universe = arrayUniverse(TargetNode['name'], self._arrX)\n",
    "        \n",
    "        \n",
    "        CPC=[]\n",
    "        print(\"Entering Phase I\")\n",
    "        print(\"MMPC_beggining: \\n\"+str(len(Universe)))\n",
    "        while len(Universe)>0:\n",
    "            CPC_old = list(CPC) # copy\n",
    "            maxminheur=self.__mm_heuristic(TargetNode,CPC,list(Universe),X,alpha)\n",
    "            F = maxminheur[0]\n",
    "            assocF = maxminheur[1]\n",
    "            Universe = maxminheur[2]\n",
    "            if assocF > 0:\n",
    "                CPC.append(F)\n",
    "                indF=Universe.index(F)\n",
    "                Universe.pop(indF)\n",
    "            #if (len(CPC)==len(CPC_old)) or (len(CPC)>0.3*(len(Universe)-1)):\n",
    "            if (len(CPC)==len(CPC_old)):\n",
    "                break\n",
    "            print(\"\\nUniverse actual size:\")\n",
    "            print(len(Universe))\n",
    "            print(\"CPC actual size:\")\n",
    "            print(len(CPC))\n",
    "            print(\"CPC contents:\")\n",
    "            print([x['name'] for x in CPC])\n",
    "\n",
    "        # Phase 2: Backward\n",
    "        print(\"\\nEntering Phase II\")\n",
    "        CPC=CPC[::-1]\n",
    "        if len(CPC)>1:\n",
    "            Z=list(CPC)\n",
    "            for i in range(len(CPC)-1,-1,-1):\n",
    "                # index is i\n",
    "                Z.pop(i)\n",
    "                #print(\"Analyzing D-separator for \",CPC[i]['name'])\n",
    "                if self.__exist_dseparator(TargetNode,CPC[i],Z,X,alpha)[0] == True:\n",
    "                    #print(\"it did exist! removing from cpc.\")\n",
    "                    CPC.pop(i)\n",
    "        stop = time.clock()\n",
    "        results = {}\n",
    "        results['CPC'] = CPC\n",
    "        results['time'] = stop - start\n",
    "        return results\n",
    "        \n",
    "    def __exist_dseparator(self, TargetNode,Xi, Z, X, alpha):\n",
    "        flagExist = False\n",
    "        dsepSet=[]\n",
    "        #counter=0\n",
    "        #print_names(Z)\n",
    "        for i in range(0,(2**len(Z))-1):\n",
    "            IDsubsetZ_dec = i\n",
    "            IDsubsetZ_bin = bin(IDsubsetZ_dec)\n",
    "            subsetZ = getZsubset(IDsubsetZ_bin,Z)\n",
    "            # no cache\n",
    "            #print(\"from exist dseparator\")\n",
    "            dep = self._G2Dep.dependency(TargetNode,Xi,subsetZ, alpha)\n",
    "            #print(subsetZ)\n",
    "            #print(dep)\n",
    "            if (dep==0):\n",
    "                flagExist = True\n",
    "                dsepSet = subsetZ\n",
    "                break\n",
    "        #print(\"Module exist d-separator: \",counter)\n",
    "        return [flagExist,dsepSet]"
   ]
  },
  {
   "cell_type": "code",
   "execution_count": 44,
   "metadata": {},
   "outputs": [],
   "source": [
    "class MMPC_opt(MMPC_opt):\n",
    "    def __mm_heuristic(self, TargetNode, CPC, Universe, X, alpha):\n",
    "        F=[]\n",
    "        assocF=-1\n",
    "        Z = CPC\n",
    "        fixedCondVars = []\n",
    "        if (len(CPC)>0):\n",
    "            Z = CPC[0:-1]           # all but the last one   \n",
    "            fixedCondVars = [CPC[-1]] # we use last one\n",
    "        for i in range(len(Universe)-1,-1,-1):\n",
    "            if (len(Universe[i])==0):\n",
    "                continue\n",
    "            assoc = self.__min_assoc(TargetNode,Universe[i],Z,fixedCondVars,X,alpha)\n",
    "            if (assoc>assocF):\n",
    "                assocF = assoc\n",
    "                F = Universe[i]\n",
    "            if (assoc==0):\n",
    "                Universe.pop(i)\n",
    "        return [F,assocF,Universe]\n",
    "    \n",
    "    \n",
    "    def __min_assoc(self, TargetNode, Xi,Z, fixedCondVars, X, alpha):\n",
    "        min_assoc=999\n",
    "        if len(Z)==0:\n",
    "            min_assoc = self._G2Dep.dependency(TargetNode, Xi, fixedCondVars, alpha)\n",
    "            subsetZ_min_assoc = fixedCondVars        \n",
    "        else:\n",
    "            #print(2**len(Z)-1)\n",
    "            for IDsubsetZ_dec in range(0,2**len(Z)-1):\n",
    "                IDsubsetZ_bin = bin(IDsubsetZ_dec)\n",
    "                subsetZ = getZsubset(IDsubsetZ_bin,Z)            \n",
    "                subsetZ_assoc=self._G2Dep.dependency(TargetNode, Xi, fixedCondVars+subsetZ,alpha)\n",
    "                #counter+=1\n",
    "                #print(subsetZ_assoc[IDsubsetZ_dec])\n",
    "                if subsetZ_assoc < min_assoc:\n",
    "                    min_assoc = subsetZ_assoc\n",
    "                    subsetZ_min_assoc = fixedCondVars + subsetZ\n",
    "                    if (min_assoc==0):\n",
    "                        break\n",
    "        return min_assoc\n",
    "    \n",
    "    def shuffle_rows(self):\n",
    "        shuffle(self._arrX)\n",
    "        \n",
    "        return"
   ]
  },
  {
   "cell_type": "code",
   "execution_count": 62,
   "metadata": {},
   "outputs": [],
   "source": [
    "MMPC_model = MMPC_opt(0.05)"
   ]
  },
  {
   "cell_type": "code",
   "execution_count": 63,
   "metadata": {},
   "outputs": [],
   "source": [
    "X = pd.read_csv(\"/home/a20114261/sdelrio/alarm_datasets/Alarm10/Alarm10_s5000_v8.txt\",delimiter='  ',header=None, engine='python')"
   ]
  },
  {
   "cell_type": "code",
   "execution_count": 64,
   "metadata": {
    "scrolled": true
   },
   "outputs": [
    {
     "name": "stdout",
     "output_type": "stream",
     "text": [
      "Succesful instantiation of Dep object\n",
      "Finished fitting of X in MMPC object\n"
     ]
    }
   ],
   "source": [
    "MMPC_model.fit(X)"
   ]
  },
  {
   "cell_type": "code",
   "execution_count": 48,
   "metadata": {},
   "outputs": [],
   "source": [
    "MMPC_model.shuffle_rows()"
   ]
  },
  {
   "cell_type": "code",
   "execution_count": 66,
   "metadata": {
    "scrolled": true
   },
   "outputs": [
    {
     "name": "stdout",
     "output_type": "stream",
     "text": [
      "Entering Phase I\n",
      "MMPC_beggining: \n",
      "369\n",
      "\n",
      "Universe actual size:\n",
      "36\n",
      "CPC actual size:\n",
      "1\n",
      "CPC contents:\n",
      "['Node83@2']\n",
      "\n",
      "Universe actual size:\n",
      "33\n",
      "CPC actual size:\n",
      "2\n",
      "CPC contents:\n",
      "['Node83@2', 'Node74@2']\n",
      "\n",
      "Universe actual size:\n",
      "25\n",
      "CPC actual size:\n",
      "3\n",
      "CPC contents:\n",
      "['Node83@2', 'Node74@2', 'Node43@2']\n",
      "\n",
      "Universe actual size:\n",
      "24\n",
      "CPC actual size:\n",
      "4\n",
      "CPC contents:\n",
      "['Node83@2', 'Node74@2', 'Node43@2', 'Node31@2']\n",
      "\n",
      "Universe actual size:\n",
      "22\n",
      "CPC actual size:\n",
      "5\n",
      "CPC contents:\n",
      "['Node83@2', 'Node74@2', 'Node43@2', 'Node31@2', 'Node28@2']\n",
      "\n",
      "Universe actual size:\n",
      "21\n",
      "CPC actual size:\n",
      "6\n",
      "CPC contents:\n",
      "['Node83@2', 'Node74@2', 'Node43@2', 'Node31@2', 'Node28@2', 'Node22@4']\n",
      "\n",
      "Universe actual size:\n",
      "20\n",
      "CPC actual size:\n",
      "7\n",
      "CPC contents:\n",
      "['Node83@2', 'Node74@2', 'Node43@2', 'Node31@2', 'Node28@2', 'Node22@4', 'Node29@3']\n",
      "\n",
      "Universe actual size:\n",
      "19\n",
      "CPC actual size:\n",
      "8\n",
      "CPC contents:\n",
      "['Node83@2', 'Node74@2', 'Node43@2', 'Node31@2', 'Node28@2', 'Node22@4', 'Node29@3', 'Node21@4']\n",
      "\n",
      "Universe actual size:\n",
      "18\n",
      "CPC actual size:\n",
      "9\n",
      "CPC contents:\n",
      "['Node83@2', 'Node74@2', 'Node43@2', 'Node31@2', 'Node28@2', 'Node22@4', 'Node29@3', 'Node21@4', 'Node16@3']\n"
     ]
    },
    {
     "ename": "KeyboardInterrupt",
     "evalue": "",
     "output_type": "error",
     "traceback": [
      "\u001b[0;31m---------------------------------------------------------------------------\u001b[0m",
      "\u001b[0;31mKeyboardInterrupt\u001b[0m                         Traceback (most recent call last)",
      "\u001b[0;32m<timed exec>\u001b[0m in \u001b[0;36m<module>\u001b[0;34m()\u001b[0m\n",
      "\u001b[0;32m<ipython-input-43-bdcef0574a89>\u001b[0m in \u001b[0;36mevaluate\u001b[0;34m(self, index)\u001b[0m\n\u001b[1;32m     47\u001b[0m         \u001b[0;32mwhile\u001b[0m \u001b[0mlen\u001b[0m\u001b[0;34m(\u001b[0m\u001b[0mUniverse\u001b[0m\u001b[0;34m)\u001b[0m\u001b[0;34m>\u001b[0m\u001b[0;36m0\u001b[0m\u001b[0;34m:\u001b[0m\u001b[0;34m\u001b[0m\u001b[0m\n\u001b[1;32m     48\u001b[0m             \u001b[0mCPC_old\u001b[0m \u001b[0;34m=\u001b[0m \u001b[0mlist\u001b[0m\u001b[0;34m(\u001b[0m\u001b[0mCPC\u001b[0m\u001b[0;34m)\u001b[0m \u001b[0;31m# copy\u001b[0m\u001b[0;34m\u001b[0m\u001b[0m\n\u001b[0;32m---> 49\u001b[0;31m             \u001b[0mmaxminheur\u001b[0m\u001b[0;34m=\u001b[0m\u001b[0mself\u001b[0m\u001b[0;34m.\u001b[0m\u001b[0m__mm_heuristic\u001b[0m\u001b[0;34m(\u001b[0m\u001b[0mTargetNode\u001b[0m\u001b[0;34m,\u001b[0m\u001b[0mCPC\u001b[0m\u001b[0;34m,\u001b[0m\u001b[0mlist\u001b[0m\u001b[0;34m(\u001b[0m\u001b[0mUniverse\u001b[0m\u001b[0;34m)\u001b[0m\u001b[0;34m,\u001b[0m\u001b[0mX\u001b[0m\u001b[0;34m,\u001b[0m\u001b[0malpha\u001b[0m\u001b[0;34m)\u001b[0m\u001b[0;34m\u001b[0m\u001b[0m\n\u001b[0m\u001b[1;32m     50\u001b[0m             \u001b[0mF\u001b[0m \u001b[0;34m=\u001b[0m \u001b[0mmaxminheur\u001b[0m\u001b[0;34m[\u001b[0m\u001b[0;36m0\u001b[0m\u001b[0;34m]\u001b[0m\u001b[0;34m\u001b[0m\u001b[0m\n\u001b[1;32m     51\u001b[0m             \u001b[0massocF\u001b[0m \u001b[0;34m=\u001b[0m \u001b[0mmaxminheur\u001b[0m\u001b[0;34m[\u001b[0m\u001b[0;36m1\u001b[0m\u001b[0;34m]\u001b[0m\u001b[0;34m\u001b[0m\u001b[0m\n",
      "\u001b[0;32m<ipython-input-44-5048b02acd30>\u001b[0m in \u001b[0;36m__mm_heuristic\u001b[0;34m(self, TargetNode, CPC, Universe, X, alpha)\u001b[0m\n\u001b[1;32m     11\u001b[0m             \u001b[0;32mif\u001b[0m \u001b[0;34m(\u001b[0m\u001b[0mlen\u001b[0m\u001b[0;34m(\u001b[0m\u001b[0mUniverse\u001b[0m\u001b[0;34m[\u001b[0m\u001b[0mi\u001b[0m\u001b[0;34m]\u001b[0m\u001b[0;34m)\u001b[0m\u001b[0;34m==\u001b[0m\u001b[0;36m0\u001b[0m\u001b[0;34m)\u001b[0m\u001b[0;34m:\u001b[0m\u001b[0;34m\u001b[0m\u001b[0m\n\u001b[1;32m     12\u001b[0m                 \u001b[0;32mcontinue\u001b[0m\u001b[0;34m\u001b[0m\u001b[0m\n\u001b[0;32m---> 13\u001b[0;31m             \u001b[0massoc\u001b[0m \u001b[0;34m=\u001b[0m \u001b[0mself\u001b[0m\u001b[0;34m.\u001b[0m\u001b[0m__min_assoc\u001b[0m\u001b[0;34m(\u001b[0m\u001b[0mTargetNode\u001b[0m\u001b[0;34m,\u001b[0m\u001b[0mUniverse\u001b[0m\u001b[0;34m[\u001b[0m\u001b[0mi\u001b[0m\u001b[0;34m]\u001b[0m\u001b[0;34m,\u001b[0m\u001b[0mZ\u001b[0m\u001b[0;34m,\u001b[0m\u001b[0mfixedCondVars\u001b[0m\u001b[0;34m,\u001b[0m\u001b[0mX\u001b[0m\u001b[0;34m,\u001b[0m\u001b[0malpha\u001b[0m\u001b[0;34m)\u001b[0m\u001b[0;34m\u001b[0m\u001b[0m\n\u001b[0m\u001b[1;32m     14\u001b[0m             \u001b[0;32mif\u001b[0m \u001b[0;34m(\u001b[0m\u001b[0massoc\u001b[0m\u001b[0;34m>\u001b[0m\u001b[0massocF\u001b[0m\u001b[0;34m)\u001b[0m\u001b[0;34m:\u001b[0m\u001b[0;34m\u001b[0m\u001b[0m\n\u001b[1;32m     15\u001b[0m                 \u001b[0massocF\u001b[0m \u001b[0;34m=\u001b[0m \u001b[0massoc\u001b[0m\u001b[0;34m\u001b[0m\u001b[0m\n",
      "\u001b[0;32m<ipython-input-44-5048b02acd30>\u001b[0m in \u001b[0;36m__min_assoc\u001b[0;34m(self, TargetNode, Xi, Z, fixedCondVars, X, alpha)\u001b[0m\n\u001b[1;32m     30\u001b[0m                 \u001b[0mIDsubsetZ_bin\u001b[0m \u001b[0;34m=\u001b[0m \u001b[0mbin\u001b[0m\u001b[0;34m(\u001b[0m\u001b[0mIDsubsetZ_dec\u001b[0m\u001b[0;34m)\u001b[0m\u001b[0;34m\u001b[0m\u001b[0m\n\u001b[1;32m     31\u001b[0m                 \u001b[0msubsetZ\u001b[0m \u001b[0;34m=\u001b[0m \u001b[0mgetZsubset\u001b[0m\u001b[0;34m(\u001b[0m\u001b[0mIDsubsetZ_bin\u001b[0m\u001b[0;34m,\u001b[0m\u001b[0mZ\u001b[0m\u001b[0;34m)\u001b[0m\u001b[0;34m\u001b[0m\u001b[0m\n\u001b[0;32m---> 32\u001b[0;31m                 \u001b[0msubsetZ_assoc\u001b[0m\u001b[0;34m=\u001b[0m\u001b[0mself\u001b[0m\u001b[0;34m.\u001b[0m\u001b[0m_G2Dep\u001b[0m\u001b[0;34m.\u001b[0m\u001b[0mdependency\u001b[0m\u001b[0;34m(\u001b[0m\u001b[0mTargetNode\u001b[0m\u001b[0;34m,\u001b[0m \u001b[0mXi\u001b[0m\u001b[0;34m,\u001b[0m \u001b[0mfixedCondVars\u001b[0m\u001b[0;34m+\u001b[0m\u001b[0msubsetZ\u001b[0m\u001b[0;34m,\u001b[0m\u001b[0malpha\u001b[0m\u001b[0;34m)\u001b[0m\u001b[0;34m\u001b[0m\u001b[0m\n\u001b[0m\u001b[1;32m     33\u001b[0m                 \u001b[0;31m#counter+=1\u001b[0m\u001b[0;34m\u001b[0m\u001b[0;34m\u001b[0m\u001b[0m\n\u001b[1;32m     34\u001b[0m                 \u001b[0;31m#print(subsetZ_assoc[IDsubsetZ_dec])\u001b[0m\u001b[0;34m\u001b[0m\u001b[0;34m\u001b[0m\u001b[0m\n",
      "\u001b[0;32m~/sdelrio/GeneInteractions/GeneInteractionsBN/FeatureSelection/Utilities/G2Dependency.py\u001b[0m in \u001b[0;36mdependency\u001b[0;34m(self, TargetNode, Xi, CondVars, alpha)\u001b[0m\n\u001b[1;32m    107\u001b[0m                         \u001b[0mflagData_arr\u001b[0m\u001b[0;34m.\u001b[0m\u001b[0mappend\u001b[0m\u001b[0;34m(\u001b[0m\u001b[0mself\u001b[0m\u001b[0;34m.\u001b[0m\u001b[0m__dep_dict_retriever\u001b[0m\u001b[0;34m(\u001b[0m\u001b[0mXi\u001b[0m\u001b[0;34m,\u001b[0m\u001b[0mvvXi\u001b[0m\u001b[0;34m[\u001b[0m\u001b[0mj\u001b[0m\u001b[0;34m]\u001b[0m\u001b[0;34m)\u001b[0m\u001b[0;34m)\u001b[0m\u001b[0;34m\u001b[0m\u001b[0m\n\u001b[1;32m    108\u001b[0m \u001b[0;34m\u001b[0m\u001b[0m\n\u001b[0;32m--> 109\u001b[0;31m                         \u001b[0mflagDataCondVars\u001b[0m \u001b[0;34m=\u001b[0m \u001b[0mreduce\u001b[0m\u001b[0;34m(\u001b[0m\u001b[0;32mlambda\u001b[0m \u001b[0mx\u001b[0m\u001b[0;34m,\u001b[0m\u001b[0my\u001b[0m\u001b[0;34m:\u001b[0m\u001b[0mx\u001b[0m\u001b[0;34m*\u001b[0m\u001b[0my\u001b[0m\u001b[0;34m,\u001b[0m \u001b[0mflagData_arr\u001b[0m\u001b[0;34m)\u001b[0m\u001b[0;34m\u001b[0m\u001b[0m\n\u001b[0m\u001b[1;32m    110\u001b[0m \u001b[0;34m\u001b[0m\u001b[0m\n\u001b[1;32m    111\u001b[0m                         \u001b[0mS\u001b[0m\u001b[0;34m[\u001b[0m\u001b[0mi\u001b[0m\u001b[0;34m]\u001b[0m\u001b[0;34m[\u001b[0m\u001b[0mj\u001b[0m\u001b[0;34m]\u001b[0m\u001b[0;34m[\u001b[0m\u001b[0mk\u001b[0m\u001b[0;34m]\u001b[0m\u001b[0;34m=\u001b[0m\u001b[0mnp\u001b[0m\u001b[0;34m.\u001b[0m\u001b[0msum\u001b[0m\u001b[0;34m(\u001b[0m\u001b[0mflagDataCondVars\u001b[0m\u001b[0;34m)\u001b[0m\u001b[0;34m\u001b[0m\u001b[0m\n",
      "\u001b[0;32m~/sdelrio/GeneInteractions/GeneInteractionsBN/FeatureSelection/Utilities/G2Dependency.py\u001b[0m in \u001b[0;36m<lambda>\u001b[0;34m(x, y)\u001b[0m\n\u001b[1;32m    107\u001b[0m                         \u001b[0mflagData_arr\u001b[0m\u001b[0;34m.\u001b[0m\u001b[0mappend\u001b[0m\u001b[0;34m(\u001b[0m\u001b[0mself\u001b[0m\u001b[0;34m.\u001b[0m\u001b[0m__dep_dict_retriever\u001b[0m\u001b[0;34m(\u001b[0m\u001b[0mXi\u001b[0m\u001b[0;34m,\u001b[0m\u001b[0mvvXi\u001b[0m\u001b[0;34m[\u001b[0m\u001b[0mj\u001b[0m\u001b[0;34m]\u001b[0m\u001b[0;34m)\u001b[0m\u001b[0;34m)\u001b[0m\u001b[0;34m\u001b[0m\u001b[0m\n\u001b[1;32m    108\u001b[0m \u001b[0;34m\u001b[0m\u001b[0m\n\u001b[0;32m--> 109\u001b[0;31m                         \u001b[0mflagDataCondVars\u001b[0m \u001b[0;34m=\u001b[0m \u001b[0mreduce\u001b[0m\u001b[0;34m(\u001b[0m\u001b[0;32mlambda\u001b[0m \u001b[0mx\u001b[0m\u001b[0;34m,\u001b[0m\u001b[0my\u001b[0m\u001b[0;34m:\u001b[0m\u001b[0mx\u001b[0m\u001b[0;34m*\u001b[0m\u001b[0my\u001b[0m\u001b[0;34m,\u001b[0m \u001b[0mflagData_arr\u001b[0m\u001b[0;34m)\u001b[0m\u001b[0;34m\u001b[0m\u001b[0m\n\u001b[0m\u001b[1;32m    110\u001b[0m \u001b[0;34m\u001b[0m\u001b[0m\n\u001b[1;32m    111\u001b[0m                         \u001b[0mS\u001b[0m\u001b[0;34m[\u001b[0m\u001b[0mi\u001b[0m\u001b[0;34m]\u001b[0m\u001b[0;34m[\u001b[0m\u001b[0mj\u001b[0m\u001b[0;34m]\u001b[0m\u001b[0;34m[\u001b[0m\u001b[0mk\u001b[0m\u001b[0;34m]\u001b[0m\u001b[0;34m=\u001b[0m\u001b[0mnp\u001b[0m\u001b[0;34m.\u001b[0m\u001b[0msum\u001b[0m\u001b[0;34m(\u001b[0m\u001b[0mflagDataCondVars\u001b[0m\u001b[0;34m)\u001b[0m\u001b[0;34m\u001b[0m\u001b[0m\n",
      "\u001b[0;31mKeyboardInterrupt\u001b[0m: "
     ]
    }
   ],
   "source": [
    "%%time\n",
    "cpc = MMPC_model.evaluate(4)\n",
    "print(\"Results\")\n",
    "#print(len([x['name'] for x in cpc]))\n",
    "print([x['name'] for x in cpc['CPC']])"
   ]
  },
  {
   "cell_type": "code",
   "execution_count": 57,
   "metadata": {},
   "outputs": [
    {
     "name": "stdout",
     "output_type": "stream",
     "text": [
      "['Node18@3', 'Node326@2', 'Node21@4', 'Node228@2', 'Node19@3', 'Node22@4', 'Node15@3', 'Node4@4', 'Node1@4', 'Node23@4', 'Node25@4', 'Node27@2', 'Node29@3']\n"
     ]
    }
   ],
   "source": [
    "# print([x['name'] for x in cpc])"
   ]
  },
  {
   "cell_type": "code",
   "execution_count": null,
   "metadata": {},
   "outputs": [],
   "source": []
  }
 ],
 "metadata": {
  "kernelspec": {
   "display_name": "Python 3",
   "language": "python",
   "name": "python3"
  },
  "language_info": {
   "codemirror_mode": {
    "name": "ipython",
    "version": 3
   },
   "file_extension": ".py",
   "mimetype": "text/x-python",
   "name": "python",
   "nbconvert_exporter": "python",
   "pygments_lexer": "ipython3",
   "version": "3.6.4"
  }
 },
 "nbformat": 4,
 "nbformat_minor": 2
}
