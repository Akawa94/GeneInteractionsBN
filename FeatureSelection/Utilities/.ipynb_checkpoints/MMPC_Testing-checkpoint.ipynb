{
 "cells": [
  {
   "cell_type": "code",
   "execution_count": 5,
   "metadata": {},
   "outputs": [
    {
     "ename": "SyntaxError",
     "evalue": "invalid syntax (<ipython-input-5-79a043fe2f5d>, line 4)",
     "output_type": "error",
     "traceback": [
      "\u001b[0;36m  File \u001b[0;32m\"<ipython-input-5-79a043fe2f5d>\"\u001b[0;36m, line \u001b[0;32m4\u001b[0m\n\u001b[0;31m    from ..import ipynb.fs.defs.MMRWPC as MMRWPC\u001b[0m\n\u001b[0m                       ^\u001b[0m\n\u001b[0;31mSyntaxError\u001b[0m\u001b[0;31m:\u001b[0m invalid syntax\n"
     ]
    }
   ],
   "source": [
    "import pandas as pd\n",
    "import numpy as np\n",
    "from sklearn.naive_bayes import GaussianNB\n",
    "from .. import ipynb.fs.defs.MMRWPC as MMRWPC"
   ]
  },
  {
   "cell_type": "code",
   "execution_count": null,
   "metadata": {},
   "outputs": [],
   "source": [
    "class MMPC_Testing():\n",
    "    \n",
    "    def __init__(self, mmpc_model, testing_dataset_route, log_route, selected_nodes_route, n_forks):\n",
    "        \n",
    "        self._mmpc_model = mmpc_model\n",
    "        self._testing_dataset_route = testing_dataset_route\n",
    "        self._log_route = log_route\n",
    "        self._n_forks = n_forks\n",
    "        preselected_nodes = []\n",
    "        try:\n",
    "            ff = open(save_folder+selected_nodes_route,'r')\n",
    "            for e in ff.read().split('\\n'):\n",
    "                spl_line = e.split(';')\n",
    "                if (len(spl_line[0])==0):\n",
    "                    continue\n",
    "                preselected_nodes.append([spl_line[0],float(spl_line[1])])\n",
    "            ff.close()\n",
    "        except:\n",
    "            print(\"Error opening preselected nodes file\")\n",
    "            return\n",
    "        \n",
    "        self._selected_nodes = preselected_nodes\n",
    "        print(\"MMPC_Testing object succesfully created.\")\n",
    "        \n",
    "        return\n",
    "    \n",
    "    def test_model(self):\n",
    "        PCs = self.__getPCs()\n",
    "        \n",
    "    \n",
    "        return\n",
    "    \n",
    "    def __getPCs(self):\n",
    "        \"\"\"\n",
    "        Create list of parameters to pass\n",
    "        for a parallel execution including\n",
    "        the file to examine and the node to examine\n",
    "        \"\"\"\n",
    "        \n",
    "    "
   ]
  },
  {
   "cell_type": "code",
   "execution_count": null,
   "metadata": {},
   "outputs": [],
   "source": [
    "testing_obj  = MMPC_Testing(MMRWPC, \n",
    "                            '/home/sdelrio/alarm_datasets/Alarm10/', \n",
    "                            '/home/sdelrio/alarm_datasets/log_results/',\n",
    "                            'mmpc_partitioned/alarm10_binary_nodes_selected.txt',\n",
    "                            10)"
   ]
  }
 ],
 "metadata": {
  "kernelspec": {
   "display_name": "Python 3",
   "language": "python",
   "name": "python3"
  },
  "language_info": {
   "codemirror_mode": {
    "name": "ipython",
    "version": 3
   },
   "file_extension": ".py",
   "mimetype": "text/x-python",
   "name": "python",
   "nbconvert_exporter": "python",
   "pygments_lexer": "ipython3",
   "version": "3.6.4"
  }
 },
 "nbformat": 4,
 "nbformat_minor": 2
}
