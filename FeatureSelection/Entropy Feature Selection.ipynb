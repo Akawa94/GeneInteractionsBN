{
 "cells": [
  {
   "cell_type": "code",
   "execution_count": null,
   "metadata": {
    "collapsed": true
   },
   "outputs": [],
   "source": [
    "# Basic Entropy based Feature Selection"
   ]
  },
  {
   "cell_type": "code",
   "execution_count": 2,
   "metadata": {},
   "outputs": [],
   "source": [
    "import pandas as pd\n",
    "import numpy as np\n",
    "import csv\n",
    "import gc\n",
    "import os\n",
    "import copy\n",
    "#from sklearn.model_selection import train_test_split\n",
    "from random import randint\n",
    "from bisect import bisect\n",
    "from math import log"
   ]
  },
  {
   "cell_type": "code",
   "execution_count": 3,
   "metadata": {},
   "outputs": [],
   "source": [
    "def partition(array, begin, end):\n",
    "    pivot = begin\n",
    "    for i in range(begin+1, end+1):\n",
    "        if array[i][1] >= array[begin][1]:\n",
    "            pivot += 1\n",
    "            array[i], array[pivot] = array[pivot], array[i]\n",
    "    array[pivot], array[begin] = array[begin], array[pivot]\n",
    "    return pivot\n",
    "\n",
    "\n",
    "\n",
    "def quicksort(array, begin=0, end=None):\n",
    "    if end is None:\n",
    "        end = len(array) - 1\n",
    "    def _quicksort(array, begin, end):\n",
    "        if begin >= end:\n",
    "            return\n",
    "        pivot = partition(array, begin, end)\n",
    "        _quicksort(array, begin, pivot-1)\n",
    "        _quicksort(array, pivot+1, end)\n",
    "    return _quicksort(array, begin, end)"
   ]
  },
  {
   "cell_type": "code",
   "execution_count": 12,
   "metadata": {},
   "outputs": [],
   "source": [
    "def entropy(freq1,freq2):\n",
    "    # print(freq1)\n",
    "    # print(freq2)\n",
    "    div1 = freq1/(freq1+freq2)\n",
    "    div2 = freq2/(freq1+freq2)\n",
    "    if (div1==0 and div2==0):\n",
    "        return 0\n",
    "    else: \n",
    "        if (div1==0):\n",
    "            return -(div2*log(div2,2))\n",
    "        else:\n",
    "            if (div2==0):\n",
    "                return -(div1*log(div1,2))\n",
    "    \n",
    "    result = -(div1*log(div1,2))-(div2*log(div2,2))\n",
    "    return result"
   ]
  },
  {
   "cell_type": "code",
   "execution_count": 10,
   "metadata": {},
   "outputs": [],
   "source": [
    "def probability(freq,column):\n",
    "    # freq = sum(map(lambda x: 1 if x==value else 0,column))\n",
    "    return freq/column.size"
   ]
  },
  {
   "cell_type": "code",
   "execution_count": 6,
   "metadata": {},
   "outputs": [],
   "source": [
    "def cross_freq(column,target_class,value):\n",
    "    pos_cant=0\n",
    "    neg_cant=0\n",
    "    for i in range(0,column.size):\n",
    "        if column[i]==value:\n",
    "            if target_class[i]==1:\n",
    "                pos_cant+=1\n",
    "            else:\n",
    "                neg_cant+=1\n",
    "    return [pos_cant,neg_cant]"
   ]
  },
  {
   "cell_type": "code",
   "execution_count": 7,
   "metadata": {},
   "outputs": [],
   "source": [
    "def entropy_vs(column,target_class):\n",
    "    # we know the other columns only have 0,1 and -1  values\n",
    "    cross_freq_0 = cross_freq(column,target_class,0)\n",
    "    freq_0=cross_freq_0[0]+cross_freq_0[1]\n",
    "    member_0 = probability(freq_0,column)*entropy(cross_freq_0[0],cross_freq_0[1])\n",
    "    \n",
    "    \n",
    "    cross_freq_1 = cross_freq(column,target_class,1)\n",
    "    freq_1=cross_freq_1[0]+cross_freq_1[1]\n",
    "    member_1 = probability(freq_1,column)*entropy(cross_freq_1[0],cross_freq_1[1])\n",
    "    \n",
    "    cross_freq_minus_1 = cross_freq(column,target_class,-1)\n",
    "    freq_minus_1=cross_freq_minus_1[0]+cross_freq_minus_1[1]\n",
    "    member_minus_1 = probability(freq_minus_1,column)*entropy(cross_freq_minus_1[0],cross_freq_minus_1[1])\n",
    "    \n",
    "    return member_0 + member_1 + member_minus_1"
   ]
  },
  {
   "cell_type": "code",
   "execution_count": 6,
   "metadata": {},
   "outputs": [],
   "source": [
    "directory='/home/a20114261/GeneInteractions/GeneInteractionsBN_Datasets/Batches/censored_CTNNB1_Target'\n",
    "if not os.path.exists(directory):\n",
    "    print(\"Bad routing.\")"
   ]
  },
  {
   "cell_type": "code",
   "execution_count": 7,
   "metadata": {},
   "outputs": [],
   "source": [
    "def takeSecond(elem):\n",
    "    return elem[1]"
   ]
  },
  {
   "cell_type": "code",
   "execution_count": null,
   "metadata": {},
   "outputs": [
    {
     "name": "stdout",
     "output_type": "stream",
     "text": [
      "Have entered in batch_41.csv\n",
      "Have entered in batch_9.csv\n",
      "Have entered in batch_23.csv\n",
      "Have entered in batch_26.csv\n",
      "Have entered in batch_71.csv\n",
      "Have entered in batch_99.csv\n",
      "Have entered in batch_54.csv\n",
      "Have entered in batch_10.csv\n",
      "Have entered in batch_39.csv\n",
      "Have entered in batch_11.csv\n",
      "Have entered in batch_1.csv\n",
      "Have entered in batch_53.csv\n",
      "Have entered in batch_78.csv\n",
      "Have entered in batch_51.csv\n",
      "Have entered in batch_102.csv\n",
      "Have entered in batch_47.csv\n",
      "Have entered in batch_13.csv\n",
      "Have entered in batch_85.csv\n",
      "Have entered in batch_91.csv\n",
      "Have entered in batch_57.csv\n",
      "Have entered in batch_12.csv\n",
      "Have entered in batch_7.csv\n",
      "Have entered in batch_6.csv\n",
      "Have entered in batch_44.csv\n",
      "Have entered in batch_52.csv\n",
      "Have entered in batch_67.csv\n",
      "Have entered in batch_101.csv\n",
      "Have entered in batch_79.csv\n",
      "Have entered in batch_76.csv\n",
      "Have entered in batch_103.csv\n",
      "Have entered in batch_40.csv\n"
     ]
    }
   ],
   "source": [
    "\n",
    "main_directory= '/home/a20114261/GeneInteractions/GeneInteractionsBN_Datasets/Batches'\n",
    "main_save_folder=\"/home/a20114261/GeneInteractions/GeneInteractionsBN_Datasets/FeatureSelection/Entropy\"\n",
    "main_data={}\n",
    "for folder in os.listdir(main_directory):\n",
    "    directory=main_directory+'/'+folder\n",
    "    save_folder=main_save_folder+'/'+folder\n",
    "    if not os.path.exists(save_folder):\n",
    "        os.makedirs(save_folder)\n",
    "    main_data[folder]=[]\n",
    "    for filename in os.listdir(directory):\n",
    "        print(\"Have entered in \"+filename)\n",
    "        data=pd.read_csv(directory+'/'+filename)\n",
    "        data['Pvalue']=list(map(lambda x: 1 if x<=0.01 else (0 if x>=0.5 else -1),data['Pvalue']))\n",
    "        del data['Unnamed: 0']\n",
    "        del data['TrueIndex']\n",
    "        del data['CauseGene']\n",
    "        del data['EffectGene']\n",
    "        del data['Replicate']\n",
    "        del data['Treatment']\n",
    "        preliminary_results=[]\n",
    "        for key in data:\n",
    "            if key != 'Pvalue':\n",
    "                preliminary_results.append([key,entropy_vs(data[key],data['Pvalue'])])\n",
    "        # Should first sort the results\n",
    "        quicksort(preliminary_results)\n",
    "        main_data[folder].append(preliminary_results)\n",
    "        # write out\n",
    "        df = pd.DataFrame(preliminary_results)\n",
    "        df.to_csv(save_folder+\"/results_\"+filename)\n",
    "        del df\n",
    "        del data\n",
    "        gc.collect()\n",
    "\n",
    "# process main_data\n",
    "# top 100\n",
    "for key in main_data:\n",
    "    for data in main_data[key]:\n",
    "        data=data[:100]"
   ]
  },
  {
   "cell_type": "code",
   "execution_count": 12,
   "metadata": {},
   "outputs": [],
   "source": []
  },
  {
   "cell_type": "code",
   "execution_count": null,
   "metadata": {},
   "outputs": [],
   "source": []
  }
 ],
 "metadata": {
  "kernelspec": {
   "display_name": "Python 3",
   "language": "python",
   "name": "python3"
  },
  "language_info": {
   "codemirror_mode": {
    "name": "ipython",
    "version": 3
   },
   "file_extension": ".py",
   "mimetype": "text/x-python",
   "name": "python",
   "nbconvert_exporter": "python",
   "pygments_lexer": "ipython3",
   "version": "3.6.3"
  }
 },
 "nbformat": 4,
 "nbformat_minor": 1
}
