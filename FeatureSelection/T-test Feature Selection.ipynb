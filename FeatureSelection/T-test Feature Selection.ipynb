{
 "cells": [
  {
   "cell_type": "code",
   "execution_count": 4,
   "metadata": {},
   "outputs": [],
   "source": [
    "import pandas as pd\n",
    "import numpy as np\n",
    "from scipy.stats import ttest_ind\n",
    "import os\n",
    "import gc"
   ]
  },
  {
   "cell_type": "code",
   "execution_count": 8,
   "metadata": {},
   "outputs": [],
   "source": [
    "def partition(array, begin, end):\n",
    "    pivot = begin\n",
    "    for i in range(begin+1, end+1):\n",
    "        if array[i][1] >= array[begin][1]:\n",
    "            pivot += 1\n",
    "            array[i], array[pivot] = array[pivot], array[i]\n",
    "    array[pivot], array[begin] = array[begin], array[pivot]\n",
    "    return pivot\n",
    "\n",
    "\n",
    "\n",
    "def quicksort(array, begin=0, end=None):\n",
    "    if end is None:\n",
    "        end = len(array) - 1\n",
    "    def _quicksort(array, begin, end):\n",
    "        if begin >= end:\n",
    "            return\n",
    "        pivot = partition(array, begin, end)\n",
    "        _quicksort(array, begin, pivot-1)\n",
    "        _quicksort(array, pivot+1, end)\n",
    "    return _quicksort(array, begin, end)"
   ]
  },
  {
   "cell_type": "code",
   "execution_count": 10,
   "metadata": {},
   "outputs": [],
   "source": [
    "TargetClass='Pvalue'\n",
    "directory='/home/a20114261/GeneInteractions/GeneInteractionsBN_Datasets/Batches/censored_CTNNB1_Target'\n",
    "if not os.path.exists(directory):\n",
    "    print(\"Bad routing.\")\n",
    "\n",
    "for filename in os.listdir(directory):\n",
    "    data = pd.read_csv(directory+'/'+filename)\n",
    "    data['Pvalue']=list(map(lambda x: 1 if x<=0.01 else (0 if x>=0.5 else -1),data['Pvalue']))\n",
    "    data.pop('Unnamed: 0')\n",
    "    data.pop('TrueIndex')\n",
    "    data.pop('CauseGene')\n",
    "    data.pop('EffectGene')\n",
    "    data.pop('Replicate')\n",
    "    data.pop('Treatment')\n",
    "    preliminary_results=[]\n",
    "    for key in data:\n",
    "        if key!=TargetClass:\n",
    "            result=ttest_ind(data[TargetClass],data[key])\n",
    "            preliminary_results.append([key,result[1]])\n",
    "    quicksort(preliminary_results)\n",
    "    # write out\n",
    "    df = pd.DataFrame(preliminary_results)\n",
    "    df.to_csv(\"/home/a20114261/GeneInteractions/GeneInteractionsBN_Datasets/FeatureSelection/T-test/censored_CTNNB1_Target/results_\"+filename)\n",
    "    del df\n",
    "    del data\n",
    "    gc.collect()"
   ]
  },
  {
   "cell_type": "code",
   "execution_count": null,
   "metadata": {},
   "outputs": [],
   "source": []
  }
 ],
 "metadata": {
  "kernelspec": {
   "display_name": "Python 3",
   "language": "python",
   "name": "python3"
  },
  "language_info": {
   "codemirror_mode": {
    "name": "ipython",
    "version": 3
   },
   "file_extension": ".py",
   "mimetype": "text/x-python",
   "name": "python",
   "nbconvert_exporter": "python",
   "pygments_lexer": "ipython3",
   "version": "3.6.3"
  }
 },
 "nbformat": 4,
 "nbformat_minor": 2
}
