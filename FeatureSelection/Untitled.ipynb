{
 "cells": [
  {
   "cell_type": "code",
   "execution_count": 3,
   "metadata": {},
   "outputs": [],
   "source": [
    "import pyitlib"
   ]
  },
  {
   "cell_type": "markdown",
   "metadata": {},
   "source": [
    "# HI GUYS \n",
    "\n",
    "Objectives of new presentations:\n",
    "\n",
    ">Demonstration of MMMRWPC (or any of the new mods presented) of higher prediction stability over older techniques.\n",
    "\n",
    "\n",
    "Incremental modifications done to Markov Blanket estimator algorithms:\n",
    "- Cache of dependency calculation (not writable)\n",
    "- Maybe use an statistics approach to fasten cache of dependency (not writable as its not invented yet - should be researched after first papers)\n",
    "- M1: Use of phase 2 after each iteration of phase 1 (writeable, missing a version of MMPC with only that modification)\n",
    "- M2: Use of community creation technique only at phase 2 (writeable, missing version of MMPC with only that modification)\n",
    "- M3: Random selection of node based on equal max dep-score (writeable, missing version of MMPC with only that mod)\n",
    "- M1 & M2\n",
    "- M1 & M3\n",
    "- M2 & M3\n",
    "- M1 & M2 & M3 (already done)\n",
    "\n",
    "General modifications to be done>\n",
    "- Add lambda functions new structure to dependency function, already researched below in this notebook\n",
    "- Create benchmarking function using TRUE NEGATIVE RATE VS TRUE POSITIVES RATE (TNR VS TPR)\n",
    "\n",
    "General annotations to new advance:\n",
    "-Time of execution WILL NOT BE BENCHMARKED"
   ]
  },
  {
   "cell_type": "code",
   "execution_count": null,
   "metadata": {},
   "outputs": [],
   "source": []
  },
  {
   "cell_type": "code",
   "execution_count": null,
   "metadata": {},
   "outputs": [],
   "source": []
  },
  {
   "cell_type": "code",
   "execution_count": null,
   "metadata": {},
   "outputs": [],
   "source": []
  },
  {
   "cell_type": "code",
   "execution_count": null,
   "metadata": {},
   "outputs": [],
   "source": []
  },
  {
   "cell_type": "code",
   "execution_count": null,
   "metadata": {},
   "outputs": [],
   "source": []
  },
  {
   "cell_type": "code",
   "execution_count": 234,
   "metadata": {},
   "outputs": [
    {
     "name": "stdout",
     "output_type": "stream",
     "text": [
      "Requirement already satisfied: numba in /home/a20114261/anaconda3/lib/python3.6/site-packages\n",
      "Requirement already satisfied: llvmlite in /home/a20114261/anaconda3/lib/python3.6/site-packages (from numba)\n",
      "Requirement already satisfied: numpy in /home/a20114261/anaconda3/lib/python3.6/site-packages (from numba)\n",
      "\u001b[33mYou are using pip version 9.0.1, however version 19.0.1 is available.\n",
      "You should consider upgrading via the 'pip install --upgrade pip' command.\u001b[0m\n"
     ]
    }
   ],
   "source": [
    "!pip install numba"
   ]
  },
  {
   "cell_type": "code",
   "execution_count": 4,
   "metadata": {},
   "outputs": [],
   "source": [
    "from pyitlib import discrete_random_variable as drv"
   ]
  },
  {
   "cell_type": "code",
   "execution_count": 12,
   "metadata": {},
   "outputs": [],
   "source": [
    "import random\n",
    "a = [random.randint(0,10,) for x in list(range(0,10))]\n",
    "b = [random.randint(0,10,) for x in list(range(0,10))]\n",
    "c = [random.randint(0,10,) for x in list(range(0,10))]"
   ]
  },
  {
   "cell_type": "code",
   "execution_count": 15,
   "metadata": {},
   "outputs": [
    {
     "data": {
      "text/plain": [
       "array(0.9509775)"
      ]
     },
     "execution_count": 15,
     "metadata": {},
     "output_type": "execute_result"
    }
   ],
   "source": [
    "drv.information_mutual_conditional(a,b,c)"
   ]
  },
  {
   "cell_type": "code",
   "execution_count": 17,
   "metadata": {},
   "outputs": [],
   "source": [
    "import dit"
   ]
  },
  {
   "cell_type": "code",
   "execution_count": 199,
   "metadata": {},
   "outputs": [],
   "source": [
    "\n",
    "var_arr = [[random.randint(0,4) for x in list(range(0,1000))] for y in list(range(0,100))]"
   ]
  },
  {
   "cell_type": "code",
   "execution_count": 247,
   "metadata": {},
   "outputs": [],
   "source": [
    "import random\n",
    "import time\n",
    "import numpy as np\n",
    "import operator\n",
    "from functools import reduce"
   ]
  },
  {
   "cell_type": "code",
   "execution_count": 21,
   "metadata": {},
   "outputs": [
    {
     "data": {
      "text/plain": [
       "0.8337602615356445"
      ]
     },
     "execution_count": 21,
     "metadata": {},
     "output_type": "execute_result"
    }
   ],
   "source": [
    "import time\n",
    "import numpy as np\n",
    "t_start = time.time()\n",
    "for i in range(0,1024):\n",
    "  np_arr = np.asarray(var_arr)\n",
    "  np_acc = np_arr.sum(axis=0)\n",
    "  \n",
    "time.time() - t_start\n"
   ]
  },
  {
   "cell_type": "code",
   "execution_count": 22,
   "metadata": {},
   "outputs": [
    {
     "data": {
      "text/plain": [
       "7.153183937072754"
      ]
     },
     "execution_count": 22,
     "metadata": {},
     "output_type": "execute_result"
    }
   ],
   "source": [
    "t_start = time.time()\n",
    "for i in range(0,1024):\n",
    "  accumulator = np.zeros(1000)\n",
    "  for j in range(0,len(var_arr)):\n",
    "    for k in range(0,len(var_arr[j])):\n",
    "      accumulator[k] += var_arr[j][k]\n",
    "time.time() - t_start"
   ]
  },
  {
   "cell_type": "code",
   "execution_count": 41,
   "metadata": {},
   "outputs": [],
   "source": [
    "def benchmark_f(f,params, n_iter):\n",
    "    t_start = time.time()\n",
    "    for i in range(0,n_iter):\n",
    "        f(params)\n",
    "    return time.time() - t_start"
   ]
  },
  {
   "cell_type": "code",
   "execution_count": 43,
   "metadata": {},
   "outputs": [
    {
     "data": {
      "text/plain": [
       "0.1629042625427246"
      ]
     },
     "execution_count": 43,
     "metadata": {},
     "output_type": "execute_result"
    }
   ],
   "source": [
    "import operator\n",
    "from functools import reduce\n",
    "benchmark_f(lambda x:reduce(lambda y,z:y*z, x),var_arr[0],1024)"
   ]
  },
  {
   "cell_type": "code",
   "execution_count": null,
   "metadata": {},
   "outputs": [],
   "source": [
    "for i in range(0,len(vvTarget)):\n",
    "    for j in range(0,len(vvXi)):\n",
    "        for k in range(0,szCondVars):\n",
    "            condValue = self.__get_cond_values(k,CondVars)\n",
    "            flagData_arr = []\n",
    "            flagData_arr.append(np.ones(len(Xi['data'])))\n",
    "            \n",
    "            for l in range(0,len(CondVars)):\n",
    "                X_l = CondVars[l]\n",
    "\n",
    "                op_x = self.__dep_dict_retriever(X_l,condValue[l])\n",
    "\n",
    "                flagData_arr.append(op_x)\n",
    "\n",
    "                        #op1 = dep_dict_retriever(TargetNode,vvTarget[i])\n",
    "            flagData_arr.append(self.__dep_dict_retriever(TargetNode,vvTarget[i]))\n",
    "                        #op2 = dep_dict_retriever(Xi,vvXi[j])\n",
    "            flagData_arr.append(self.__dep_dict_retriever(Xi,vvXi[j]))\n",
    "\n",
    "            flagDataCondVars = reduce(lambda x,y:x*y, flagData_arr)\n",
    "\n",
    "            S[i][j][k]=np.sum(flagDataCondVars)"
   ]
  },
  {
   "cell_type": "code",
   "execution_count": 306,
   "metadata": {},
   "outputs": [
    {
     "data": {
      "text/plain": [
       "0.15971755981445312"
      ]
     },
     "execution_count": 306,
     "metadata": {},
     "output_type": "execute_result"
    }
   ],
   "source": [
    "t_start = time.time()\n",
    "\n",
    "S = np.zeros((3,4,2**4,7,1000))\n",
    "\n",
    "flagDataAcum = []\n",
    "for i in range(0,3):\n",
    "    for j in range(0,4):\n",
    "        for k in range(0,2**4):\n",
    "            flagData_arr = []\n",
    "            flagData_arr.append(var_arr[0])\n",
    "            for l in range(0,4):\n",
    "                flagData_arr.append(var_arr[1])\n",
    "            flagData_arr.append(var_arr[2])\n",
    "            flagData_arr.append(var_arr[3])\n",
    "            \n",
    "            #flagDataCondVars = reduce(lambda x,y:np.multiply(x,y), flagData_arr)\n",
    "            \n",
    "            #S[i][j][k]=np.sum(flagDataCondVars)\n",
    "            S[i][j][k]=np.array(flagData_arr)\n",
    "            \n",
    "time.time()-t_start"
   ]
  },
  {
   "cell_type": "code",
   "execution_count": null,
   "metadata": {},
   "outputs": [],
   "source": []
  },
  {
   "cell_type": "code",
   "execution_count": 209,
   "metadata": {},
   "outputs": [
    {
     "name": "stdout",
     "output_type": "stream",
     "text": [
      "11.931670665740967\n"
     ]
    },
    {
     "data": {
      "text/plain": [
       "array([[[482820., 408072., 415904., 396916., 276361., 264480., 301191.,\n",
       "         267188., 303419., 263966., 271340., 272660., 270449., 326657.,\n",
       "         283238., 263447.],\n",
       "        [408072., 416340., 378740., 354824., 251299., 236898., 273999.,\n",
       "         238286., 276667., 231624., 246934., 240728., 242167., 293575.,\n",
       "         256134., 233209.],\n",
       "        [415904., 378740., 431490., 367844., 246857., 241544., 279849.,\n",
       "         242310., 286709., 239176., 256364., 245606., 246563., 297885.,\n",
       "         253948., 244717.],\n",
       "        [396916., 354824., 367844., 397836., 234937., 234126., 266909.,\n",
       "         235372., 276443., 227532., 242868., 243980., 225361., 285273.,\n",
       "         254518., 227757.]],\n",
       "\n",
       "       [[408072., 416340., 378740., 354824., 251299., 236898., 273999.,\n",
       "         238286., 276667., 231624., 246934., 240728., 242167., 293575.,\n",
       "         256134., 233209.],\n",
       "        [416340., 499878., 430694., 398770., 278491., 266166., 303963.,\n",
       "         266366., 316787., 255434., 285158., 264422., 272849., 319385.,\n",
       "         286130., 260465.],\n",
       "        [378740., 430694., 437376., 369930., 248203., 241816., 283105.,\n",
       "         241392., 292249., 234850., 262108., 241050., 247961., 295355.,\n",
       "         255376., 245399.],\n",
       "        [354824., 398770., 369930., 391350., 229867., 235702., 265237.,\n",
       "         229098., 277071., 220066., 247020., 233400., 224091., 276959.,\n",
       "         252426., 223967.]],\n",
       "\n",
       "       [[415904., 378740., 431490., 367844., 246857., 241544., 279849.,\n",
       "         242310., 286709., 239176., 256364., 245606., 246563., 297885.,\n",
       "         253948., 244717.],\n",
       "        [378740., 430694., 437376., 369930., 248203., 241816., 283105.,\n",
       "         241392., 292249., 234850., 262108., 241050., 247961., 295355.,\n",
       "         255376., 245399.],\n",
       "        [431490., 437376., 528422., 427756., 275149., 278166., 321603.,\n",
       "         279422., 333479., 270500., 301154., 277112., 278693., 331241.,\n",
       "         286070., 282455.],\n",
       "        [367844., 369930., 427756., 411146., 233241., 242460., 276535.,\n",
       "         239958., 290833., 229146., 254834., 243726., 232859., 286401.,\n",
       "         255212., 236115.]]])"
      ]
     },
     "execution_count": 209,
     "metadata": {},
     "output_type": "execute_result"
    }
   ],
   "source": [
    "t_start = time.time()\n",
    "\n",
    "\n",
    "for n in range(0,100):\n",
    "    S = np.zeros((3,4,2**4))\n",
    "    for n in range(0,1):\n",
    "        flagDataAcum = []\n",
    "        for i in range(0,3):\n",
    "            for j in range(0,4):\n",
    "                for k in range(0,2**4):\n",
    "                    flagData_arr = []\n",
    "                    flagData_arr.append(np.array(var_arr[i]))\n",
    "                    for l in range(0,4):\n",
    "                        flagData_arr.append(np.array(var_arr[l]))\n",
    "                    flagData_arr.append(np.array(var_arr[j]))\n",
    "                    flagData_arr.append(np.array(var_arr[k]))\n",
    "\n",
    "                    flagDataCondVars = reduce(lambda x,y:x*y, flagData_arr)\n",
    "\n",
    "                    S[i][j][k]=np.sum(flagDataCondVars)\n",
    "            \n",
    "print(time.time()-t_start)\n",
    "S"
   ]
  },
  {
   "cell_type": "code",
   "execution_count": 298,
   "metadata": {},
   "outputs": [
    {
     "name": "stdout",
     "output_type": "stream",
     "text": [
      "10.992314100265503\n"
     ]
    },
    {
     "data": {
      "text/plain": [
       "array([[[546838, 451352, 473364, 455864, 313819, 300696, 314903, 336496,\n",
       "         330380, 299897, 337327, 319740, 347310, 281412, 300181, 314320],\n",
       "        [451352, 446956, 417830, 400950, 283661, 258292, 282751, 298332,\n",
       "         288012, 251853, 304631, 293984, 317630, 239944, 263915, 276828],\n",
       "        [473364, 417830, 482716, 419414, 290381, 267640, 287975, 307000,\n",
       "         298514, 273561, 316503, 298378, 318364, 256104, 274809, 289524],\n",
       "        [455864, 400950, 419414, 445474, 285471, 261464, 274417, 294396,\n",
       "         289056, 261471, 306973, 280876, 311352, 248494, 263495, 279292]],\n",
       "\n",
       "       [[451352, 446956, 417830, 400950, 283661, 258292, 282751, 298332,\n",
       "         288012, 251853, 304631, 293984, 317630, 239944, 263915, 276828],\n",
       "        [446956, 522704, 456870, 437822, 317125, 277446, 314615, 326350,\n",
       "         310808, 271103, 337051, 328080, 351192, 262158, 286417, 303016],\n",
       "        [417830, 456870, 472646, 409304, 292191, 256278, 288331, 302228,\n",
       "         288518, 258125, 314909, 301162, 323072, 243744, 268731, 282888],\n",
       "        [400950, 437822, 409304, 433424, 286853, 246090, 271965, 288736,\n",
       "         275912, 244567, 304811, 285092, 312904, 234950, 255817, 272696]],\n",
       "\n",
       "       [[473364, 417830, 482716, 419414, 290381, 267640, 287975, 307000,\n",
       "         298514, 273561, 316503, 298378, 318364, 256104, 274809, 289524],\n",
       "        [417830, 456870, 472646, 409304, 292191, 256278, 288331, 302228,\n",
       "         288518, 258125, 314909, 301162, 323072, 243744, 268731, 282888],\n",
       "        [482716, 472646, 574128, 472622, 328501, 297612, 321905, 345226,\n",
       "         329006, 307763, 359197, 336438, 356286, 285696, 310045, 326710],\n",
       "        [419414, 409304, 472622, 454908, 291489, 258494, 276477, 299840,\n",
       "         288554, 265967, 314787, 290014, 316030, 251358, 268955, 285528]]])"
      ]
     },
     "execution_count": 298,
     "metadata": {},
     "output_type": "execute_result"
    }
   ],
   "source": [
    "t_start = time.time()\n",
    "\n",
    "def sum_mul_f(arr):\n",
    "    return (lambda x:np.sum(reduce(lambda y,z:y*z, x),axis=0))(arr)\n",
    "\n",
    "for n in range(0,100):\n",
    "    #S = np.zeros((3,4,2**4,1+4+1+1,1000))\n",
    "    #flagDataAcum = []\n",
    "    #for i in range(0,3):\n",
    "    #    for j in range(0,4):\n",
    "    #        for k in range(0,2**4):\n",
    "    #            flagData_arr = []\n",
    "    #            flagData_arr.append(var_arr[i])\n",
    "    #            for l in range(0,4):\n",
    "    #                flagData_arr.append(var_arr[l])\n",
    "    #            flagData_arr.append(var_arr[j])\n",
    "    #            flagData_arr.append(var_arr[k])\n",
    "    #            \n",
    "    #            flagDataAcum.append(flagData_arr)\n",
    "                #flagDataCondVars = reduce(lambda x,y:x*y, flagData_arr)\n",
    "                \n",
    "                #S[i][j][k]=flagDataCondVars}\n",
    "                #S[i][j][k] = np.array(flagData_arr)\n",
    "    flagDataAcum=[put_arr([x//(4*16),x//(16)%4,x%16]) for x in list(range(0,192))]\n",
    "    flag_calc = *map(lambda x:np.sum(reduce(lambda y,z:y*z, np.array(x)),axis=0),flagDataAcum),\n",
    "    S = np.asarray(flag_calc).reshape((3,4,16))\n",
    "    #S = S.sum(axis=3)\n",
    "            \n",
    "print(time.time()-t_start)\n",
    "S"
   ]
  },
  {
   "cell_type": "code",
   "execution_count": 229,
   "metadata": {},
   "outputs": [
    {
     "data": {
      "text/plain": [
       "27.688467979431152"
      ]
     },
     "execution_count": 229,
     "metadata": {},
     "output_type": "execute_result"
    }
   ],
   "source": [
    "import concurrent\n",
    "\n",
    "def put_arr(f_params):\n",
    "    global var_arr\n",
    "    i,j,k = f_params\n",
    "    flagData_arr = []\n",
    "    flagData_arr.append(var_arr[i])\n",
    "    for l in range(0,4):\n",
    "        flagData_arr.append(var_arr[l])\n",
    "    flagData_arr.append(var_arr[j])\n",
    "    flagData_arr.append(var_arr[k])\n",
    "    return flagData_arr\n",
    "\n",
    "\n",
    "def wtf(f_params):\n",
    "    global var_arr\n",
    "    i,j,k = f_params\n",
    "    flagData_arr = []\n",
    "    flagData_arr.append(var_arr[i])\n",
    "    for l in range(0,4):\n",
    "        flagData_arr.append(var_arr[l])\n",
    "    flagData_arr.append(var_arr[j])\n",
    "    flagData_arr.append(var_arr[k])\n",
    "                \n",
    "    #flagDataAcum.append(flagData_arr)\n",
    "    flagDataCondVars = np.sum(reduce(lambda x,y:x*y, np.array(flagData_arr)))\n",
    "                \n",
    "    return flagDataCondVars\n",
    "\n",
    "t_start = time.time()\n",
    "\n",
    "#for  n_iter in range(0,100):    \n",
    "#    with concurrent.futures.ThreadPoolExecutor(max_workers=4) as executor:\n",
    "#        f_params =  [[x//(4*16),x//(16)%4,x%16] for x in list(range(0,192))]\n",
    "#        results = np.asarray([*executor.map(wtf,f_params),]).reshape((3,4,16))\n",
    "        \n",
    "for  n_iter in range(0,100):    \n",
    "    with concurrent.futures.ThreadPoolExecutor(max_workers=4) as executor:\n",
    "        f_params =  [put_arr([x//(4*16),x//(16)%4,x%16]) for x in list(range(0,192))]\n",
    "        results = np.asarray([*executor.map(lambda z:np.sum(reduce(lambda x,y:x*y, np.array(z))),f_params),]).reshape((3,4,16))\n",
    "        \n",
    "        \n",
    "time.time()-t_start"
   ]
  },
  {
   "cell_type": "code",
   "execution_count": 227,
   "metadata": {},
   "outputs": [
    {
     "data": {
      "text/plain": [
       "array([[[482820, 408072, 415904, 396916, 276361, 264480, 301191, 267188,\n",
       "         303419, 263966, 271340, 272660, 270449, 326657, 283238, 263447],\n",
       "        [408072, 416340, 378740, 354824, 251299, 236898, 273999, 238286,\n",
       "         276667, 231624, 246934, 240728, 242167, 293575, 256134, 233209],\n",
       "        [415904, 378740, 431490, 367844, 246857, 241544, 279849, 242310,\n",
       "         286709, 239176, 256364, 245606, 246563, 297885, 253948, 244717],\n",
       "        [396916, 354824, 367844, 397836, 234937, 234126, 266909, 235372,\n",
       "         276443, 227532, 242868, 243980, 225361, 285273, 254518, 227757]],\n",
       "\n",
       "       [[408072, 416340, 378740, 354824, 251299, 236898, 273999, 238286,\n",
       "         276667, 231624, 246934, 240728, 242167, 293575, 256134, 233209],\n",
       "        [416340, 499878, 430694, 398770, 278491, 266166, 303963, 266366,\n",
       "         316787, 255434, 285158, 264422, 272849, 319385, 286130, 260465],\n",
       "        [378740, 430694, 437376, 369930, 248203, 241816, 283105, 241392,\n",
       "         292249, 234850, 262108, 241050, 247961, 295355, 255376, 245399],\n",
       "        [354824, 398770, 369930, 391350, 229867, 235702, 265237, 229098,\n",
       "         277071, 220066, 247020, 233400, 224091, 276959, 252426, 223967]],\n",
       "\n",
       "       [[415904, 378740, 431490, 367844, 246857, 241544, 279849, 242310,\n",
       "         286709, 239176, 256364, 245606, 246563, 297885, 253948, 244717],\n",
       "        [378740, 430694, 437376, 369930, 248203, 241816, 283105, 241392,\n",
       "         292249, 234850, 262108, 241050, 247961, 295355, 255376, 245399],\n",
       "        [431490, 437376, 528422, 427756, 275149, 278166, 321603, 279422,\n",
       "         333479, 270500, 301154, 277112, 278693, 331241, 286070, 282455],\n",
       "        [367844, 369930, 427756, 411146, 233241, 242460, 276535, 239958,\n",
       "         290833, 229146, 254834, 243726, 232859, 286401, 255212, 236115]]])"
      ]
     },
     "execution_count": 227,
     "metadata": {},
     "output_type": "execute_result"
    }
   ],
   "source": [
    "results"
   ]
  },
  {
   "cell_type": "code",
   "execution_count": 210,
   "metadata": {},
   "outputs": [
    {
     "ename": "AxisError",
     "evalue": "axis 3 is out of bounds for array of dimension 3",
     "output_type": "error",
     "traceback": [
      "\u001b[0;31m---------------------------------------------------------------------------\u001b[0m",
      "\u001b[0;31mAxisError\u001b[0m                                 Traceback (most recent call last)",
      "\u001b[0;32m<ipython-input-210-2610f634104e>\u001b[0m in \u001b[0;36m<module>\u001b[0;34m()\u001b[0m\n\u001b[1;32m      1\u001b[0m \u001b[0mt_start\u001b[0m \u001b[0;34m=\u001b[0m \u001b[0mtime\u001b[0m\u001b[0;34m.\u001b[0m\u001b[0mtime\u001b[0m\u001b[0;34m(\u001b[0m\u001b[0;34m)\u001b[0m\u001b[0;34m\u001b[0m\u001b[0m\n\u001b[0;32m----> 2\u001b[0;31m \u001b[0mresult\u001b[0m \u001b[0;34m=\u001b[0m \u001b[0mnp\u001b[0m\u001b[0;34m.\u001b[0m\u001b[0mapply_along_axis\u001b[0m\u001b[0;34m(\u001b[0m\u001b[0marr\u001b[0m\u001b[0;34m=\u001b[0m\u001b[0mS\u001b[0m\u001b[0;34m,\u001b[0m\u001b[0maxis\u001b[0m\u001b[0;34m=\u001b[0m\u001b[0;36m3\u001b[0m\u001b[0;34m,\u001b[0m\u001b[0mfunc1d\u001b[0m\u001b[0;34m=\u001b[0m\u001b[0mnp\u001b[0m\u001b[0;34m.\u001b[0m\u001b[0msum\u001b[0m\u001b[0;34m(\u001b[0m\u001b[0;34m(\u001b[0m\u001b[0;32mlambda\u001b[0m \u001b[0mz\u001b[0m\u001b[0;34m:\u001b[0m\u001b[0mreduce\u001b[0m\u001b[0;34m(\u001b[0m\u001b[0;32mlambda\u001b[0m \u001b[0mx\u001b[0m\u001b[0;34m,\u001b[0m\u001b[0my\u001b[0m\u001b[0;34m:\u001b[0m\u001b[0mx\u001b[0m\u001b[0;34m*\u001b[0m\u001b[0my\u001b[0m\u001b[0;34m,\u001b[0m\u001b[0mz\u001b[0m\u001b[0;34m)\u001b[0m\u001b[0;34m)\u001b[0m\u001b[0;34m)\u001b[0m\u001b[0;34m)\u001b[0m\u001b[0;34m\u001b[0m\u001b[0m\n\u001b[0m\u001b[1;32m      3\u001b[0m \u001b[0mtime\u001b[0m\u001b[0;34m.\u001b[0m\u001b[0mtime\u001b[0m\u001b[0;34m(\u001b[0m\u001b[0;34m)\u001b[0m\u001b[0;34m-\u001b[0m\u001b[0mt_start\u001b[0m\u001b[0;34m\u001b[0m\u001b[0m\n",
      "\u001b[0;32m~/anaconda3/lib/python3.6/site-packages/numpy/lib/shape_base.py\u001b[0m in \u001b[0;36mapply_along_axis\u001b[0;34m(func1d, axis, arr, *args, **kwargs)\u001b[0m\n\u001b[1;32m    114\u001b[0m     \u001b[0marr\u001b[0m \u001b[0;34m=\u001b[0m \u001b[0masanyarray\u001b[0m\u001b[0;34m(\u001b[0m\u001b[0marr\u001b[0m\u001b[0;34m)\u001b[0m\u001b[0;34m\u001b[0m\u001b[0m\n\u001b[1;32m    115\u001b[0m     \u001b[0mnd\u001b[0m \u001b[0;34m=\u001b[0m \u001b[0marr\u001b[0m\u001b[0;34m.\u001b[0m\u001b[0mndim\u001b[0m\u001b[0;34m\u001b[0m\u001b[0m\n\u001b[0;32m--> 116\u001b[0;31m     \u001b[0maxis\u001b[0m \u001b[0;34m=\u001b[0m \u001b[0mnormalize_axis_index\u001b[0m\u001b[0;34m(\u001b[0m\u001b[0maxis\u001b[0m\u001b[0;34m,\u001b[0m \u001b[0mnd\u001b[0m\u001b[0;34m)\u001b[0m\u001b[0;34m\u001b[0m\u001b[0m\n\u001b[0m\u001b[1;32m    117\u001b[0m \u001b[0;34m\u001b[0m\u001b[0m\n\u001b[1;32m    118\u001b[0m     \u001b[0;31m# arr, with the iteration axis at the end\u001b[0m\u001b[0;34m\u001b[0m\u001b[0;34m\u001b[0m\u001b[0m\n",
      "\u001b[0;31mAxisError\u001b[0m: axis 3 is out of bounds for array of dimension 3"
     ]
    }
   ],
   "source": [
    "t_start = time.time()\n",
    "result = np.apply_along_axis(arr=S,axis=3,func1d=np.sum((lambda z:reduce(lambda x,y:x*y,z))))\n",
    "time.time()-t_start"
   ]
  },
  {
   "cell_type": "code",
   "execution_count": 158,
   "metadata": {},
   "outputs": [
    {
     "data": {
      "text/plain": [
       "2.1360483169555664"
      ]
     },
     "execution_count": 158,
     "metadata": {},
     "output_type": "execute_result"
    }
   ],
   "source": [
    "t_start = time.time()\n",
    "result = np.apply_along_axis(arr=S,axis=3,func1d=np.multiply.reduce)\n",
    "s_result = np.sum(result,axis=3)\n",
    "time.time()-t_start"
   ]
  },
  {
   "cell_type": "code",
   "execution_count": 139,
   "metadata": {},
   "outputs": [
    {
     "data": {
      "text/plain": [
       "array([[[13699., 13699., 13699., 13699., 13699., 13699., 13699., 13699.,\n",
       "         13699., 13699., 13699., 13699., 13699., 13699., 13699., 13699.],\n",
       "        [13699., 13699., 13699., 13699., 13699., 13699., 13699., 13699.,\n",
       "         13699., 13699., 13699., 13699., 13699., 13699., 13699., 13699.],\n",
       "        [13699., 13699., 13699., 13699., 13699., 13699., 13699., 13699.,\n",
       "         13699., 13699., 13699., 13699., 13699., 13699., 13699., 13699.],\n",
       "        [13699., 13699., 13699., 13699., 13699., 13699., 13699., 13699.,\n",
       "         13699., 13699., 13699., 13699., 13699., 13699., 13699., 13699.]],\n",
       "\n",
       "       [[13699., 13699., 13699., 13699., 13699., 13699., 13699., 13699.,\n",
       "         13699., 13699., 13699., 13699., 13699., 13699., 13699., 13699.],\n",
       "        [13699., 13699., 13699., 13699., 13699., 13699., 13699., 13699.,\n",
       "         13699., 13699., 13699., 13699., 13699., 13699., 13699., 13699.],\n",
       "        [13699., 13699., 13699., 13699., 13699., 13699., 13699., 13699.,\n",
       "         13699., 13699., 13699., 13699., 13699., 13699., 13699., 13699.],\n",
       "        [13699., 13699., 13699., 13699., 13699., 13699., 13699., 13699.,\n",
       "         13699., 13699., 13699., 13699., 13699., 13699., 13699., 13699.]],\n",
       "\n",
       "       [[13699., 13699., 13699., 13699., 13699., 13699., 13699., 13699.,\n",
       "         13699., 13699., 13699., 13699., 13699., 13699., 13699., 13699.],\n",
       "        [13699., 13699., 13699., 13699., 13699., 13699., 13699., 13699.,\n",
       "         13699., 13699., 13699., 13699., 13699., 13699., 13699., 13699.],\n",
       "        [13699., 13699., 13699., 13699., 13699., 13699., 13699., 13699.,\n",
       "         13699., 13699., 13699., 13699., 13699., 13699., 13699., 13699.],\n",
       "        [13699., 13699., 13699., 13699., 13699., 13699., 13699., 13699.,\n",
       "         13699., 13699., 13699., 13699., 13699., 13699., 13699., 13699.]]])"
      ]
     },
     "execution_count": 139,
     "metadata": {},
     "output_type": "execute_result"
    }
   ],
   "source": [
    "np.einsum(\"ijkl->ijk\",S.a)"
   ]
  },
  {
   "cell_type": "code",
   "execution_count": 125,
   "metadata": {},
   "outputs": [
    {
     "ename": "AttributeError",
     "evalue": "'map' object has no attribute 'shape'",
     "output_type": "error",
     "traceback": [
      "\u001b[0;31m---------------------------------------------------------------------------\u001b[0m",
      "\u001b[0;31mAttributeError\u001b[0m                            Traceback (most recent call last)",
      "\u001b[0;32m<ipython-input-125-174937ae7e54>\u001b[0m in \u001b[0;36m<module>\u001b[0;34m()\u001b[0m\n\u001b[1;32m      1\u001b[0m \u001b[0;34m\u001b[0m\u001b[0m\n\u001b[0;32m----> 2\u001b[0;31m \u001b[0mflag_calc\u001b[0m\u001b[0;34m.\u001b[0m\u001b[0mshape\u001b[0m\u001b[0;34m\u001b[0m\u001b[0m\n\u001b[0m",
      "\u001b[0;31mAttributeError\u001b[0m: 'map' object has no attribute 'shape'"
     ]
    }
   ],
   "source": [
    "\n",
    "flag_calc.shape"
   ]
  },
  {
   "cell_type": "code",
   "execution_count": 119,
   "metadata": {},
   "outputs": [
    {
     "data": {
      "text/plain": [
       "2"
      ]
     },
     "execution_count": 119,
     "metadata": {},
     "output_type": "execute_result"
    }
   ],
   "source": [
    "2%3"
   ]
  },
  {
   "cell_type": "code",
   "execution_count": 122,
   "metadata": {},
   "outputs": [
    {
     "name": "stdout",
     "output_type": "stream",
     "text": [
      "0 0 0\n"
     ]
    },
    {
     "ename": "ValueError",
     "evalue": "setting an array element with a sequence.",
     "output_type": "error",
     "traceback": [
      "\u001b[0;31m---------------------------------------------------------------------------\u001b[0m",
      "\u001b[0;31mValueError\u001b[0m                                Traceback (most recent call last)",
      "\u001b[0;32m<ipython-input-122-7ccc8043890f>\u001b[0m in \u001b[0;36m<module>\u001b[0;34m()\u001b[0m\n\u001b[1;32m      5\u001b[0m     \u001b[0mc\u001b[0m \u001b[0;34m=\u001b[0m \u001b[0mi\u001b[0m\u001b[0;34m%\u001b[0m\u001b[0;34m(\u001b[0m\u001b[0;36m2\u001b[0m\u001b[0;34m**\u001b[0m\u001b[0;36m4\u001b[0m\u001b[0;34m)\u001b[0m\u001b[0;34m\u001b[0m\u001b[0m\n\u001b[1;32m      6\u001b[0m     \u001b[0mprint\u001b[0m\u001b[0;34m(\u001b[0m\u001b[0ma\u001b[0m\u001b[0;34m,\u001b[0m\u001b[0mb\u001b[0m\u001b[0;34m,\u001b[0m\u001b[0mc\u001b[0m\u001b[0;34m)\u001b[0m\u001b[0;34m\u001b[0m\u001b[0m\n\u001b[0;32m----> 7\u001b[0;31m     \u001b[0mS_new\u001b[0m\u001b[0;34m[\u001b[0m\u001b[0ma\u001b[0m\u001b[0;34m]\u001b[0m\u001b[0;34m[\u001b[0m\u001b[0mb\u001b[0m\u001b[0;34m]\u001b[0m\u001b[0;34m[\u001b[0m\u001b[0mc\u001b[0m\u001b[0;34m]\u001b[0m \u001b[0;34m=\u001b[0m \u001b[0mS\u001b[0m\u001b[0;34m[\u001b[0m\u001b[0mi\u001b[0m\u001b[0;34m]\u001b[0m\u001b[0;34m\u001b[0m\u001b[0m\n\u001b[0m",
      "\u001b[0;31mValueError\u001b[0m: setting an array element with a sequence."
     ]
    }
   ],
   "source": [
    "S_new = np.zeros((3,4,2**4))\n",
    "for i in range(0,len(S)):\n",
    "    a = i%3\n",
    "    b = i%4\n",
    "    c = i%(2**4)\n",
    "    print(a,b,c)\n",
    "    S_new[a][b][c] = S[i]"
   ]
  },
  {
   "cell_type": "code",
   "execution_count": 73,
   "metadata": {},
   "outputs": [
    {
     "data": {
      "text/plain": [
       "(4, 16)"
      ]
     },
     "execution_count": 73,
     "metadata": {},
     "output_type": "execute_result"
    }
   ],
   "source": [
    "S.sum(axis=0).shape"
   ]
  },
  {
   "cell_type": "code",
   "execution_count": 99,
   "metadata": {},
   "outputs": [
    {
     "data": {
      "text/plain": [
       "554545"
      ]
     },
     "execution_count": 99,
     "metadata": {},
     "output_type": "execute_result"
    }
   ],
   "source": [
    "(lambda x:np.sum(reduce(lambda y,z:y*z, x),axis=0))(flagDataAcum[0])"
   ]
  },
  {
   "cell_type": "code",
   "execution_count": 93,
   "metadata": {},
   "outputs": [
    {
     "data": {
      "text/plain": [
       "(3, 4, 16)"
      ]
     },
     "execution_count": 93,
     "metadata": {},
     "output_type": "execute_result"
    }
   ],
   "source": [
    "S.shape"
   ]
  },
  {
   "cell_type": "code",
   "execution_count": 105,
   "metadata": {},
   "outputs": [],
   "source": [
    "def sum_mul_f(arr):\n",
    "    return (lambda x:np.sum(reduce(lambda y,z:y*z, x),axis=0))(arr)"
   ]
  },
  {
   "cell_type": "code",
   "execution_count": 106,
   "metadata": {},
   "outputs": [
    {
     "data": {
      "text/plain": [
       "554545"
      ]
     },
     "execution_count": 106,
     "metadata": {},
     "output_type": "execute_result"
    }
   ],
   "source": [
    "sum_mul_f(flagDataAcum[0])"
   ]
  },
  {
   "cell_type": "code",
   "execution_count": 249,
   "metadata": {},
   "outputs": [
    {
     "data": {
      "text/plain": [
       "array([1., 1., 1., 1., 1., 1., 1., 1., 1., 1.])"
      ]
     },
     "execution_count": 249,
     "metadata": {},
     "output_type": "execute_result"
    }
   ],
   "source": [
    "np.ones(10)"
   ]
  },
  {
   "cell_type": "code",
   "execution_count": 294,
   "metadata": {},
   "outputs": [],
   "source": [
    "from numba import njit\n",
    "import random\n",
    "\n",
    "@njit\n",
    "def reduce_mul(arr):\n",
    "    acc_np = np.ones(len(arr[0]))\n",
    "    for i in range(0,len(arr)):\n",
    "        for j in range(0,len(arr[i])):\n",
    "            acc_np[j] = acc_np[j]*arr[i][j]\n",
    "    return acc_np\n",
    "\n",
    "@jit\n",
    "def b_loops(var_arr):\n",
    "    \n",
    "    S = np.zeros((3,4,2**4)) # CANNOT BE OUT OF CONTEXT\n",
    "    for n in range(0,100):\n",
    "        S = np.zeros((3,4,2**4))\n",
    "        for n in range(0,1):\n",
    "            for i in range(0,3):\n",
    "                for j in range(0,4):\n",
    "                    for k in range(0,2**4):\n",
    "                        flagData_arr = np.empty((7,1000))\n",
    "                        flagData_arr[0]=np.array(var_arr[i])\n",
    "                        for l in range(0,4):\n",
    "                            flagData_arr[1+l]=np.array(var_arr[l])\n",
    "                        flagData_arr[5] = np.array(var_arr[j])\n",
    "                        flagData_arr[6] = np.array(var_arr[k])\n",
    "                        flagDataCondVars = reduce_mul(flagData_arr)\n",
    "                        S[i][j][k]=np.sum(flagDataCondVars)\n",
    "    return S\n",
    "\n",
    "# S = b_loops()\n",
    "\n",
    "# S"
   ]
  },
  {
   "cell_type": "code",
   "execution_count": null,
   "metadata": {},
   "outputs": [],
   "source": []
  },
  {
   "cell_type": "code",
   "execution_count": 295,
   "metadata": {},
   "outputs": [],
   "source": [
    "var_arr = [[random.randint(0,4) for x in list(range(0,1000))] for y in list(range(0,20))]\n",
    "S = b_loops(var_arr)"
   ]
  },
  {
   "cell_type": "code",
   "execution_count": 286,
   "metadata": {},
   "outputs": [],
   "source": [
    "flagData_arr = np.empty((7,1000))\n",
    "flagData_arr[0] = np.asarray(var_arr[0])"
   ]
  },
  {
   "cell_type": "code",
   "execution_count": 285,
   "metadata": {},
   "outputs": [
    {
     "data": {
      "text/plain": [
       "1000"
      ]
     },
     "execution_count": 285,
     "metadata": {},
     "output_type": "execute_result"
    }
   ],
   "source": [
    "flagData_arr[1]"
   ]
  },
  {
   "cell_type": "code",
   "execution_count": 297,
   "metadata": {},
   "outputs": [
    {
     "name": "stdout",
     "output_type": "stream",
     "text": [
      "CPU times: user 12.1 s, sys: 62.7 ms, total: 12.2 s\n",
      "Wall time: 12.1 s\n"
     ]
    }
   ],
   "source": [
    "%%time\n",
    "S = b_loops(var_arr)"
   ]
  },
  {
   "cell_type": "code",
   "execution_count": 305,
   "metadata": {
    "scrolled": true
   },
   "outputs": [
    {
     "name": "stdout",
     "output_type": "stream",
     "text": [
      "1b0\n",
      "01b0\n",
      "11b0\n",
      "001b0\n",
      "101b0\n",
      "011b0\n",
      "111b0\n",
      "0001b0\n",
      "1001b0\n",
      "0101b0\n",
      "1101b0\n",
      "0011b0\n",
      "1011b0\n",
      "0111b0\n",
      "1111b0\n"
     ]
    }
   ],
   "source": [
    "for i in range(1,2**len([1,2,3,4])):\n",
    "    print(bin(i)[::-1])"
   ]
  },
  {
   "cell_type": "code",
   "execution_count": 381,
   "metadata": {
    "scrolled": true
   },
   "outputs": [
    {
     "name": "stdout",
     "output_type": "stream",
     "text": [
      "9000\n"
     ]
    },
    {
     "data": {
      "text/plain": [
       "[9000, 8669, 8248, 7930]"
      ]
     },
     "execution_count": 381,
     "metadata": {},
     "output_type": "execute_result"
    }
   ],
   "source": [
    "from multiprocessing import Pool, Lock, Semaphore\n",
    "\n",
    "def f_w_lock(params):\n",
    "    sub_params = params\n",
    "    for i in range(0,sub_params[0]):\n",
    "        #print(i)\n",
    "        if (semaphore.get_value()==1):\n",
    "            if i==sub_params[1]:\n",
    "                #l.acquire()\n",
    "                semaphore.acquire()\n",
    "                print(i)\n",
    "                semaphore.release()\n",
    "                #l.release()\n",
    "                return i\n",
    "        else:\n",
    "            return i\n",
    "\n",
    "def init(l,s):\n",
    "    global lock\n",
    "    global semaphore\n",
    "    lock = l\n",
    "    semaphore = s\n",
    "    \n",
    "            \n",
    "            \n",
    "\n",
    "l = Lock()\n",
    "s = Semaphore(1)\n",
    "p = Pool(5,initializer=init,initargs=(l,s))\n",
    "p.map(f_w_lock,[[10000,9000] for x in list(range(0,4))])\n",
    "            \n",
    "            "
   ]
  },
  {
   "cell_type": "code",
   "execution_count": null,
   "metadata": {},
   "outputs": [],
   "source": []
  },
  {
   "cell_type": "code",
   "execution_count": 379,
   "metadata": {},
   "outputs": [
    {
     "data": {
      "text/plain": [
       "10"
      ]
     },
     "execution_count": 379,
     "metadata": {},
     "output_type": "execute_result"
    }
   ],
   "source": [
    "def f_test(a,b,c,d):\n",
    "    return a+b+c+d\n",
    "f_test(*([1,2,3]+[4]))"
   ]
  },
  {
   "cell_type": "code",
   "execution_count": 382,
   "metadata": {},
   "outputs": [
    {
     "data": {
      "text/plain": [
       "[2, 3, 4]"
      ]
     },
     "execution_count": 382,
     "metadata": {},
     "output_type": "execute_result"
    }
   ],
   "source": [
    "[1,2,3,4][1:]"
   ]
  },
  {
   "cell_type": "code",
   "execution_count": null,
   "metadata": {},
   "outputs": [],
   "source": []
  }
 ],
 "metadata": {
  "kernelspec": {
   "display_name": "Python 3",
   "language": "python",
   "name": "python3"
  },
  "language_info": {
   "codemirror_mode": {
    "name": "ipython",
    "version": 3
   },
   "file_extension": ".py",
   "mimetype": "text/x-python",
   "name": "python",
   "nbconvert_exporter": "python",
   "pygments_lexer": "ipython3",
   "version": "3.6.4"
  }
 },
 "nbformat": 4,
 "nbformat_minor": 2
}
