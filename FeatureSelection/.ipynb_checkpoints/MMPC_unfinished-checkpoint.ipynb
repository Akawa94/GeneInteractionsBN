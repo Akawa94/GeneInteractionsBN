{
 "cells": [
  {
   "cell_type": "code",
   "execution_count": null,
   "metadata": {},
   "outputs": [],
   "source": [
    "# Original Max-Min Parents and Children ALgorithm\n",
    "# input: data X and significance level alpha\n",
    "# output: Parents and Children set for a node"
   ]
  },
  {
   "cell_type": "code",
   "execution_count": 1,
   "metadata": {},
   "outputs": [],
   "source": [
    "import numpy as np\n",
    "import pandas as pd"
   ]
  },
  {
   "cell_type": "code",
   "execution_count": 23,
   "metadata": {},
   "outputs": [],
   "source": [
    "X = pd.read_csv(\"/home/a20114261/GeneInteractions/GeneInteractionsBN_Datasets/Batches/censored_Erk_Target/batch_0.csv\")\n",
    "num_vars = X.size\n",
    "# each cell can be -1, 0 or 1\n",
    "#Pre-processing data\n",
    "X['Pvalue']=list(map(lambda x: 1 if x<=0.01 else (0 if x>=0.5 else -1), X['Pvalue']))\n",
    "del X['Unnamed: 0']\n",
    "del X['TrueIndex']\n",
    "del X['CauseGene']\n",
    "del X['EffectGene']\n",
    "del X['Replicate']\n",
    "del X['Treatment']\n",
    "PC=[]"
   ]
  },
  {
   "cell_type": "code",
   "execution_count": null,
   "metadata": {},
   "outputs": [],
   "source": [
    "def Dep(TargetNode, Xi, CondVars, X, alpha):\n",
    "    \n",
    "    if X.size <= (5 * 3*3*(3**CondVars.size)):\n",
    "        return 1\n",
    "    if (len(CondVars)==0):\n",
    "        S = np.multiply(np.ones(3,3),0)\n",
    "        for i in range(0,3):\n",
    "            for j in range(0,3):\n",
    "                var1=np.array(X[TargetNode])\n",
    "                var2=np.array(Xi)\n",
    "                S[i][j]=np.sum(var1[np.where(var1==i-1)]*var2[np.where(var2==j-1)])\n",
    "        G2=0\n",
    "        N = np.sum(S)\n",
    "        Si =np.sum(S,axis=2)\n",
    "        Sj =np.sum(S,axis=1)\n",
    "        Df = ((3-1)*(3-1))\n",
    "        Dedf = np.sum(np.sum(S[np.where(S>0)])\\       # Effective Degree\n",
    "                      - np.sum(Si[np.where(Si>0)])\\   # of Freedom\n",
    "                      - np.sum(Sj[np.where(Sj>0)]) -1)# EDF\n",
    "        if (Dedf<1):\n",
    "            Dedf=1\n",
    "            return 0\n",
    "        \n",
    "        for k in range(0,3):\n",
    "            for l in range(0,3):\n",
    "                if (S[i][j]>0):\n",
    "                    G2 = G2 + np.log((S[i])*N/(Si[i][:]*Sj[j]))\n",
    "        G2 = 2*G2\n",
    "    \n",
    "    else: # test conditional dependency\n",
    "        szCondVars = 3**CondVars.size\n",
    "        S = np.multiply(np.ones(3,3,szCondVars),0)\n",
    "        \n",
    "    "
   ]
  },
  {
   "cell_type": "code",
   "execution_count": 56,
   "metadata": {},
   "outputs": [],
   "source": [
    "def getZsubset(bin_id,Z):\n",
    "    bin_str=str(bin_id)\n",
    "    Zsubset=[]\n",
    "    for i in range(0,len(bin_str)-2):\n",
    "        if bin_str[i]==1:\n",
    "            Zsubset.append(Z[i])\n",
    "    return Zsubset"
   ]
  },
  {
   "cell_type": "code",
   "execution_count": 58,
   "metadata": {},
   "outputs": [],
   "source": [
    "def arrayUniverse(TargetNode,X):\n",
    "    Universe = []\n",
    "    for key in X:\n",
    "        if (key!=TargetNode):\n",
    "            Universe.append(X[key].copy(deep=True))\n",
    "    return Universe"
   ]
  },
  {
   "cell_type": "code",
   "execution_count": 59,
   "metadata": {},
   "outputs": [],
   "source": [
    "def arrayX(X):\n",
    "    returnable=[]\n",
    "    for key in X:\n",
    "        returnable.append(X[key].copy(deep=True))\n",
    "    return returnable"
   ]
  },
  {
   "cell_type": "code",
   "execution_count": null,
   "metadata": {},
   "outputs": [],
   "source": [
    "def MinAssoc(TargetNode, Xi,Z, fixedCondVars, X, alpha):\n",
    "    min_assoc=999\n",
    "    if len(Z)==0:\n",
    "        min_assoc = Dep(TargetNode, Xi, fixedCondVars, X, alpha)\n",
    "        subsetZ_assoc = fixedCondVars\n",
    "    else:\n",
    "        for IDsubsetZ_dec in range(0,2**len(Z)):\n",
    "            IDsubsetZ_bin = bin(IDsubsetZ_dec)\n",
    "            subsetZ = getZsubset(IDsubsetZ_bin,Z)\n",
    "            subset_assoc = Dep(TargetNode, Xi, fixedCondVars+subsetZ,X,alpha)\n",
    "            if subsetZ_assoc < min_assoc:\n",
    "                min_assoc = subsetZ_assoc\n",
    "                if (min_assoc==0):\n",
    "                    break\n"
   ]
  },
  {
   "cell_type": "code",
   "execution_count": null,
   "metadata": {},
   "outputs": [],
   "source": [
    "def MaxMinHeuristic(TargetNode, CPC, Universe, X, alpha):\n",
    "    F=[]\n",
    "    assocF=-1\n",
    "    Z = CPC\n",
    "    fixedCondVars = []\n",
    "    if (len(CPC)>0):\n",
    "        Z = CPC[0:-1]           # all but the last one   \n",
    "        fixedCondVars = CPC[-1] # we use last one\n",
    "    \n",
    "    for i in range(0,len(Universe)):\n",
    "        minAssoc = MinAssoc(TargetNode,Universe[i], Z,fixedCondVars, X,alpha)\n",
    "        "
   ]
  },
  {
   "cell_type": "code",
   "execution_count": 61,
   "metadata": {},
   "outputs": [],
   "source": [
    "def MMPC_(TargetNode,Universe,X,alpha):\n",
    "    \n",
    "    CPC=[]\n",
    "    while len(Universe)>0:\n",
    "        CPC_old = CPC\n",
    "        maxminheur=MaxMinHeuristic(TargetNode,CPC,Universe,X,alpha)\n",
    "    \n",
    "    return"
   ]
  },
  {
   "cell_type": "code",
   "execution_count": 60,
   "metadata": {},
   "outputs": [],
   "source": [
    "def MMPC(TargetNode, X, alpha):\n",
    "    # The universe will be an array of DataFrame Columns\n",
    "    Universe = arrayUniverse(TargetNode,X)\n",
    "    X = arrayX(X)\n",
    "    CPC = MMPC_(TargetNode,Universe,X,alpha)"
   ]
  },
  {
   "cell_type": "code",
   "execution_count": 20,
   "metadata": {},
   "outputs": [],
   "source": [
    "alpha=0.05\n",
    "PC=MMPC('Pvalue',X,alpha)"
   ]
  },
  {
   "cell_type": "code",
   "execution_count": 68,
   "metadata": {},
   "outputs": [],
   "source": [
    "data = arrayX(X)"
   ]
  },
  {
   "cell_type": "code",
   "execution_count": 67,
   "metadata": {},
   "outputs": [
    {
     "data": {
      "text/plain": [
       "array([1, 2])"
      ]
     },
     "execution_count": 67,
     "metadata": {},
     "output_type": "execute_result"
    }
   ],
   "source": [
    "a=np.array([1,2,3])\n",
    "a[np.where(a<3)]"
   ]
  },
  {
   "cell_type": "code",
   "execution_count": 57,
   "metadata": {},
   "outputs": [
    {
     "data": {
      "text/plain": [
       "[1, 2, 3, 3, 4, 5]"
      ]
     },
     "execution_count": 57,
     "metadata": {},
     "output_type": "execute_result"
    }
   ],
   "source": []
  },
  {
   "cell_type": "code",
   "execution_count": 69,
   "metadata": {},
   "outputs": [],
   "source": [
    "b=np.array(data)"
   ]
  },
  {
   "cell_type": "code",
   "execution_count": 70,
   "metadata": {},
   "outputs": [
    {
     "data": {
      "text/plain": [
       "array([0, 1, 0, ..., 1, 0, 1])"
      ]
     },
     "execution_count": 70,
     "metadata": {},
     "output_type": "execute_result"
    }
   ],
   "source": [
    "b[1]"
   ]
  },
  {
   "cell_type": "code",
   "execution_count": 71,
   "metadata": {},
   "outputs": [
    {
     "data": {
      "text/plain": [
       "array([-1,  0, -1, ..., -1,  1,  0])"
      ]
     },
     "execution_count": 71,
     "metadata": {},
     "output_type": "execute_result"
    }
   ],
   "source": [
    "b[2]"
   ]
  },
  {
   "cell_type": "code",
   "execution_count": 72,
   "metadata": {},
   "outputs": [
    {
     "data": {
      "text/plain": [
       "array([1, 1, 0, ..., 1, 1, 1])"
      ]
     },
     "execution_count": 72,
     "metadata": {},
     "output_type": "execute_result"
    }
   ],
   "source": [
    "b[3]"
   ]
  },
  {
   "cell_type": "code",
   "execution_count": 73,
   "metadata": {},
   "outputs": [],
   "source": [
    "c=b[0]"
   ]
  },
  {
   "cell_type": "code",
   "execution_count": 74,
   "metadata": {},
   "outputs": [
    {
     "data": {
      "text/plain": [
       "array([0, 0, 0, ..., 0, 0, 0])"
      ]
     },
     "execution_count": 74,
     "metadata": {},
     "output_type": "execute_result"
    }
   ],
   "source": [
    "c"
   ]
  },
  {
   "cell_type": "code",
   "execution_count": 76,
   "metadata": {},
   "outputs": [
    {
     "data": {
      "text/plain": [
       "5827"
      ]
     },
     "execution_count": 76,
     "metadata": {},
     "output_type": "execute_result"
    }
   ],
   "source": [
    "c[np.where(c<1)].size"
   ]
  },
  {
   "cell_type": "code",
   "execution_count": 77,
   "metadata": {},
   "outputs": [],
   "source": [
    "rrr=np.array([1,2,2,1])\n",
    "ccc=np.array([3,2,4,1])"
   ]
  },
  {
   "cell_type": "code",
   "execution_count": 78,
   "metadata": {},
   "outputs": [
    {
     "data": {
      "text/plain": [
       "array([4, 4, 6, 2])"
      ]
     },
     "execution_count": 78,
     "metadata": {},
     "output_type": "execute_result"
    }
   ],
   "source": [
    "rrr+ccc"
   ]
  },
  {
   "cell_type": "code",
   "execution_count": 79,
   "metadata": {},
   "outputs": [
    {
     "data": {
      "text/plain": [
       "[1, 2, 2, 2, 3, 4]"
      ]
     },
     "execution_count": 79,
     "metadata": {},
     "output_type": "execute_result"
    }
   ],
   "source": [
    "a=[1,2,2]\n",
    "b=[2,3,4]\n",
    "a+b"
   ]
  },
  {
   "cell_type": "code",
   "execution_count": 83,
   "metadata": {},
   "outputs": [],
   "source": [
    "a=1+2+4\\\n",
    "  +5"
   ]
  },
  {
   "cell_type": "code",
   "execution_count": 87,
   "metadata": {},
   "outputs": [
    {
     "data": {
      "text/plain": [
       "array([3, 6, 6, 3])"
      ]
     },
     "execution_count": 87,
     "metadata": {},
     "output_type": "execute_result"
    }
   ],
   "source": [
    "rrr*3"
   ]
  },
  {
   "cell_type": "code",
   "execution_count": null,
   "metadata": {},
   "outputs": [],
   "source": []
  }
 ],
 "metadata": {
  "kernelspec": {
   "display_name": "Python 3",
   "language": "python",
   "name": "python3"
  },
  "language_info": {
   "codemirror_mode": {
    "name": "ipython",
    "version": 3
   },
   "file_extension": ".py",
   "mimetype": "text/x-python",
   "name": "python",
   "nbconvert_exporter": "python",
   "pygments_lexer": "ipython3",
   "version": "3.6.3"
  }
 },
 "nbformat": 4,
 "nbformat_minor": 2
}
