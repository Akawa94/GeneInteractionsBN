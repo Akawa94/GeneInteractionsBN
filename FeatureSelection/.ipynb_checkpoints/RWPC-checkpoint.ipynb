{
 "cells": [
  {
   "cell_type": "code",
   "execution_count": 1,
   "metadata": {},
   "outputs": [],
   "source": [
    "import numpy as np\n",
    "import pandas as pd\n",
    "from Utilities.G2Dependency import *\n",
    "from Utilities.ClassicMM import *\n",
    "from ipynb.fs.defs.RandomWalk import RandomWalk\n",
    "from ipynb.fs.defs.GraphReader import GraphReader"
   ]
  },
  {
   "cell_type": "code",
   "execution_count": 2,
   "metadata": {},
   "outputs": [],
   "source": [
    "class RWPC():\n",
    "    \n",
    "    def __init__(self, alpha, delta, max_neighbours, n_iter):\n",
    "        \n",
    "        self._RW = RandomWalk(alpha, delta, max_neighbours)\n",
    "        self._alpha = alpha\n",
    "        self._G2Dep = None\n",
    "        self._arrX= None\n",
    "        self._n_iter = n_iter\n",
    "        return\n",
    "    \n",
    "    def fit(self, X):\n",
    "        \"\"\"\n",
    "        Fit training dataset X, completing G2Dep matrix and training RW\n",
    "        \"\"\"\n",
    "        self._RW.fit(X)\n",
    "        self._G2Dep = self._RW.get_G2Dep()\n",
    "        self._arrX = arrayX(X)\n",
    "        return\n",
    "    \n",
    "    \n",
    "    def __rw_node_v2(self, t_index, t_iter, threshold, CPC):\n",
    "        # will work at name level, then reconstruct list\n",
    "        cpc_names = [x['name'].split('@')[0] for x in CPC]\n",
    "        evaluation = self._RW.evaluate_node_index(t_index,t_iter)\n",
    "        results = [x for x in sorted(evaluation[\"Node\"+str(t_index+1)].items(), key=lambda x:x[1], reverse=True)]\n",
    "        cpc_results = []\n",
    "        g_ratio = (1+5**(1/2))/2\n",
    "        set_results = [x[0] for x in results if x[0] in cpc_names and (x[1])>t_iter*g_ratio/(len(self._arrX))]\n",
    "        \n",
    "        set_returnable = []\n",
    "        for i in range(len(CPC)-1,-1,-1):\n",
    "            if CPC[i]['name'].split('@')[0] in set_results:\n",
    "                set_returnable.append(CPC.pop(i))\n",
    "        #print([x['name'] for x in CPC])\n",
    "        return [set_returnable, CPC]\n",
    "    \n",
    "    def __exist_dseparator(self, TargetNode,Xi, Z, X, alpha):\n",
    "        flagExist = False\n",
    "        dsepSet=[]\n",
    "        #counter=0\n",
    "        #print_names(Z)\n",
    "        for i in range(0,(2**len(Z))-1):\n",
    "            IDsubsetZ_dec = i\n",
    "            IDsubsetZ_bin = bin(IDsubsetZ_dec)\n",
    "            subsetZ = getZsubset(IDsubsetZ_bin,Z)\n",
    "            # no cache\n",
    "            #print(\"from exist dseparator\")\n",
    "            dep = self._G2Dep.dependency(TargetNode,Xi,subsetZ, alpha)\n",
    "            #print(subsetZ)\n",
    "            #print(dep)\n",
    "            if (dep==0):\n",
    "                flagExist = True\n",
    "                dsepSet = subsetZ\n",
    "                break\n",
    "        #print(\"Module exist d-separator: \",counter)\n",
    "        return [flagExist,dsepSet]\n",
    "    \n",
    "    def __classic_filtering_phase(self, TargetNode, CPC, X, alpha):\n",
    "        filtered_cpc = []\n",
    "        if (len(CPC)>1):\n",
    "            for i in range(len(CPC)-1,-1,-1):\n",
    "                evaluated_node = CPC.pop(i)\n",
    "                if self.__exist_dseparator(TargetNode,evaluated_node,CPC,X,alpha)[0] == False:\n",
    "                    filtered_cpc.append(evaluated_node)\n",
    "        else:\n",
    "            return CPC\n",
    "        return filtered_cpc\n",
    "    \n",
    "    \n",
    "    def __rw_community_selection_phase_v2(self, TargetNode, CPC, X, alpha, n_iter):\n",
    "        votation_arr = []\n",
    "        if (len(CPC)>1):\n",
    "            # will divide the sets in np.log(size)*2\n",
    "            CPC = sorted(CPC,key=lambda x:self._G2Dep.dependency(TargetNode,x,[],alpha),reverse = True)\n",
    "            size_sets = ceil(np.log(len(CPC))*2)\n",
    "            print(\"Size set for community selection phase will be of maximum: \"+str(size_sets))\n",
    "            n_sets = ceil(len(CPC)/size_sets)\n",
    "            CPC_copy = list(CPC)\n",
    "            nodes_sets = []\n",
    "            if (len(CPC)>5):\n",
    "                while(len(CPC_copy)>0):\n",
    "                    if len(CPC_copy) == 1:\n",
    "                        nodes_sets.append([CPC_copy.pop(0)])\n",
    "                        break\n",
    "                        \n",
    "                    rand_index = random.randint(0,len(CPC_copy))-1                    \n",
    "                    rand_true_index = int(CPC_copy[rand_index]['name'].split('@')[0].split('Node')[1]) - 1\n",
    "                    rand_node = CPC_copy.pop(rand_index)\n",
    "                    rw_results = self.__rw_node_v2(rand_true_index, n_iter, size_sets, CPC_copy)\n",
    "                    #rw_results = self.__rw_node_all(rand_true_index, n_iter, size_sets, CPC_copy)\n",
    "                    node_set = [rand_node] + rw_results[0]\n",
    "                    CPC_copy = rw_results[1]\n",
    "                    nodes_sets.append(node_set)\n",
    "            else:\n",
    "                nodes_sets.append(CPC)\n",
    "            pre_cpc = []\n",
    "            for n_set in nodes_sets:\n",
    "                print([x['name'] for x in n_set])\n",
    "                if (len(n_set)>1):\n",
    "                    print(\"n_set of length: \"+str(len(n_set)))\n",
    "                for node in self.__classic_filtering_phase(TargetNode, n_set, X, alpha):\n",
    "                    if (len(n_set)==1):\n",
    "                        print(\"n_set of length: 1\")\n",
    "                        pre_cpc.append(node) \n",
    "                        continue\n",
    "                    pre_cpc.append(node)\n",
    "            return pre_cpc\n",
    "        else:\n",
    "            return CPC\n",
    "    \n",
    "    \n",
    "    def evaluate(self, index):\n",
    "        start = time.clock()\n",
    "        CPC=[]\n",
    "        alpha = self._alpha\n",
    "        X = self._arrX\n",
    "        TargetNode = [x for x in self._arrX if x['name'].split('@')[0] == (\"Node\"+str(index+1))][0]\n",
    "        Universe = arrayUniverse(TargetNode['name'], self._arrX)\n",
    "        print(\"Entering Growing Phase\")\n",
    "        print(\"MMPC_beggining: \\n\"+str(len(Universe)))\n",
    "        \n",
    "        CPC = self.__rw_node_v2(index, self._n_iter, -1 , Universe)[0]\n",
    "        \n",
    "        print(\"Entering Pruning Phase\")\n",
    "        print(\"Size of Micro Universe: \"+str(len(CPC)))\n",
    "        \n",
    "        n_deleted = -1\n",
    "        while n_deleted != 0 :\n",
    "            old_len = len(CPC)\n",
    "            CPC = self.__rw_community_selection_phase_v2(TargetNode, CPC, X, self._alpha, self._n_iter)\n",
    "            new_len = len(CPC)\n",
    "            n_deleted = old_len - new_len\n",
    "        \n",
    "        \n",
    "        stop = time.clock()\n",
    "        results = {}\n",
    "        results['CPC'] = CPC\n",
    "        results['time'] = stop - start\n",
    "        \n",
    "        return results"
   ]
  },
  {
   "cell_type": "code",
   "execution_count": 3,
   "metadata": {},
   "outputs": [],
   "source": [
    "X = pd.read_csv(\"/home/a20114261/sdelrio/alarm_datasets/Alarm10/Alarm10_s1000_v4.txt\",delimiter='  ',header=None, engine='python')"
   ]
  },
  {
   "cell_type": "code",
   "execution_count": 4,
   "metadata": {},
   "outputs": [
    {
     "name": "stdout",
     "output_type": "stream",
     "text": [
      "Random Walk successful instantiation with:\n",
      "-Alpha: 0.05\n",
      "-Delta: 0.0\n",
      "-Max Neighbours per run: 1\n"
     ]
    }
   ],
   "source": [
    "RWPC_model = RWPC(0.05,0.0,1,10000)"
   ]
  },
  {
   "cell_type": "code",
   "execution_count": 5,
   "metadata": {},
   "outputs": [
    {
     "name": "stdout",
     "output_type": "stream",
     "text": [
      "Succesful instantiation of Dep object\n",
      "Succesfully fitted array of 370 columns\n",
      "and 1000 rows per column.\n"
     ]
    }
   ],
   "source": [
    "RWPC_model.fit(X)"
   ]
  },
  {
   "cell_type": "code",
   "execution_count": 10,
   "metadata": {
    "scrolled": true
   },
   "outputs": [
    {
     "name": "stdout",
     "output_type": "stream",
     "text": [
      "Entering Growing Phase\n",
      "MMPC_beggining: \n",
      "369\n",
      "Entering Pruning Phase\n",
      "Size of Micro Universe: 4\n",
      "Size set for community selection phase will be of maximum: 3\n",
      "['Node77@3', 'Node66@3', 'Node38@4', 'Node42@3']\n",
      "n_set of length: 4\n",
      "Size set for community selection phase will be of maximum: 3\n",
      "['Node77@3', 'Node66@3', 'Node42@3']\n",
      "n_set of length: 3\n",
      "==================================\n",
      "Expected PC: \n",
      "['Node77', 'Node102', 'Node259']\n",
      "Result is:\n",
      "['Node42@3', 'Node66@3', 'Node77@3']\n",
      "Size of results:\n",
      "3\n",
      "Distance is:\n",
      "{'distance-mb': 1.0000337768737348, 'distance-pc': 1.0000334097426615}\n",
      "CPU times: user 3.02 s, sys: 53.7 ms, total: 3.07 s\n",
      "Wall time: 2.87 s\n"
     ]
    }
   ],
   "source": [
    "%%time\n",
    "t_index = 103\n",
    "CPC = RWPC_model.evaluate(t_index)\n",
    "\n",
    "print(\"==================================\")\n",
    "print(\"Expected PC: \")\n",
    "print(graph_reader.getPC(t_index))\n",
    "print(\"Result is:\")\n",
    "print([x['name'] for x in CPC['CPC']])\n",
    "print(\"Size of results:\")\n",
    "print(len(CPC['CPC']))\n",
    "print(\"Distance is:\")\n",
    "print(graph_reader.getDistance(t_index,[x['name'] for x in CPC['CPC']]))"
   ]
  },
  {
   "cell_type": "code",
   "execution_count": 20,
   "metadata": {},
   "outputs": [
    {
     "data": {
      "text/plain": [
       "['Node76@4', 'Node96@4', 'Node78@4', 'Node133@4', 'Node23@4', 'Node39@4']"
      ]
     },
     "execution_count": 20,
     "metadata": {},
     "output_type": "execute_result"
    }
   ],
   "source": []
  },
  {
   "cell_type": "code",
   "execution_count": 7,
   "metadata": {},
   "outputs": [],
   "source": [
    "graph_reader = GraphReader('/home/a20114261/sdelrio/Alarm10_graph.txt')"
   ]
  },
  {
   "cell_type": "code",
   "execution_count": null,
   "metadata": {},
   "outputs": [],
   "source": []
  }
 ],
 "metadata": {
  "kernelspec": {
   "display_name": "Python 3",
   "language": "python",
   "name": "python3"
  },
  "language_info": {
   "codemirror_mode": {
    "name": "ipython",
    "version": 3
   },
   "file_extension": ".py",
   "mimetype": "text/x-python",
   "name": "python",
   "nbconvert_exporter": "python",
   "pygments_lexer": "ipython3",
   "version": "3.6.4"
  }
 },
 "nbformat": 4,
 "nbformat_minor": 2
}
