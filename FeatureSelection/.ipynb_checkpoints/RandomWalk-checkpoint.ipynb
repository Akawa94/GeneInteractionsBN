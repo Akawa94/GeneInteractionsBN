{
 "cells": [
  {
   "cell_type": "code",
   "execution_count": 130,
   "metadata": {},
   "outputs": [],
   "source": [
    "import numpy as np\n",
    "import pandas as pd\n",
    "import scipy as sp\n",
    "from scipy.stats import chi2\n",
    "from math import floor\n",
    "from math import ceil\n",
    "from sklearn.svm import LinearSVC\n",
    "import operator\n",
    "from functools import reduce\n",
    "import itertools\n",
    "import random\n",
    "import os\n",
    "import time\n",
    "import copy\n",
    "from Utilities import G2Dependency"
   ]
  },
  {
   "cell_type": "code",
   "execution_count": 29,
   "metadata": {},
   "outputs": [],
   "source": [
    "class RandomWalk():\n",
    "    \n",
    "    def __init__(self, alpha, delta, max_neighbours):\n",
    "        \n",
    "        self._frec_matrix = None\n",
    "        self._restricted_frec_matrix = None\n",
    "        self._dep_matrix = None\n",
    "        self._G2Dep = None\n",
    "        \n",
    "        \n",
    "        self._data_frame = None\n",
    "        self._data_c_size = -1\n",
    "        self._alpha = alpha\n",
    "        self._delta = delta\n",
    "        self._max_neighbours = max_neighbours\n",
    "        \n",
    "        self._target_node = \"None\"\n",
    "        \n",
    "        print(\"Random Walk successful instantiation with:\")\n",
    "        print(\"-Alpha: \"+str(self._alpha))\n",
    "        print(\"-Delta: \"+str(self._delta))\n",
    "        print(\"-Max Neighbours per run: \"+str(self._max_neighbours))\n",
    "        \n",
    "        return\n",
    "    \n",
    "    def _get_dep_matrix(self):\n",
    "        return self._dep_matrix\n",
    "    \n",
    "    def get_G2Dep(self):\n",
    "        return self._G2Dep\n",
    "    \n",
    "    def set_alpha(self, alpha):\n",
    "        self._alpha = alpha\n",
    "        print(\"Succesfully set an alpha of: \"+str(self._alpha))\n",
    "        \n",
    "        return\n",
    "    \n",
    "    def set_min_threshold(self, delta):\n",
    "        self._delta = delta\n",
    "        print(\"Succesfully set an minimum threshold of: \"+str(self._delta))\n",
    "        \n",
    "        return\n",
    "    \n",
    "    def set_max_neighbours(self, m_n):\n",
    "        self._max_neighbours = m_n\n",
    "        print(\"Succesfully set an maximum number of neighbours of: \"+str(self._max_neighbours))\n",
    "        return"
   ]
  },
  {
   "cell_type": "code",
   "execution_count": 30,
   "metadata": {},
   "outputs": [],
   "source": [
    "class RandomWalk(RandomWalk):\n",
    "    \n",
    "    def fit(self,X):\n",
    "        \n",
    "        \"\"\"\n",
    "        Pre-process dataframe in order to process it\n",
    "        \"\"\"\n",
    "        x_heads = []\n",
    "        for i in range(0,len(X.keys())):\n",
    "            max_v=1\n",
    "            for row in X[X.keys()[i]]:\n",
    "                if (row>max_v-1):\n",
    "                    max_v+=row-(max_v-1)\n",
    "            x_heads.append(\"Node\"+str(i+1)+\"@\"+str(max_v))\n",
    "        X.columns = x_heads\n",
    "        self._data_c_size = X.shape[0]\n",
    "        self._data_frame = self.__arrayX(X)\n",
    "        \n",
    "        \n",
    "        \"\"\"\n",
    "        Process all nodes to fill the dep_matrix\n",
    "        \"\"\"\n",
    "        \n",
    "        dep_matrix = {}\n",
    "        frec_matrix = {}\n",
    "        # intialize matrices\n",
    "        for column in self._data_frame:\n",
    "            dep_matrix[column['name'].split('@')[0]] = {}\n",
    "            frec_matrix[column['name'].split('@')[0]] = {}\n",
    "            for sub_column in self._data_frame:\n",
    "                dep_matrix[column['name'].split('@')[0]][sub_column['name'].split('@')[0]] = -1\n",
    "                frec_matrix[column['name'].split('@')[0]][sub_column['name'].split('@')[0]] = 0\n",
    "        \n",
    "        # fill and pop dict.keys\n",
    "        self._G2Dep = G2Dependency(self._alpha, self._data_c_size)\n",
    "        \n",
    "        for column in self._data_frame:\n",
    "            for sub_column in self._data_frame:\n",
    "                c_name = column['name'].split('@')[0]\n",
    "                sub_c_name = sub_column['name'].split('@')[0]\n",
    "                \n",
    "                if c_name == sub_c_name:\n",
    "                    continue\n",
    "                if c_name not in dep_matrix.keys():\n",
    "                    continue\n",
    "                if sub_c_name not in dep_matrix[column['name'].split('@')[0]].keys():\n",
    "                    continue\n",
    "                if dep_matrix[c_name][sub_c_name]>-1:\n",
    "                    continue\n",
    "                \n",
    "                \n",
    "                dep_result, dep_effective = self._G2Dep.dependency(column,sub_column,[],0.05) # 20200903\n",
    "                if (dep_result < self._delta):\n",
    "                    # pop the entry from both sides\n",
    "                    del dep_matrix[c_name][sub_c_name]\n",
    "                    del dep_matrix[sub_c_name][c_name]\n",
    "                    del frec_matrix[c_name][sub_c_name]\n",
    "                    del frec_matrix[sub_c_name][c_name]\n",
    "                    continue\n",
    "                    \n",
    "                dep_matrix[c_name][sub_c_name] = dep_result\n",
    "                dep_matrix[sub_c_name][c_name] = dep_result\n",
    "                \n",
    "        \n",
    "        # Saving the dep_matrix\n",
    "        self._dep_matrix = dep_matrix\n",
    "        self._frec_matrix = frec_matrix\n",
    "        \n",
    "        \"\"\"\n",
    "        Message of confirmation\n",
    "        \"\"\"\n",
    "        \n",
    "        print(\"Succesfully fitted array of \"+str(len(X.keys()))+\" columns\")\n",
    "        print(\"and \"+str(self._data_c_size)+\" rows per column.\")\n",
    "        \n",
    "        return\n",
    "    \n",
    "    def __arrayX(self,X):\n",
    "        returnable=[]\n",
    "        for key in X:\n",
    "            append_dict={'name':key,'data':X[key].copy(deep=True).tolist()}\n",
    "            returnable.append(append_dict)\n",
    "        return returnable"
   ]
  },
  {
   "cell_type": "code",
   "execution_count": 31,
   "metadata": {},
   "outputs": [],
   "source": [
    "class RandomWalk(RandomWalk):\n",
    "    \n",
    "    def evaluate_node_index(self, main_index, num_iter):\n",
    "        \n",
    "        # we will reset first the frecuency matrix\n",
    "        self.__reset_frec_matrix()\n",
    "        \n",
    "        main_n = 'Node' + str(main_index + 1)\n",
    "        \n",
    "        for iter_n in range(0, num_iter):\n",
    "            # initialize visited vector\n",
    "            curr_n = main_n\n",
    "            visited_nodes = [main_n]\n",
    "            n_jumps = 0\n",
    "            while (curr_n != -1 and n_jumps < self._max_neighbours):\n",
    "                # mark step\n",
    "                if (curr_n != main_n):\n",
    "                    visited_nodes.append(curr_n)\n",
    "                \n",
    "                curr_n = self.__jump(curr_n, visited_nodes)\n",
    "                n_jumps += 1\n",
    "        \n",
    "        \n",
    "        return self._frec_matrix\n",
    "    \n",
    "    \n",
    "    def __jump(self, origin_n, visited_nodes):\n",
    "        possible_nodes = [x for x in self._frec_matrix[origin_n] \n",
    "                          if x not in visited_nodes]\n",
    "        if (len(possible_nodes) == 0):\n",
    "            return -1\n",
    "        \n",
    "        max_val = reduce(operator.add, [self._dep_matrix[origin_n][x] \n",
    "                                        for x in possible_nodes])\n",
    "        \n",
    "        jump_result = np.random.uniform(0,max_val,1)[0]\n",
    "        \n",
    "        accumulator = 0\n",
    "        for x in possible_nodes:\n",
    "            next_val = self._dep_matrix[origin_n][x]\n",
    "            if (accumulator + next_val > jump_result):\n",
    "                self._frec_matrix[origin_n][x] += 1\n",
    "                return x\n",
    "            accumulator += next_val\n",
    "        \n",
    "        return -1\n",
    "        \n",
    "        \n",
    "        \n",
    "    \n",
    "    def __reset_frec_matrix(self):\n",
    "        for key in self._frec_matrix:\n",
    "            for sub_key in self._frec_matrix[key]:\n",
    "                self._frec_matrix[key][sub_key] = 0\n",
    "        \n",
    "        return\n",
    "        "
   ]
  },
  {
   "cell_type": "code",
   "execution_count": 126,
   "metadata": {},
   "outputs": [],
   "source": [
    "df = pd.read_csv(\"/home/sdelrio/alarm_datasets/Alarm10/Alarm10_s5000_v3.txt\",delimiter='  ',header=None, engine='python')"
   ]
  },
  {
   "cell_type": "code",
   "execution_count": 58,
   "metadata": {
    "scrolled": true
   },
   "outputs": [
    {
     "name": "stdout",
     "output_type": "stream",
     "text": [
      "Random Walk successful instantiation with:\n",
      "-Alpha: 0.05\n",
      "-Delta: 0.1\n",
      "-Max Neighbours per run: 1\n"
     ]
    }
   ],
   "source": [
    "c_inst = RandomWalk(0.05,0.1,1)"
   ]
  },
  {
   "cell_type": "code",
   "execution_count": 127,
   "metadata": {},
   "outputs": [
    {
     "name": "stdout",
     "output_type": "stream",
     "text": [
      "Succesful instantiation of Dep object\n",
      "Succesfully fitted array of 370 columns\n",
      "and 5000 rows per column.\n"
     ]
    }
   ],
   "source": [
    "#%%time\n",
    "c_inst.fit(df)"
   ]
  },
  {
   "cell_type": "code",
   "execution_count": null,
   "metadata": {},
   "outputs": [],
   "source": [
    "dep_mm = c_inst._get_dep_matrix()"
   ]
  },
  {
   "cell_type": "code",
   "execution_count": null,
   "metadata": {},
   "outputs": [],
   "source": [
    "dep_mm['Node101']"
   ]
  },
  {
   "cell_type": "code",
   "execution_count": 128,
   "metadata": {
    "scrolled": true
   },
   "outputs": [
    {
     "name": "stdout",
     "output_type": "stream",
     "text": [
      "CPU times: user 332 ms, sys: 0 ns, total: 332 ms\n",
      "Wall time: 920 ms\n"
     ]
    }
   ],
   "source": [
    "#%%time\n",
    "t_node_index = 12\n",
    "n_iter = 10000\n",
    "evaluation = c_inst.evaluate_node_index(t_node_index,n_iter)"
   ]
  },
  {
   "cell_type": "code",
   "execution_count": 129,
   "metadata": {},
   "outputs": [
    {
     "name": "stdout",
     "output_type": "stream",
     "text": [
      "[('Node187', 310), ('Node19', 306), ('Node31', 299), ('Node28', 298), ('Node15', 289)]\n",
      "['Node187', 'Node19', 'Node31', 'Node28', 'Node15']\n"
     ]
    }
   ],
   "source": [
    "threshold = 5\n",
    "results=sorted(evaluation[\"Node\"+str(t_node_index+1)].items(), key=lambda x:x[1], reverse=True)[:threshold]\n",
    "print(results)\n",
    "print([x[0] for x in results])"
   ]
  },
  {
   "cell_type": "code",
   "execution_count": 85,
   "metadata": {
    "scrolled": true
   },
   "outputs": [
    {
     "data": {
      "image/png": "[encoded data removed]",
      "text/plain": [
       "<matplotlib.figure.Figure at 0x7f6f715cda58>"
      ]
     },
     "metadata": {},
     "output_type": "display_data"
    }
   ],
   "source": [
    "# #%matplotlib inline\n",
    "# import networkx as nx\n",
    "# graph_df = pd.DataFrame(columns=['from','to'])\n",
    "# for x in evaluation:\n",
    "#     for y in evaluation[x]:\n",
    "#         if evaluation[x][y] > 0:\n",
    "#             graph_df = graph_df.append({'from':x,\n",
    "#                                      'to':y},ignore_index=True)\n",
    "\n",
    "\n",
    "# import matplotlib.pyplot as plt\n",
    "# G = nx.from_pandas_edgelist(graph_df, 'from', 'to')\n",
    "# nx.draw(G, with_labels=True, node_size=1500,width=1, linewidths=1, node_color=\"skyblue\", style='solid', node_shape=\"s\")\n",
    "# plt.show()"
   ]
  },
  {
   "cell_type": "code",
   "execution_count": 83,
   "metadata": {},
   "outputs": [
    {
     "name": "stdout",
     "output_type": "stream",
     "text": [
      "Link from Node12 to Node1 had the strength of: 341/10000\n",
      "Link from Node12 to Node2 had the strength of: 395/10000\n",
      "Link from Node12 to Node4 had the strength of: 368/10000\n",
      "Link from Node12 to Node5 had the strength of: 356/10000\n",
      "Link from Node12 to Node7 had the strength of: 377/10000\n",
      "Link from Node12 to Node8 had the strength of: 378/10000\n",
      "Link from Node12 to Node10 had the strength of: 370/10000\n",
      "Link from Node12 to Node11 had the strength of: 403/10000\n",
      "Link from Node12 to Node12 had the strength of: 0/10000\n",
      "Link from Node12 to Node13 had the strength of: 369/10000\n",
      "Link from Node12 to Node14 had the strength of: 374/10000\n",
      "Link from Node12 to Node15 had the strength of: 400/10000\n",
      "Link from Node12 to Node16 had the strength of: 396/10000\n",
      "Link from Node12 to Node18 had the strength of: 381/10000\n",
      "Link from Node12 to Node19 had the strength of: 353/10000\n",
      "Link from Node12 to Node21 had the strength of: 375/10000\n",
      "Link from Node12 to Node22 had the strength of: 353/10000\n",
      "Link from Node12 to Node23 had the strength of: 356/10000\n",
      "Link from Node12 to Node24 had the strength of: 289/10000\n",
      "Link from Node12 to Node28 had the strength of: 381/10000\n",
      "Link from Node12 to Node29 had the strength of: 388/10000\n",
      "Link from Node12 to Node31 had the strength of: 388/10000\n",
      "Link from Node12 to Node32 had the strength of: 345/10000\n",
      "Link from Node12 to Node33 had the strength of: 366/10000\n",
      "Link from Node12 to Node34 had the strength of: 384/10000\n",
      "Link from Node12 to Node35 had the strength of: 371/10000\n",
      "Link from Node12 to Node36 had the strength of: 374/10000\n",
      "Link from Node12 to Node37 had the strength of: 369/10000\n"
     ]
    }
   ],
   "source": [
    "for x in evaluation:\n",
    "    for y in evaluation[\"Node\"+str(t_node_index+1)]:\n",
    "        if x==\"Node\"+(str(t_node_index+1)):\n",
    "            print(\"Link from \"+x+\" to \"+y+\" had the strength of: \"+str(evaluation[x][y])+\"/\"+str(n_iter))"
   ]
  },
  {
   "cell_type": "code",
   "execution_count": null,
   "metadata": {},
   "outputs": [],
   "source": []
  }
 ],
 "metadata": {
  "kernelspec": {
   "display_name": "Python 3",
   "language": "python",
   "name": "python3"
  },
  "language_info": {
   "codemirror_mode": {
    "name": "ipython",
    "version": 3
   },
   "file_extension": ".py",
   "mimetype": "text/x-python",
   "name": "python",
   "nbconvert_exporter": "python",
   "pygments_lexer": "ipython3",
   "version": "3.6.4"
  }
 },
 "nbformat": 4,
 "nbformat_minor": 2
}
