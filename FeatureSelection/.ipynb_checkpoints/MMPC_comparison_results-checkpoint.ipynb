{
 "cells": [
  {
   "cell_type": "code",
   "execution_count": 1,
   "metadata": {},
   "outputs": [],
   "source": [
    "import os"
   ]
  },
  {
   "cell_type": "code",
   "execution_count": 35,
   "metadata": {
    "scrolled": true
   },
   "outputs": [
    {
     "name": "stdout",
     "output_type": "stream",
     "text": [
      "90\n"
     ]
    }
   ],
   "source": [
    "data_summary = {}\n",
    "log_dir = '/home/sdelrio/alarm_datasets/log_results/'\n",
    "print(len([x for x in os.listdir(log_dir) if x.split('_')[0]=='time']))\n",
    "for filename in [x for x in os.listdir(log_dir) if x.split('_')[0]=='time']:\n",
    "    #print(filename)\n",
    "    mmpc_model = filename.split('_')[2]\n",
    "    if (mmpc_model not in data_summary.keys()):\n",
    "        data_summary[mmpc_model] = []\n",
    "    ff = open(log_dir+filename, 'r')\n",
    "    file_recovery = ff.read().split('\\n')\n",
    "    for line in file_recovery:\n",
    "        #print(len(line.split(';')))\n",
    "        try:\n",
    "            data_summary[mmpc_model].append([line.split(';')[0].split('_')[1],float(line.split(';')[2])])\n",
    "        except:\n",
    "            pass\n",
    "\n",
    "    "
   ]
  },
  {
   "cell_type": "code",
   "execution_count": 38,
   "metadata": {},
   "outputs": [
    {
     "name": "stdout",
     "output_type": "stream",
     "text": [
      "MMPC\n",
      "MMPCOPT\n",
      "MMRWPC\n",
      "[['MMPC', 's1000', 1415.5274429999984], ['MMPC', 's500', 19600.18665099998], ['MMPC', 's5000', 18864.772662], ['MMPCOPT', 's1000', 490.12598399999945], ['MMPCOPT', 's500', 8683.758156000014], ['MMPCOPT', 's5000', 8391.517692000009], ['MMRWPC', 's1000', 7071.410105999998], ['MMRWPC', 's500', 33323.673428999995], ['MMRWPC', 's5000', 27006.281337000004]]\n"
     ]
    }
   ],
   "source": [
    "tesis_summary = []\n",
    "for key in data_summary:\n",
    "    print(key)\n",
    "    files_set = set([x[0] for x in data_summary[key]])\n",
    "    for file in files_set:\n",
    "        tesis_summary.append([key,file,sum([x[1] for x in data_summary[key] if file in x[0]])])"
   ]
  },
  {
   "cell_type": "code",
   "execution_count": 41,
   "metadata": {},
   "outputs": [
    {
     "name": "stdout",
     "output_type": "stream",
     "text": [
      "MMPC\n",
      "s1000\n",
      "[1415.5274429999984]\n",
      "MMPCOPT\n",
      "s1000\n",
      "[490.12598399999945]\n",
      "MMRWPC\n",
      "s1000\n",
      "[7071.410105999998]\n",
      "==========================================================================\n",
      "MMPC\n",
      "s500\n",
      "[19600.18665099998]\n",
      "MMPCOPT\n",
      "s500\n",
      "[8683.758156000014]\n",
      "MMRWPC\n",
      "s500\n",
      "[33323.673428999995]\n",
      "==========================================================================\n",
      "MMPC\n",
      "s5000\n",
      "[18864.772662]\n",
      "MMPCOPT\n",
      "s5000\n",
      "[8391.517692000009]\n",
      "MMRWPC\n",
      "s5000\n",
      "[27006.281337000004]\n",
      "==========================================================================\n"
     ]
    }
   ],
   "source": [
    "for n_rows in set([x[1] for x in tesis_summary]):\n",
    "    for key in set([x[0] for x in tesis_summary if x[1] == n_rows]):\n",
    "        print(key)\n",
    "        print(n_rows)\n",
    "        print([x[2] for x in tesis_summary if x[0] == key and x[1] == n_rows])\n",
    "    print('==========================================================================')"
   ]
  },
  {
   "cell_type": "code",
   "execution_count": null,
   "metadata": {},
   "outputs": [],
   "source": []
  }
 ],
 "metadata": {
  "kernelspec": {
   "display_name": "Python 3",
   "language": "python",
   "name": "python3"
  },
  "language_info": {
   "codemirror_mode": {
    "name": "ipython",
    "version": 3
   },
   "file_extension": ".py",
   "mimetype": "text/x-python",
   "name": "python",
   "nbconvert_exporter": "python",
   "pygments_lexer": "ipython3",
   "version": "3.6.4"
  }
 },
 "nbformat": 4,
 "nbformat_minor": 2
}
