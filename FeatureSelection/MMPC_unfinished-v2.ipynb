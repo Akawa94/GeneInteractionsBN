{
 "cells": [
  {
   "cell_type": "code",
   "execution_count": 1,
   "metadata": {},
   "outputs": [],
   "source": [
    "# Original Max-Min Parents and Children ALgorithm\n",
    "# input: data X and significance level alpha\n",
    "# output: Parents and Children set for a node"
   ]
  },
  {
   "cell_type": "code",
   "execution_count": 1,
   "metadata": {},
   "outputs": [],
   "source": [
    "import numpy as np\n",
    "import pandas as pd\n",
    "import scipy as sp\n",
    "from scipy.stats import chi2"
   ]
  },
  {
   "cell_type": "code",
   "execution_count": 6,
   "metadata": {},
   "outputs": [],
   "source": [
    "X = pd.read_csv(\"/home/a20114261/GeneInteractions/GeneInteractionsBN_Datasets/Batches/censored_Erk_Target/batch_0.csv\")\n",
    "\n",
    "# each cell can be -1, 0 or 1\n",
    "#Pre-processing data\n",
    "X['Pvalue']=list(map(lambda x: 1 if x<=0.01 else (0 if x>=0.5 else -1), X['Pvalue']))\n",
    "del X['Unnamed: 0']\n",
    "del X['TrueIndex']\n",
    "del X['CauseGene']\n",
    "del X['EffectGene']\n",
    "del X['Replicate']\n",
    "del X['Treatment']\n",
    "PC=[]\n",
    "for column in X:\n",
    "    if (column != \"Pvalue\"):\n",
    "        X[column] = list(map(lambda x: x+1 , X[column]))\n",
    "\n",
    "# preliminary checkup\n",
    "#counter = 0\n",
    "#for column in X:\n",
    "#    if column!=\"Pvalue\" and counter<530:\n",
    "#        del X[column]\n",
    "#        counter+=1"
   ]
  },
  {
   "cell_type": "code",
   "execution_count": 7,
   "metadata": {},
   "outputs": [],
   "source": [
    "def ColumnLookup(X,column):\n",
    "    listX=arrayX(X)\n",
    "    listC=list(column)\n",
    "    for i in range(1,541):\n",
    "        true = 0\n",
    "        for j in range(0,5997):\n",
    "            if (listX[i][j]!=column[j]):\n",
    "                true+=1\n",
    "                break\n",
    "        if (true==0):\n",
    "            return i\n",
    "    return -1"
   ]
  },
  {
   "cell_type": "code",
   "execution_count": 8,
   "metadata": {},
   "outputs": [],
   "source": [
    "def ExistDseparator(TargetNode,Xi, Z, X, alpha):\n",
    "    flagExist = False\n",
    "    dsepSet=[]\n",
    "    \n",
    "    for i in range(0,(2**len(Z))-1):\n",
    "        IDsubsetZ_dec = i\n",
    "        IDsubsetZ_bin = bin(IDsubsetZ_dec)\n",
    "        subsetZ = getZsubset(IDsubsetZ_bin,Z)\n",
    "        # no cache\n",
    "        dep = Dep(TargetNode,Xi,subsetZ, X, alpha)\n",
    "        if (dep==0):\n",
    "            flagExist = True\n",
    "            dsepSet = subsetZ\n",
    "            break\n",
    "    return [flagExist,dsepSet]"
   ]
  },
  {
   "cell_type": "code",
   "execution_count": 9,
   "metadata": {},
   "outputs": [],
   "source": [
    "def GetCondValues(z, sizes):\n",
    "    if len(sizes)>1:\n",
    "        maxz = np.sum(sizes)\n",
    "        d = np.multiply(np.ones((f1,len(sizes))),0)\n",
    "        \n",
    "        div_dim = maxz/sizes[0]\n",
    "        num2div = z-1\n",
    "        \n",
    "        for i in range(0,len(sizes)-1):\n",
    "            d[i] = floor(num2div/div_dim)\n",
    "            num2div=mod(num2div,div_dim)\n",
    "            div_dim = div_dim/sizes[i+1]\n",
    "        d[i+1] = num2div\n",
    "    else:\n",
    "        d = z-1\n",
    "    return d"
   ]
  },
  {
   "cell_type": "code",
   "execution_count": 10,
   "metadata": {},
   "outputs": [],
   "source": [
    "def Dep(TargetNode, Xi, CondVars, X, alpha):\n",
    "    #print('First line of Dep')\n",
    "    vvTarget = [0,1]\n",
    "    vvXi = [0,1,2]\n",
    "    if len(X[0])*3 <= (5 * 3*3*(3**len(CondVars))):\n",
    "        return 1\n",
    "    if (len(CondVars)==0):\n",
    "        S = np.multiply(np.ones((len(vvTarget),len(vvXi))),0)\n",
    "        for i in range(0,len(vvTarget)):\n",
    "            for j in range(0,len(vvXi)):\n",
    "                var1=np.array(X[0]) # Target Node\n",
    "                var2=np.array(Xi)\n",
    "                # looking up for 0, 1 and 2\n",
    "                op1 = np.array(list(map(lambda x: 1 if x==vvTarget[i] else 0, var1.tolist())))\n",
    "                op2 = np.array(list(map(lambda x: 1 if x==vvXi[j] else 0, var2.tolist())))\n",
    "                S[i][j]=np.sum(op1*op2)\n",
    "        G2=0\n",
    "        N = np.sum(S)\n",
    "        #print(S)\n",
    "        #print(N)\n",
    "        Si =np.sum(S,axis=1)\n",
    "        Sj =np.sum(S,axis=0)\n",
    "        Df = ((len(vvTarget)-1)*(len(vvXi)-1))\n",
    "        Dedf = np.sum(np.sum(S[np.where(S>0)])\\\n",
    "                      - np.sum(Si[np.where(Si>0)])\\\n",
    "                      - np.sum(Sj[np.where(Sj>0)]) -1)\n",
    "        if (Dedf<1):\n",
    "            Dedf=1\n",
    "            #print('Here is the trouble')\n",
    "            #return 0\n",
    "        #print(S)\n",
    "        for k in range(0,3):\n",
    "            for l in range(0,3):\n",
    "                #print(i)\n",
    "                #print(j)\n",
    "                if (S[i][j]>0):\n",
    "                    #print(Si[i])\n",
    "                    #print(Sj[j])\n",
    "                    G2 = G2 + S[i][j]*np.log((S[i][j])*N/(Si[i]*Sj[j]))\n",
    "                    #print(G2)\n",
    "        G2 = 2*G2\n",
    "        \n",
    "    else: # test conditional dependency\n",
    "        szCondVars = 3**len(CondVars)\n",
    "        S = np.multiply(np.ones((len(vvTarget),len(vvXi),szCondVars)),0)\n",
    "        for i in range(0,len(vvTarget)):\n",
    "            for j in range(0,len(vvXi)):\n",
    "                for k in range(0,szCondVars):\n",
    "                    condValue = GetCondValue(k,np.multiply(np.ones((len(CondVars),1)),3))\n",
    "                    flagDataCondVars = np.ones((len(vvXi),1))\n",
    "                    for l in range(0,len(CondVars)):\n",
    "                        X_l = X[CondVars(l)]\n",
    "                        #flagDataCondVars = flagDataCondVars*(X_l[where(X_l==condValue[l])])\n",
    "                        flagDataCondVars = np.array(list(map(lambda x: 1 if x==condValue[l] else 0, X_l.tolist())))\n",
    "                    var1=np.array(X[0])\n",
    "                    var2=np.array(Xi)\n",
    "                    # looking up for -1, 0 and 1\n",
    "                    op1 = np.array(list(map(lambda x: 1 if x==vvTarget[i] else 0, var1.tolist())))\n",
    "                    #print(op1)\n",
    "                    op2 = np.array(list(map(lambda x: 1 if x==vvXi[j] else 0, var2.tolist())))\n",
    "                    #print(op2)\n",
    "                    S[i][j][k]=np.sum(op1*op2)*flagDataCondVars\n",
    "        G2 = 0\n",
    "        Sjk = np.sum(S,axis=0)\n",
    "        Sik = np.sum(S,axis=1)\n",
    "        Sk = np.sum(Sjk,axis=1)\n",
    "        #print(Sjk)\n",
    "        #print(Sik)\n",
    "        #print(Sk)\n",
    "        Dedf = np.sum(np.sum(np.sum(S[np.where(S>0)]))) -\\\n",
    "                np.sum(np.sum(Sik[np.where(Sik>0)])) -\\\n",
    "                np.sum(np.sum(Sjk[np.where(Sjk>0)])) +\\\n",
    "                np.sum(Sk[np.where[Sk>0]])\n",
    "        if Dedf>1:\n",
    "            Dedf=1\n",
    "            #print('No, here is the trouble')\n",
    "            #return 0\n",
    "        \n",
    "        # compute G2 statistic\n",
    "        for i in range(0,len(vvTarget)):\n",
    "            for j in range(0,len(vvXI)):\n",
    "                for k in range(0,szCondVars):\n",
    "                    if (S[i][j][k]>0):\n",
    "                        G2=G2+(S[i][j][k] * log( (S[i][j][k]) * Sk[0][0][k])/\\\n",
    "                                    (Sik[i][0][k] * Sjk[0][j][k]))\n",
    "        G2 = 2*G2\n",
    "        \n",
    "    assoc = (alpha - (1 - chi2.cdf(G2,Dedf)))/alpha\n",
    "    #print(G2)\n",
    "    #print(Dedf)\n",
    "    #print(assoc)\n",
    "    if assoc<0:\n",
    "        assoc=0\n",
    "    return assoc\n",
    "    "
   ]
  },
  {
   "cell_type": "code",
   "execution_count": 11,
   "metadata": {},
   "outputs": [],
   "source": [
    "def getZsubset(bin_id,Z):\n",
    "    bin_str=str(bin_id)\n",
    "    Zsubset=[]\n",
    "    for i in range(0,len(bin_str)-2):\n",
    "        if bin_str[i]==1:\n",
    "            Zsubset.append(Z[i])\n",
    "    return Zsubset"
   ]
  },
  {
   "cell_type": "code",
   "execution_count": 12,
   "metadata": {},
   "outputs": [],
   "source": [
    "def arrayUniverse(TargetNode,X):\n",
    "    Universe = []\n",
    "    for key in X:\n",
    "        if (key!=TargetNode):\n",
    "            Universe.append(X[key].copy(deep=True).tolist())\n",
    "    return Universe"
   ]
  },
  {
   "cell_type": "code",
   "execution_count": 13,
   "metadata": {},
   "outputs": [],
   "source": [
    "def arrayX(X):\n",
    "    returnable=[]\n",
    "    for key in X:\n",
    "        #tagged_c = MB_Column(X[key].copy(deep=True).tolist(),key)\n",
    "        returnable.append(X[key].copy(deep=True).tolist())\n",
    "    return returnable"
   ]
  },
  {
   "cell_type": "code",
   "execution_count": 14,
   "metadata": {},
   "outputs": [],
   "source": [
    "def MinAssoc(TargetNode, Xi,Z, fixedCondVars, X, alpha):\n",
    "    subsetZ_assoc=[]\n",
    "    min_assoc=999\n",
    "    if len(Z)==0:\n",
    "        min_assoc = Dep(TargetNode, Xi, fixedCondVars, X, alpha)\n",
    "        subsetZ_min_assoc = fixedCondVars\n",
    "        #print(min_assoc)\n",
    "    else:\n",
    "        for IDsubsetZ_dec in range(0,2**len(Z)-1):\n",
    "            IDsubsetZ_bin = bin(IDsubsetZ_dec)\n",
    "            subsetZ = getZsubset(IDsubsetZ_bin,Z)\n",
    "            #print(len(Xi))\n",
    "            subsetZ_assoc.append(Dep(TargetNode, Xi, fixedCondVars+subsetZ,X,alpha))\n",
    "            #print(subsetZ_assoc[IDsubsetZ_dec])\n",
    "            if subsetZ_assoc[IDsubsetZ_dec] < min_assoc:\n",
    "                min_assoc = subsetZ_assoc[IDsubsetZ_dec]\n",
    "                subsetZ_min_assoc = fixedCondVars + subsetZ\n",
    "                if (min_assoc==0):\n",
    "                    break\n",
    "    return min_assoc"
   ]
  },
  {
   "cell_type": "code",
   "execution_count": 15,
   "metadata": {},
   "outputs": [],
   "source": [
    "def MaxMinHeuristic(TargetNode, CPC, Universe, X, alpha):\n",
    "    F=[]\n",
    "    assocF=-1\n",
    "    Z = CPC\n",
    "    fixedCondVars = []\n",
    "    if (len(CPC)>0):\n",
    "        Z = CPC[0:-1]           # all but the last one   \n",
    "        fixedCondVars = CPC[-1] # we use last one\n",
    "    \n",
    "    for i in range(0,len(Universe)):\n",
    "        if (len(Universe[i])==0):\n",
    "            continue\n",
    "        minAssoc = MinAssoc(TargetNode,Universe[i], Z,fixedCondVars, X,alpha)\n",
    "        #print(minAssoc)\n",
    "        if minAssoc>assocF:\n",
    "            assocF = minAssoc\n",
    "            F=Universe[i]\n",
    "        if minAssoc == 0:\n",
    "            Universe[i]=[]\n",
    "        #print(F)\n",
    "    return [F,assocF,Universe]"
   ]
  },
  {
   "cell_type": "code",
   "execution_count": 19,
   "metadata": {},
   "outputs": [],
   "source": [
    "def MMPC_(TargetNode,Universe,X,alpha):\n",
    "    \n",
    "    CPC=[]\n",
    "    # Phase I: Foward\n",
    "    print(\"Entering Phase I\")\n",
    "    while len(Universe)>0:\n",
    "        CPC_old = list(CPC) # copy\n",
    "        maxminheur=MaxMinHeuristic(TargetNode,CPC,list(Universe),X,alpha)\n",
    "        # maxminheur = [F, assocF, Universe]\n",
    "        F = maxminheur[0]\n",
    "        assocF = maxminheur[1]\n",
    "        Universe = maxminheur[2]\n",
    "        #print(\"Universe printing line\")\n",
    "        #print(Universe)\n",
    "        print(\"=============================\")\n",
    "        if assocF > 0:\n",
    "            CPC.append(F)\n",
    "            indF=Universe.index(F)\n",
    "            Universe.pop(indF)\n",
    "        if (len(CPC)==len(CPC_old)):\n",
    "            break\n",
    "        print(\"Universe actual size:\")\n",
    "        print(len(Universe))\n",
    "        print(\"CPC actual size:\")\n",
    "        print(len(CPC))\n",
    "    \n",
    "    # Phase 2: Backward\n",
    "    print(\"Entering Phase II\")\n",
    "    if len(CPC)>1:\n",
    "        print(\"CPC size was larger than 1\")\n",
    "        for i in range(0,len(CPC)):\n",
    "            Z=list(CPC)\n",
    "            # index is i\n",
    "            Z[i]=[]\n",
    "            if ExistDseparator(TargetNode,CPC[i],Z,X,alpha)[0] == True:\n",
    "                CPC[i]=[]\n",
    "    return CPC"
   ]
  },
  {
   "cell_type": "code",
   "execution_count": 17,
   "metadata": {},
   "outputs": [],
   "source": [
    "def MMPC(TargetNode, X, alpha):\n",
    "    # The universe will be an array of DataFrame Columns\n",
    "    Universe = arrayUniverse(TargetNode,X)\n",
    "    print(len(Universe))\n",
    "    X = arrayX(X)\n",
    "    print(len(X))\n",
    "    CPC = MMPC_(TargetNode,Universe,X,alpha)\n",
    "    return CPC"
   ]
  },
  {
   "cell_type": "code",
   "execution_count": 20,
   "metadata": {
    "scrolled": true
   },
   "outputs": [
    {
     "name": "stdout",
     "output_type": "stream",
     "text": [
      "540\n",
      "541\n",
      "Entering Phase I\n",
      "=============================\n",
      "Universe actual size:\n",
      "539\n",
      "CPC actual size:\n",
      "1\n",
      "=============================\n",
      "Universe actual size:\n",
      "538\n",
      "CPC actual size:\n",
      "2\n",
      "=============================\n",
      "Universe actual size:\n",
      "537\n",
      "CPC actual size:\n",
      "3\n",
      "=============================\n",
      "Universe actual size:\n",
      "536\n",
      "CPC actual size:\n",
      "4\n",
      "=============================\n",
      "Universe actual size:\n",
      "535\n",
      "CPC actual size:\n",
      "5\n",
      "=============================\n",
      "Universe actual size:\n",
      "534\n",
      "CPC actual size:\n",
      "6\n",
      "=============================\n",
      "Universe actual size:\n",
      "533\n",
      "CPC actual size:\n",
      "7\n",
      "=============================\n",
      "Universe actual size:\n",
      "532\n",
      "CPC actual size:\n",
      "8\n",
      "=============================\n",
      "Universe actual size:\n",
      "531\n",
      "CPC actual size:\n",
      "9\n",
      "=============================\n",
      "Universe actual size:\n",
      "530\n",
      "CPC actual size:\n",
      "10\n",
      "=============================\n",
      "Universe actual size:\n",
      "529\n",
      "CPC actual size:\n",
      "11\n",
      "=============================\n",
      "Universe actual size:\n",
      "528\n",
      "CPC actual size:\n",
      "12\n",
      "=============================\n",
      "Universe actual size:\n",
      "527\n",
      "CPC actual size:\n",
      "13\n",
      "=============================\n",
      "Universe actual size:\n",
      "526\n",
      "CPC actual size:\n",
      "14\n",
      "=============================\n",
      "Universe actual size:\n",
      "525\n",
      "CPC actual size:\n",
      "15\n",
      "=============================\n",
      "Universe actual size:\n",
      "524\n",
      "CPC actual size:\n",
      "16\n"
     ]
    },
    {
     "ename": "KeyboardInterrupt",
     "evalue": "",
     "output_type": "error",
     "traceback": [
      "\u001b[0;31m---------------------------------------------------------------------------\u001b[0m",
      "\u001b[0;31mKeyboardInterrupt\u001b[0m                         Traceback (most recent call last)",
      "\u001b[0;32m<ipython-input-20-dd09c267fa56>\u001b[0m in \u001b[0;36m<module>\u001b[0;34m()\u001b[0m\n\u001b[1;32m      1\u001b[0m \u001b[0malpha\u001b[0m\u001b[0;34m=\u001b[0m\u001b[0;36m0.05\u001b[0m\u001b[0;34m\u001b[0m\u001b[0m\n\u001b[0;32m----> 2\u001b[0;31m \u001b[0mPC\u001b[0m\u001b[0;34m=\u001b[0m\u001b[0mMMPC\u001b[0m\u001b[0;34m(\u001b[0m\u001b[0;34m'Pvalue'\u001b[0m\u001b[0;34m,\u001b[0m\u001b[0mX\u001b[0m\u001b[0;34m,\u001b[0m\u001b[0malpha\u001b[0m\u001b[0;34m)\u001b[0m\u001b[0;34m\u001b[0m\u001b[0m\n\u001b[0m\u001b[1;32m      3\u001b[0m \u001b[0mprint\u001b[0m\u001b[0;34m(\u001b[0m\u001b[0mPC\u001b[0m\u001b[0;34m)\u001b[0m\u001b[0;34m\u001b[0m\u001b[0m\n",
      "\u001b[0;32m<ipython-input-17-982ff718a2b6>\u001b[0m in \u001b[0;36mMMPC\u001b[0;34m(TargetNode, X, alpha)\u001b[0m\n\u001b[1;32m      5\u001b[0m     \u001b[0mX\u001b[0m \u001b[0;34m=\u001b[0m \u001b[0marrayX\u001b[0m\u001b[0;34m(\u001b[0m\u001b[0mX\u001b[0m\u001b[0;34m)\u001b[0m\u001b[0;34m\u001b[0m\u001b[0m\n\u001b[1;32m      6\u001b[0m     \u001b[0mprint\u001b[0m\u001b[0;34m(\u001b[0m\u001b[0mlen\u001b[0m\u001b[0;34m(\u001b[0m\u001b[0mX\u001b[0m\u001b[0;34m)\u001b[0m\u001b[0;34m)\u001b[0m\u001b[0;34m\u001b[0m\u001b[0m\n\u001b[0;32m----> 7\u001b[0;31m     \u001b[0mCPC\u001b[0m \u001b[0;34m=\u001b[0m \u001b[0mMMPC_\u001b[0m\u001b[0;34m(\u001b[0m\u001b[0mTargetNode\u001b[0m\u001b[0;34m,\u001b[0m\u001b[0mUniverse\u001b[0m\u001b[0;34m,\u001b[0m\u001b[0mX\u001b[0m\u001b[0;34m,\u001b[0m\u001b[0malpha\u001b[0m\u001b[0;34m)\u001b[0m\u001b[0;34m\u001b[0m\u001b[0m\n\u001b[0m\u001b[1;32m      8\u001b[0m     \u001b[0;32mreturn\u001b[0m \u001b[0mCPC\u001b[0m\u001b[0;34m\u001b[0m\u001b[0m\n",
      "\u001b[0;32m<ipython-input-19-336c7b4dd9fb>\u001b[0m in \u001b[0;36mMMPC_\u001b[0;34m(TargetNode, Universe, X, alpha)\u001b[0m\n\u001b[1;32m      6\u001b[0m     \u001b[0;32mwhile\u001b[0m \u001b[0mlen\u001b[0m\u001b[0;34m(\u001b[0m\u001b[0mUniverse\u001b[0m\u001b[0;34m)\u001b[0m\u001b[0;34m>\u001b[0m\u001b[0;36m0\u001b[0m\u001b[0;34m:\u001b[0m\u001b[0;34m\u001b[0m\u001b[0m\n\u001b[1;32m      7\u001b[0m         \u001b[0mCPC_old\u001b[0m \u001b[0;34m=\u001b[0m \u001b[0mlist\u001b[0m\u001b[0;34m(\u001b[0m\u001b[0mCPC\u001b[0m\u001b[0;34m)\u001b[0m \u001b[0;31m# copy\u001b[0m\u001b[0;34m\u001b[0m\u001b[0m\n\u001b[0;32m----> 8\u001b[0;31m         \u001b[0mmaxminheur\u001b[0m\u001b[0;34m=\u001b[0m\u001b[0mMaxMinHeuristic\u001b[0m\u001b[0;34m(\u001b[0m\u001b[0mTargetNode\u001b[0m\u001b[0;34m,\u001b[0m\u001b[0mCPC\u001b[0m\u001b[0;34m,\u001b[0m\u001b[0mlist\u001b[0m\u001b[0;34m(\u001b[0m\u001b[0mUniverse\u001b[0m\u001b[0;34m)\u001b[0m\u001b[0;34m,\u001b[0m\u001b[0mX\u001b[0m\u001b[0;34m,\u001b[0m\u001b[0malpha\u001b[0m\u001b[0;34m)\u001b[0m\u001b[0;34m\u001b[0m\u001b[0m\n\u001b[0m\u001b[1;32m      9\u001b[0m         \u001b[0;31m# maxminheur = [F, assocF, Universe]\u001b[0m\u001b[0;34m\u001b[0m\u001b[0;34m\u001b[0m\u001b[0m\n\u001b[1;32m     10\u001b[0m         \u001b[0mF\u001b[0m \u001b[0;34m=\u001b[0m \u001b[0mmaxminheur\u001b[0m\u001b[0;34m[\u001b[0m\u001b[0;36m0\u001b[0m\u001b[0;34m]\u001b[0m\u001b[0;34m\u001b[0m\u001b[0m\n",
      "\u001b[0;32m<ipython-input-15-ee00567a85e3>\u001b[0m in \u001b[0;36mMaxMinHeuristic\u001b[0;34m(TargetNode, CPC, Universe, X, alpha)\u001b[0m\n\u001b[1;32m     11\u001b[0m         \u001b[0;32mif\u001b[0m \u001b[0;34m(\u001b[0m\u001b[0mlen\u001b[0m\u001b[0;34m(\u001b[0m\u001b[0mUniverse\u001b[0m\u001b[0;34m[\u001b[0m\u001b[0mi\u001b[0m\u001b[0;34m]\u001b[0m\u001b[0;34m)\u001b[0m\u001b[0;34m==\u001b[0m\u001b[0;36m0\u001b[0m\u001b[0;34m)\u001b[0m\u001b[0;34m:\u001b[0m\u001b[0;34m\u001b[0m\u001b[0m\n\u001b[1;32m     12\u001b[0m             \u001b[0;32mcontinue\u001b[0m\u001b[0;34m\u001b[0m\u001b[0m\n\u001b[0;32m---> 13\u001b[0;31m         \u001b[0mminAssoc\u001b[0m \u001b[0;34m=\u001b[0m \u001b[0mMinAssoc\u001b[0m\u001b[0;34m(\u001b[0m\u001b[0mTargetNode\u001b[0m\u001b[0;34m,\u001b[0m\u001b[0mUniverse\u001b[0m\u001b[0;34m[\u001b[0m\u001b[0mi\u001b[0m\u001b[0;34m]\u001b[0m\u001b[0;34m,\u001b[0m \u001b[0mZ\u001b[0m\u001b[0;34m,\u001b[0m\u001b[0mfixedCondVars\u001b[0m\u001b[0;34m,\u001b[0m \u001b[0mX\u001b[0m\u001b[0;34m,\u001b[0m\u001b[0malpha\u001b[0m\u001b[0;34m)\u001b[0m\u001b[0;34m\u001b[0m\u001b[0m\n\u001b[0m\u001b[1;32m     14\u001b[0m         \u001b[0;31m#print(minAssoc)\u001b[0m\u001b[0;34m\u001b[0m\u001b[0;34m\u001b[0m\u001b[0m\n\u001b[1;32m     15\u001b[0m         \u001b[0;32mif\u001b[0m \u001b[0mminAssoc\u001b[0m\u001b[0;34m>\u001b[0m\u001b[0massocF\u001b[0m\u001b[0;34m:\u001b[0m\u001b[0;34m\u001b[0m\u001b[0m\n",
      "\u001b[0;32m<ipython-input-14-bc751e51303a>\u001b[0m in \u001b[0;36mMinAssoc\u001b[0;34m(TargetNode, Xi, Z, fixedCondVars, X, alpha)\u001b[0m\n\u001b[1;32m     11\u001b[0m             \u001b[0msubsetZ\u001b[0m \u001b[0;34m=\u001b[0m \u001b[0mgetZsubset\u001b[0m\u001b[0;34m(\u001b[0m\u001b[0mIDsubsetZ_bin\u001b[0m\u001b[0;34m,\u001b[0m\u001b[0mZ\u001b[0m\u001b[0;34m)\u001b[0m\u001b[0;34m\u001b[0m\u001b[0m\n\u001b[1;32m     12\u001b[0m             \u001b[0;31m#print(len(Xi))\u001b[0m\u001b[0;34m\u001b[0m\u001b[0;34m\u001b[0m\u001b[0m\n\u001b[0;32m---> 13\u001b[0;31m             \u001b[0msubsetZ_assoc\u001b[0m\u001b[0;34m.\u001b[0m\u001b[0mappend\u001b[0m\u001b[0;34m(\u001b[0m\u001b[0mDep\u001b[0m\u001b[0;34m(\u001b[0m\u001b[0mTargetNode\u001b[0m\u001b[0;34m,\u001b[0m \u001b[0mXi\u001b[0m\u001b[0;34m,\u001b[0m \u001b[0mfixedCondVars\u001b[0m\u001b[0;34m+\u001b[0m\u001b[0msubsetZ\u001b[0m\u001b[0;34m,\u001b[0m\u001b[0mX\u001b[0m\u001b[0;34m,\u001b[0m\u001b[0malpha\u001b[0m\u001b[0;34m)\u001b[0m\u001b[0;34m)\u001b[0m\u001b[0;34m\u001b[0m\u001b[0m\n\u001b[0m\u001b[1;32m     14\u001b[0m             \u001b[0;31m#print(subsetZ_assoc[IDsubsetZ_dec])\u001b[0m\u001b[0;34m\u001b[0m\u001b[0;34m\u001b[0m\u001b[0m\n\u001b[1;32m     15\u001b[0m             \u001b[0;32mif\u001b[0m \u001b[0msubsetZ_assoc\u001b[0m\u001b[0;34m[\u001b[0m\u001b[0mIDsubsetZ_dec\u001b[0m\u001b[0;34m]\u001b[0m \u001b[0;34m<\u001b[0m \u001b[0mmin_assoc\u001b[0m\u001b[0;34m:\u001b[0m\u001b[0;34m\u001b[0m\u001b[0m\n",
      "\u001b[0;31mKeyboardInterrupt\u001b[0m: "
     ]
    }
   ],
   "source": [
    "alpha=0.05\n",
    "PC=MMPC('Pvalue',X,alpha)\n",
    "print(PC)"
   ]
  },
  {
   "cell_type": "code",
   "execution_count": 83,
   "metadata": {},
   "outputs": [
    {
     "name": "stdout",
     "output_type": "stream",
     "text": [
      "1\n",
      "2\n",
      "3\n",
      "4\n",
      "5\n",
      "6\n",
      "7\n",
      "8\n",
      "9\n",
      "10\n"
     ]
    }
   ],
   "source": [
    "results = []\n",
    "for e in PC:    \n",
    "    print(ColumnLookup(X,e))"
   ]
  },
  {
   "cell_type": "code",
   "execution_count": 79,
   "metadata": {},
   "outputs": [
    {
     "data": {
      "text/html": [
       "<div>\n",
       "<style>\n",
       "    .dataframe thead tr:only-child th {\n",
       "        text-align: right;\n",
       "    }\n",
       "\n",
       "    .dataframe thead th {\n",
       "        text-align: left;\n",
       "    }\n",
       "\n",
       "    .dataframe tbody tr th {\n",
       "        vertical-align: top;\n",
       "    }\n",
       "</style>\n",
       "<table border=\"1\" class=\"dataframe\">\n",
       "  <thead>\n",
       "    <tr style=\"text-align: right;\">\n",
       "      <th></th>\n",
       "      <th>Pvalue</th>\n",
       "      <th>C0_C240~E15_E360</th>\n",
       "      <th>C0_C240~E0_E360</th>\n",
       "      <th>C0_C360~E240_E360</th>\n",
       "      <th>C0_C360~E210_E360</th>\n",
       "      <th>C0_C360~E180_E360</th>\n",
       "      <th>C0_C360~E120_E360</th>\n",
       "      <th>C0_C360~E90_E360</th>\n",
       "      <th>C0_C360~E30_E360</th>\n",
       "      <th>C0_C360~E15_E360</th>\n",
       "      <th>C0_C360~E0_E360</th>\n",
       "    </tr>\n",
       "  </thead>\n",
       "  <tbody>\n",
       "    <tr>\n",
       "      <th>0</th>\n",
       "      <td>0</td>\n",
       "      <td>1</td>\n",
       "      <td>1</td>\n",
       "      <td>0</td>\n",
       "      <td>0</td>\n",
       "      <td>0</td>\n",
       "      <td>2</td>\n",
       "      <td>0</td>\n",
       "      <td>0</td>\n",
       "      <td>0</td>\n",
       "      <td>0</td>\n",
       "    </tr>\n",
       "    <tr>\n",
       "      <th>1</th>\n",
       "      <td>0</td>\n",
       "      <td>0</td>\n",
       "      <td>2</td>\n",
       "      <td>2</td>\n",
       "      <td>2</td>\n",
       "      <td>2</td>\n",
       "      <td>2</td>\n",
       "      <td>2</td>\n",
       "      <td>2</td>\n",
       "      <td>0</td>\n",
       "      <td>2</td>\n",
       "    </tr>\n",
       "    <tr>\n",
       "      <th>2</th>\n",
       "      <td>0</td>\n",
       "      <td>2</td>\n",
       "      <td>2</td>\n",
       "      <td>2</td>\n",
       "      <td>2</td>\n",
       "      <td>2</td>\n",
       "      <td>2</td>\n",
       "      <td>2</td>\n",
       "      <td>2</td>\n",
       "      <td>2</td>\n",
       "      <td>2</td>\n",
       "    </tr>\n",
       "    <tr>\n",
       "      <th>3</th>\n",
       "      <td>0</td>\n",
       "      <td>0</td>\n",
       "      <td>2</td>\n",
       "      <td>2</td>\n",
       "      <td>0</td>\n",
       "      <td>0</td>\n",
       "      <td>0</td>\n",
       "      <td>0</td>\n",
       "      <td>0</td>\n",
       "      <td>0</td>\n",
       "      <td>2</td>\n",
       "    </tr>\n",
       "    <tr>\n",
       "      <th>4</th>\n",
       "      <td>0</td>\n",
       "      <td>2</td>\n",
       "      <td>0</td>\n",
       "      <td>1</td>\n",
       "      <td>1</td>\n",
       "      <td>1</td>\n",
       "      <td>1</td>\n",
       "      <td>2</td>\n",
       "      <td>2</td>\n",
       "      <td>1</td>\n",
       "      <td>1</td>\n",
       "    </tr>\n",
       "  </tbody>\n",
       "</table>\n",
       "</div>"
      ],
      "text/plain": [
       "   Pvalue  C0_C240~E15_E360  C0_C240~E0_E360  C0_C360~E240_E360  \\\n",
       "0       0                 1                1                  0   \n",
       "1       0                 0                2                  2   \n",
       "2       0                 2                2                  2   \n",
       "3       0                 0                2                  2   \n",
       "4       0                 2                0                  1   \n",
       "\n",
       "   C0_C360~E210_E360  C0_C360~E180_E360  C0_C360~E120_E360  C0_C360~E90_E360  \\\n",
       "0                  0                  0                  2                 0   \n",
       "1                  2                  2                  2                 2   \n",
       "2                  2                  2                  2                 2   \n",
       "3                  0                  0                  0                 0   \n",
       "4                  1                  1                  1                 2   \n",
       "\n",
       "   C0_C360~E30_E360  C0_C360~E15_E360  C0_C360~E0_E360  \n",
       "0                 0                 0                0  \n",
       "1                 2                 0                2  \n",
       "2                 2                 2                2  \n",
       "3                 0                 0                2  \n",
       "4                 2                 1                1  "
      ]
     },
     "execution_count": 79,
     "metadata": {},
     "output_type": "execute_result"
    }
   ],
   "source": [
    "X.head()"
   ]
  },
  {
   "cell_type": "code",
   "execution_count": null,
   "metadata": {},
   "outputs": [],
   "source": [
    "fff*fff"
   ]
  },
  {
   "cell_type": "code",
   "execution_count": null,
   "metadata": {},
   "outputs": [],
   "source": [
    "def modify_list(arr):\n",
    "    print(arr.pop())\n",
    "    print(arr.pop())\n",
    "    return\n",
    "\n",
    "arr=[1,2,3]\n",
    "print(arr)\n",
    "modify_list(arr)\n",
    "print(arr)\n",
    "    "
   ]
  },
  {
   "cell_type": "code",
   "execution_count": null,
   "metadata": {},
   "outputs": [],
   "source": [
    "rrr= np.multiply(np.ones((2,2)),0)\n",
    "rrr[np.where(rrr==1)]"
   ]
  },
  {
   "cell_type": "code",
   "execution_count": null,
   "metadata": {},
   "outputs": [],
   "source": [
    "b=np.array(data)"
   ]
  },
  {
   "cell_type": "code",
   "execution_count": null,
   "metadata": {},
   "outputs": [],
   "source": [
    "b[1]"
   ]
  },
  {
   "cell_type": "code",
   "execution_count": null,
   "metadata": {},
   "outputs": [],
   "source": [
    "b[2]"
   ]
  },
  {
   "cell_type": "code",
   "execution_count": null,
   "metadata": {},
   "outputs": [],
   "source": [
    "b[3]"
   ]
  },
  {
   "cell_type": "code",
   "execution_count": null,
   "metadata": {},
   "outputs": [],
   "source": [
    "c=b[0]"
   ]
  },
  {
   "cell_type": "code",
   "execution_count": null,
   "metadata": {},
   "outputs": [],
   "source": [
    "c"
   ]
  },
  {
   "cell_type": "code",
   "execution_count": null,
   "metadata": {},
   "outputs": [],
   "source": [
    "c[np.where(c<1)].size"
   ]
  },
  {
   "cell_type": "code",
   "execution_count": null,
   "metadata": {},
   "outputs": [],
   "source": [
    "rrr=np.array([1,2,2,1])\n",
    "ccc=np.array([3,2,4,1])"
   ]
  },
  {
   "cell_type": "code",
   "execution_count": null,
   "metadata": {},
   "outputs": [],
   "source": [
    "rrr+ccc"
   ]
  },
  {
   "cell_type": "code",
   "execution_count": null,
   "metadata": {},
   "outputs": [],
   "source": [
    "a=[1,2,2]\n",
    "b=[2,3,4]\n",
    "a+b"
   ]
  },
  {
   "cell_type": "code",
   "execution_count": null,
   "metadata": {},
   "outputs": [],
   "source": [
    "a=1+2+4\\\n",
    "  +5"
   ]
  },
  {
   "cell_type": "code",
   "execution_count": null,
   "metadata": {},
   "outputs": [],
   "source": [
    "rrr*3"
   ]
  },
  {
   "cell_type": "code",
   "execution_count": null,
   "metadata": {},
   "outputs": [],
   "source": []
  }
 ],
 "metadata": {
  "kernelspec": {
   "display_name": "Python 3",
   "language": "python",
   "name": "python3"
  },
  "language_info": {
   "codemirror_mode": {
    "name": "ipython",
    "version": 3
   },
   "file_extension": ".py",
   "mimetype": "text/x-python",
   "name": "python",
   "nbconvert_exporter": "python",
   "pygments_lexer": "ipython3",
   "version": "3.6.3"
  }
 },
 "nbformat": 4,
 "nbformat_minor": 2
}
